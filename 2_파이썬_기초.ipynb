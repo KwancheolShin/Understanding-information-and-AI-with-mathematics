{
  "nbformat": 4,
  "nbformat_minor": 0,
  "metadata": {
    "colab": {
      "provenance": []
    },
    "kernelspec": {
      "name": "python3",
      "display_name": "Python 3"
    },
    "language_info": {
      "name": "python"
    }
  },
  "cells": [
    {
      "cell_type": "markdown",
      "source": [
        "파이썬 버전확인하기"
      ],
      "metadata": {
        "id": "hfZ_nmDD1xgE"
      }
    },
    {
      "cell_type": "code",
      "source": [
        "!python --version"
      ],
      "metadata": {
        "colab": {
          "base_uri": "https://localhost:8080/"
        },
        "id": "koG72KQL1wdi",
        "outputId": "61d08331-c11b-4229-ac00-40bed48dfd42"
      },
      "execution_count": null,
      "outputs": [
        {
          "output_type": "stream",
          "name": "stdout",
          "text": [
            "Python 3.11.11\n"
          ]
        }
      ]
    },
    {
      "cell_type": "markdown",
      "source": [
        "#자료형\n",
        "프로그래밍 언어에는 자료형data type이라는 것이 있다. 자료형이란 데이터의 성질을 나타내는 것으로, 예를 들어 정수, 실수, 문자열과 같은 형태가 있다. type() 함수로 특정 데이터의 자료형을 알아볼 수 있다."
      ],
      "metadata": {
        "id": "pVQld5G72E3i"
      }
    },
    {
      "cell_type": "code",
      "source": [
        "type(10)"
      ],
      "metadata": {
        "colab": {
          "base_uri": "https://localhost:8080/"
        },
        "id": "OCi9jfPF1zzl",
        "outputId": "ded00c64-3d7f-4b87-c2c8-49d58e90cfc1"
      },
      "execution_count": null,
      "outputs": [
        {
          "output_type": "execute_result",
          "data": {
            "text/plain": [
              "int"
            ]
          },
          "metadata": {},
          "execution_count": 71
        }
      ]
    },
    {
      "cell_type": "code",
      "source": [
        "print(type(10)) #10은 int라는 클래스(자료형)다."
      ],
      "metadata": {
        "colab": {
          "base_uri": "https://localhost:8080/"
        },
        "id": "CQTFSLX_1z2t",
        "outputId": "e210f12b-f3e7-46fb-9264-3ef6fdd7b8b3"
      },
      "execution_count": null,
      "outputs": [
        {
          "output_type": "stream",
          "name": "stdout",
          "text": [
            "<class 'int'>\n"
          ]
        }
      ]
    },
    {
      "cell_type": "code",
      "source": [
        "type(2.718)\n"
      ],
      "metadata": {
        "colab": {
          "base_uri": "https://localhost:8080/"
        },
        "id": "QiWODrAu1z5g",
        "outputId": "73400428-29c1-4f9c-c2a4-b5767ac16b52"
      },
      "execution_count": null,
      "outputs": [
        {
          "output_type": "execute_result",
          "data": {
            "text/plain": [
              "float"
            ]
          },
          "metadata": {},
          "execution_count": 138
        }
      ]
    },
    {
      "cell_type": "code",
      "source": [
        "type(\"Hello\")"
      ],
      "metadata": {
        "colab": {
          "base_uri": "https://localhost:8080/"
        },
        "id": "10o9YgAV1z8s",
        "outputId": "78f1a02c-3552-4dc3-88df-ce71fec31edc"
      },
      "execution_count": null,
      "outputs": [
        {
          "output_type": "execute_result",
          "data": {
            "text/plain": [
              "str"
            ]
          },
          "metadata": {},
          "execution_count": 139
        }
      ]
    },
    {
      "cell_type": "markdown",
      "source": [
        "#변수"
      ],
      "metadata": {
        "id": "fPdbvxJz213J"
      }
    },
    {
      "cell_type": "code",
      "source": [
        "x=10\n",
        "print(x)"
      ],
      "metadata": {
        "colab": {
          "base_uri": "https://localhost:8080/"
        },
        "id": "lNr9e7il1z-0",
        "outputId": "ff3fcf48-4ff7-42af-a938-b54e0a1a7a2d"
      },
      "execution_count": null,
      "outputs": [
        {
          "output_type": "stream",
          "name": "stdout",
          "text": [
            "10\n"
          ]
        }
      ]
    },
    {
      "cell_type": "code",
      "source": [
        "x=100\n",
        "print(x)"
      ],
      "metadata": {
        "colab": {
          "base_uri": "https://localhost:8080/"
        },
        "id": "aa7vNR8I10BQ",
        "outputId": "c4108af3-c414-4c08-fdd6-310dc9edb716"
      },
      "execution_count": null,
      "outputs": [
        {
          "output_type": "stream",
          "name": "stdout",
          "text": [
            "100\n"
          ]
        }
      ]
    },
    {
      "cell_type": "code",
      "source": [
        "y = 3.14\n",
        "x*y"
      ],
      "metadata": {
        "colab": {
          "base_uri": "https://localhost:8080/"
        },
        "id": "JNpMmrFW3Mnk",
        "outputId": "c344b19e-87df-4c76-ddd8-2fe60b001851"
      },
      "execution_count": null,
      "outputs": [
        {
          "output_type": "execute_result",
          "data": {
            "text/plain": [
              "314.0"
            ]
          },
          "metadata": {},
          "execution_count": 82
        }
      ]
    },
    {
      "cell_type": "code",
      "source": [
        "type(x*y)"
      ],
      "metadata": {
        "colab": {
          "base_uri": "https://localhost:8080/"
        },
        "id": "oCRP-Q0c3Qul",
        "outputId": "94ec19fe-8b6d-421a-a39f-c27301ea7759"
      },
      "execution_count": null,
      "outputs": [
        {
          "output_type": "execute_result",
          "data": {
            "text/plain": [
              "float"
            ]
          },
          "metadata": {},
          "execution_count": 83
        }
      ]
    },
    {
      "cell_type": "markdown",
      "source": [
        "파이썬은 **동적 언어**로 분류되는 프로그래밍 언어이다. 동적이라 함은 변수의 자료형을 상황에 맞게 자동으로 결정한다는 뜻이다."
      ],
      "metadata": {
        "id": "awmu7V2g3UIp"
      }
    },
    {
      "cell_type": "markdown",
      "source": [
        "#자료구조\n",
        "파이썬에서 사용하는 대표적인 자료구조는 리스트list, 튜플tuple, 딕셔너리dictionaly, 셋set이 있다.\n",
        "#리스트\n",
        "여러 데이터를 리스트list로 정리할 수 있다."
      ],
      "metadata": {
        "id": "OZ0YMB5O3ker"
      }
    },
    {
      "cell_type": "code",
      "source": [
        "a = [1,2,'three','four',5]\n",
        "print(a)"
      ],
      "metadata": {
        "colab": {
          "base_uri": "https://localhost:8080/"
        },
        "id": "zQNjAi2F34dm",
        "outputId": "c9d98c89-1671-4d39-8306-34c3c4191d03"
      },
      "execution_count": null,
      "outputs": [
        {
          "output_type": "stream",
          "name": "stdout",
          "text": [
            "[1, 2, 'three', 'four', 5]\n"
          ]
        }
      ]
    },
    {
      "cell_type": "code",
      "source": [
        "print(a[0]) #리스트는 인덱스index로 접근할 수 있다. 인덱스는 앞에서는 0부터, 뒤에서는 -1부터 시작한다.\n"
      ],
      "metadata": {
        "colab": {
          "base_uri": "https://localhost:8080/"
        },
        "id": "6o3HQqQm3_3s",
        "outputId": "eb9b1ae7-9788-4ce5-8d92-d15cb072a93c"
      },
      "execution_count": null,
      "outputs": [
        {
          "output_type": "stream",
          "name": "stdout",
          "text": [
            "10\n"
          ]
        }
      ]
    },
    {
      "cell_type": "code",
      "source": [
        "print(a[-1])"
      ],
      "metadata": {
        "colab": {
          "base_uri": "https://localhost:8080/"
        },
        "id": "sKFSrSti4vLE",
        "outputId": "e1a7d1c3-4b2b-4bbf-9571-b96d42bdf585"
      },
      "execution_count": null,
      "outputs": [
        {
          "output_type": "stream",
          "name": "stdout",
          "text": [
            "5\n"
          ]
        }
      ]
    },
    {
      "cell_type": "code",
      "source": [
        "print(a[0],a[1],a[2])"
      ],
      "metadata": {
        "colab": {
          "base_uri": "https://localhost:8080/"
        },
        "id": "u6Mwc2Pd4B08",
        "outputId": "ba364e85-ae61-46a0-c643-347d6676ec08"
      },
      "execution_count": null,
      "outputs": [
        {
          "output_type": "stream",
          "name": "stdout",
          "text": [
            "1 2 three\n"
          ]
        }
      ]
    },
    {
      "cell_type": "code",
      "source": [
        "print(a[0:2]) #슬라이싱을 이용하면 범위를 지정해 부분 리스트를 얻을 수 있다."
      ],
      "metadata": {
        "colab": {
          "base_uri": "https://localhost:8080/"
        },
        "id": "wwNoYinB3qy_",
        "outputId": "b76fb4b7-28df-4323-a8ae-2ba08d29bd08"
      },
      "execution_count": null,
      "outputs": [
        {
          "output_type": "stream",
          "name": "stdout",
          "text": [
            "[10, 2]\n"
          ]
        }
      ]
    },
    {
      "cell_type": "code",
      "source": [
        "print(a[:3]) #처음부터 세번째까지"
      ],
      "metadata": {
        "colab": {
          "base_uri": "https://localhost:8080/"
        },
        "id": "-2H2GNXJ4mje",
        "outputId": "e92dd0d1-88d9-4f13-dd0a-534e77391207"
      },
      "execution_count": null,
      "outputs": [
        {
          "output_type": "stream",
          "name": "stdout",
          "text": [
            "[10, 2, 'three']\n"
          ]
        }
      ]
    },
    {
      "cell_type": "code",
      "source": [
        "print(a[:-2])"
      ],
      "metadata": {
        "colab": {
          "base_uri": "https://localhost:8080/"
        },
        "id": "9Lzzb7V64y09",
        "outputId": "378fbae4-cf2f-4dd4-fe8e-8a90cf2be784"
      },
      "execution_count": null,
      "outputs": [
        {
          "output_type": "stream",
          "name": "stdout",
          "text": [
            "[10, 2, 'three']\n"
          ]
        }
      ]
    },
    {
      "cell_type": "code",
      "source": [
        "len(a) #길이"
      ],
      "metadata": {
        "colab": {
          "base_uri": "https://localhost:8080/"
        },
        "id": "nGuklozS4ZKN",
        "outputId": "045f1be5-272b-4011-cb0f-5b25c3a3a6b0"
      },
      "execution_count": null,
      "outputs": [
        {
          "output_type": "execute_result",
          "data": {
            "text/plain": [
              "5"
            ]
          },
          "metadata": {},
          "execution_count": 88
        }
      ]
    },
    {
      "cell_type": "code",
      "source": [
        "a[0] = 10 #리스트의 값을 바꿀수 있다.\n",
        "print(a)"
      ],
      "metadata": {
        "colab": {
          "base_uri": "https://localhost:8080/"
        },
        "id": "0M9qH--N4dRG",
        "outputId": "3cd1860c-16fd-4bd9-9988-be5b8e80d1c5"
      },
      "execution_count": null,
      "outputs": [
        {
          "output_type": "stream",
          "name": "stdout",
          "text": [
            "[10, 2, 'three', 'four', 5]\n"
          ]
        }
      ]
    },
    {
      "cell_type": "markdown",
      "source": [
        "#딕셔너리\n",
        "리스트는 인덱스 번호로 0,1,2, ... 순으로 값을 지정하는 반면, 딕셔너리dictionary는 키key와 값value을 한 쌍으로 저장한다. 즉, 영한사전처럼 단어와 그 의미를 짝지어 저장한다. 중괄호{}로 정의하며 키와 값은 콜론:으로 연결한다.\n",
        "키를 이용하여 접근해서 값을 호출하고 변경하고 추가하고 삭제할 수 있다."
      ],
      "metadata": {
        "id": "YCEERK0k44aU"
      }
    },
    {
      "cell_type": "code",
      "source": [
        "me = {\"이름\":\"신관철\", \"키\":195, \"몸무게\":90, \"나이\":20, \"학교\":\"이화여자대학교\"}\n",
        "print(me)"
      ],
      "metadata": {
        "colab": {
          "base_uri": "https://localhost:8080/"
        },
        "id": "GKJKyzG05IE0",
        "outputId": "b73652b1-3e65-4433-a430-855ac48f5acc"
      },
      "execution_count": null,
      "outputs": [
        {
          "output_type": "stream",
          "name": "stdout",
          "text": [
            "{'이름': '신관철', '키': 195, '몸무게': 90, '나이': 20, '학교': '이화여자대학교'}\n"
          ]
        }
      ]
    },
    {
      "cell_type": "code",
      "source": [
        "me[\"키\"]"
      ],
      "metadata": {
        "colab": {
          "base_uri": "https://localhost:8080/"
        },
        "id": "RGJCvnam452u",
        "outputId": "1103b94c-9d07-47af-97ef-7331441696ca"
      },
      "execution_count": null,
      "outputs": [
        {
          "output_type": "execute_result",
          "data": {
            "text/plain": [
              "195"
            ]
          },
          "metadata": {},
          "execution_count": 100
        }
      ]
    },
    {
      "cell_type": "code",
      "source": [
        "me[\"키\"] = 185"
      ],
      "metadata": {
        "id": "oAewGTU24jb0"
      },
      "execution_count": null,
      "outputs": []
    },
    {
      "cell_type": "code",
      "source": [
        "print(me)"
      ],
      "metadata": {
        "colab": {
          "base_uri": "https://localhost:8080/"
        },
        "id": "Mta3x3eH4hGY",
        "outputId": "224257b0-b27d-4373-88f0-45635be7f86d"
      },
      "execution_count": null,
      "outputs": [
        {
          "output_type": "stream",
          "name": "stdout",
          "text": [
            "{'이름': '신관철', '키': 185, '몸무게': 90, '나이': 20, '학교': '이화여자대학교'}\n"
          ]
        }
      ]
    },
    {
      "cell_type": "code",
      "source": [
        "me[\"주소\"] = \"서울\" # 딕셔너리 값 추가\n",
        "print(me)"
      ],
      "metadata": {
        "colab": {
          "base_uri": "https://localhost:8080/"
        },
        "id": "-ALbBqaS3SZt",
        "outputId": "cceca219-b26e-43dc-a943-7b2fe483f855"
      },
      "execution_count": null,
      "outputs": [
        {
          "output_type": "stream",
          "name": "stdout",
          "text": [
            "{'이름': '신관철', '키': 185, '몸무게': 90, '나이': 20, '학교': '이화여자대학교', '주소': '서울'}\n"
          ]
        }
      ]
    },
    {
      "cell_type": "code",
      "source": [
        "del me[\"주소\"] #디셔러니 값 삭제\n",
        "print(me)"
      ],
      "metadata": {
        "colab": {
          "base_uri": "https://localhost:8080/"
        },
        "id": "TW6VU7AD54PU",
        "outputId": "adc05878-2f5a-4c6e-aaf8-f614b5976274"
      },
      "execution_count": null,
      "outputs": [
        {
          "output_type": "stream",
          "name": "stdout",
          "text": [
            "{'이름': '신관철', '키': 185, '몸무게': 90, '나이': 20, '학교': '이화여자대학교'}\n"
          ]
        }
      ]
    },
    {
      "cell_type": "code",
      "source": [
        "for key,value in me.items(): #반복문으로 출력하기\n",
        "  print(key,value)"
      ],
      "metadata": {
        "colab": {
          "base_uri": "https://localhost:8080/"
        },
        "id": "CxKkNsss57ac",
        "outputId": "e5a36ab8-4b8b-492d-beec-ec9e2112ea9b"
      },
      "execution_count": null,
      "outputs": [
        {
          "output_type": "stream",
          "name": "stdout",
          "text": [
            "이름 신관철\n",
            "키 185\n",
            "몸무게 90\n",
            "나이 20\n",
            "학교 이화여자대학교\n"
          ]
        }
      ]
    },
    {
      "cell_type": "markdown",
      "source": [
        "#bool\n",
        "bool 자료형은 True와 False라는 두 값 중 하나를 취한다.\n",
        "bool에는 and, or, not 연산자를 사용할 수 있다."
      ],
      "metadata": {
        "id": "B_KAF2o56JRF"
      }
    },
    {
      "cell_type": "code",
      "source": [
        "hungry = True\n",
        "sleepy = False"
      ],
      "metadata": {
        "id": "saMIobzL6WC0"
      },
      "execution_count": null,
      "outputs": []
    },
    {
      "cell_type": "code",
      "source": [
        "type(hungry)"
      ],
      "metadata": {
        "colab": {
          "base_uri": "https://localhost:8080/"
        },
        "id": "dmnn1RNv5_ac",
        "outputId": "c4893b91-b7f6-491d-edf0-5e0dc47234c1"
      },
      "execution_count": null,
      "outputs": [
        {
          "output_type": "execute_result",
          "data": {
            "text/plain": [
              "bool"
            ]
          },
          "metadata": {},
          "execution_count": 109
        }
      ]
    },
    {
      "cell_type": "code",
      "source": [
        "print(hungry)"
      ],
      "metadata": {
        "colab": {
          "base_uri": "https://localhost:8080/"
        },
        "id": "VYeb_U5K6cal",
        "outputId": "2f6da5d3-4e09-45e2-b0fc-4f26e428bb7b"
      },
      "execution_count": null,
      "outputs": [
        {
          "output_type": "stream",
          "name": "stdout",
          "text": [
            "True\n"
          ]
        }
      ]
    },
    {
      "cell_type": "code",
      "source": [
        "print(int(hungry))"
      ],
      "metadata": {
        "colab": {
          "base_uri": "https://localhost:8080/"
        },
        "id": "vcH4RG3f6egb",
        "outputId": "f00a7a7d-3011-441a-b45f-295829738a60"
      },
      "execution_count": null,
      "outputs": [
        {
          "output_type": "stream",
          "name": "stdout",
          "text": [
            "1\n"
          ]
        }
      ]
    },
    {
      "cell_type": "code",
      "source": [
        "print(int(sleepy))"
      ],
      "metadata": {
        "colab": {
          "base_uri": "https://localhost:8080/"
        },
        "id": "fzwRdhUq6h7s",
        "outputId": "cb98a5a7-7dd8-40fc-f717-90d5bc151321"
      },
      "execution_count": null,
      "outputs": [
        {
          "output_type": "stream",
          "name": "stdout",
          "text": [
            "0\n"
          ]
        }
      ]
    },
    {
      "cell_type": "markdown",
      "source": [
        "#논리연산자(and,or,not)"
      ],
      "metadata": {
        "id": "J7hPUZ6t7Lsx"
      }
    },
    {
      "cell_type": "code",
      "source": [
        "print(hungry and hungry)\n",
        "print(hungry and sleepy)\n",
        "print(sleepy and hungry)\n",
        "print(sleepy and sleepy)"
      ],
      "metadata": {
        "colab": {
          "base_uri": "https://localhost:8080/"
        },
        "id": "eIhu-7_U6jq1",
        "outputId": "52fc4377-f8ff-4bca-d907-3f8a946a82aa"
      },
      "execution_count": null,
      "outputs": [
        {
          "output_type": "stream",
          "name": "stdout",
          "text": [
            "True\n",
            "False\n",
            "False\n",
            "False\n"
          ]
        }
      ]
    },
    {
      "cell_type": "code",
      "source": [
        "print(hungry or hungry)\n",
        "print(hungry or sleepy)\n",
        "print(sleepy or hungry)\n",
        "print(sleepy or sleepy)"
      ],
      "metadata": {
        "colab": {
          "base_uri": "https://localhost:8080/"
        },
        "id": "73uB3EiT6_Au",
        "outputId": "b8a74ecc-63e7-40d1-c80c-0b9756ab1ba4"
      },
      "execution_count": null,
      "outputs": [
        {
          "output_type": "stream",
          "name": "stdout",
          "text": [
            "True\n",
            "True\n",
            "True\n",
            "False\n"
          ]
        }
      ]
    },
    {
      "cell_type": "code",
      "source": [
        "print(not hungry)\n",
        "print(not False)"
      ],
      "metadata": {
        "colab": {
          "base_uri": "https://localhost:8080/"
        },
        "id": "efHlwMZx7D7D",
        "outputId": "7c715194-5587-4f8e-b7b7-720a2ac85195"
      },
      "execution_count": null,
      "outputs": [
        {
          "output_type": "stream",
          "name": "stdout",
          "text": [
            "False\n",
            "True\n"
          ]
        }
      ]
    },
    {
      "cell_type": "markdown",
      "source": [
        "#조건문\n",
        "조건에 따라 달리 처리하려면 if/else 문을 사용한다."
      ],
      "metadata": {
        "id": "n7i66LUK7Vid"
      }
    },
    {
      "cell_type": "code",
      "source": [
        "hungry = True\n",
        "\n",
        "if hungry:\n",
        "  print(\"I'm hungry\")"
      ],
      "metadata": {
        "colab": {
          "base_uri": "https://localhost:8080/"
        },
        "id": "Z1vy-tsF7cas",
        "outputId": "11da36aa-5805-4ac3-e2c5-a29dded230b6"
      },
      "execution_count": null,
      "outputs": [
        {
          "output_type": "stream",
          "name": "stdout",
          "text": [
            "I'm hungry\n"
          ]
        }
      ]
    },
    {
      "cell_type": "code",
      "source": [
        "hungry = False\n",
        "if hungry:\n",
        "  print(\"I'm hungry.\")\n",
        "else:\n",
        "  print(\"I'm not hungry.\")\n",
        "  print(\"I'm sleepy.\")\n"
      ],
      "metadata": {
        "colab": {
          "base_uri": "https://localhost:8080/"
        },
        "id": "9E7_MZV57ncT",
        "outputId": "a90c3feb-3524-4f9e-bbcd-af9d83555b39"
      },
      "execution_count": null,
      "outputs": [
        {
          "output_type": "stream",
          "name": "stdout",
          "text": [
            "I'm not hungry.\n",
            "I'm sleepy.\n"
          ]
        }
      ]
    },
    {
      "cell_type": "markdown",
      "source": [
        "#for 문"
      ],
      "metadata": {
        "id": "QWvimOEs71eu"
      }
    },
    {
      "cell_type": "code",
      "source": [
        "for i in [1,2,3]:\n",
        "  print(i)"
      ],
      "metadata": {
        "colab": {
          "base_uri": "https://localhost:8080/"
        },
        "id": "IGwnmldJ736m",
        "outputId": "3d7a5eb4-8e46-456f-fb55-68468a7534fb"
      },
      "execution_count": null,
      "outputs": [
        {
          "output_type": "stream",
          "name": "stdout",
          "text": [
            "1\n",
            "2\n",
            "3\n"
          ]
        }
      ]
    },
    {
      "cell_type": "code",
      "source": [
        "for i in range(1,4):\n",
        "  print(i)"
      ],
      "metadata": {
        "colab": {
          "base_uri": "https://localhost:8080/"
        },
        "id": "JwNjm81b77gU",
        "outputId": "de2414d3-66e3-4caf-ce30-9b03d60437d0"
      },
      "execution_count": null,
      "outputs": [
        {
          "output_type": "stream",
          "name": "stdout",
          "text": [
            "1\n",
            "2\n",
            "3\n"
          ]
        }
      ]
    },
    {
      "cell_type": "code",
      "source": [
        "for n in range(1,4):\n",
        "  print(f\"2*{n}+3 = \", 2*n+3)"
      ],
      "metadata": {
        "colab": {
          "base_uri": "https://localhost:8080/"
        },
        "id": "-1aodazR7-U0",
        "outputId": "a6ba9471-33e9-4163-8293-44c7117df9a3"
      },
      "execution_count": null,
      "outputs": [
        {
          "output_type": "stream",
          "name": "stdout",
          "text": [
            "2*1+3 =  5\n",
            "2*2+3 =  7\n",
            "2*3+3 =  9\n"
          ]
        }
      ]
    },
    {
      "cell_type": "markdown",
      "source": [
        "#함수"
      ],
      "metadata": {
        "id": "vkLhKGBQ8Kx5"
      }
    },
    {
      "cell_type": "code",
      "source": [
        "def hello():\n",
        "  print(\"Hello World!\")"
      ],
      "metadata": {
        "id": "H35DdPtq8MJt"
      },
      "execution_count": null,
      "outputs": []
    },
    {
      "cell_type": "code",
      "source": [
        "hello()"
      ],
      "metadata": {
        "colab": {
          "base_uri": "https://localhost:8080/"
        },
        "id": "1tgU8FdD8Q3O",
        "outputId": "844df404-7007-453a-8e1c-eb030e29cde5"
      },
      "execution_count": null,
      "outputs": [
        {
          "output_type": "stream",
          "name": "stdout",
          "text": [
            "Hello World!\n"
          ]
        }
      ]
    },
    {
      "cell_type": "code",
      "source": [
        "def hello(object): #함수는 인수를 취할 수 있다\n",
        "  print(\"Hello \"+ object + \"!\")\n"
      ],
      "metadata": {
        "id": "GOrWmb1Y8Rms"
      },
      "execution_count": null,
      "outputs": []
    },
    {
      "cell_type": "code",
      "source": [
        "hello(\"관철\")"
      ],
      "metadata": {
        "colab": {
          "base_uri": "https://localhost:8080/"
        },
        "id": "cIQr67_m8bkU",
        "outputId": "e087cbb5-371a-45cb-efab-0d843743e104"
      },
      "execution_count": null,
      "outputs": [
        {
          "output_type": "stream",
          "name": "stdout",
          "text": [
            "Hello 관철!\n"
          ]
        }
      ]
    },
    {
      "cell_type": "markdown",
      "source": [
        "#클래스\n",
        "\n",
        "자료형에서 int와 str 등의 자료형을 살펴보았다. 이 자료형들은 type() 함수로 알아볼수 있었다. 이들은 내자된 자료형, 즉 파이썬이 기본으로 제공하는 자료형이다. 한편 개발자가 직접 **클래스class**를 정의해서 독자적인 자료형을 만들 수 있다. 클래스에는 그 클래스만의 전용 함수(메서드)와 속성을 정의할 수 있다.\n",
        "\n",
        "\n",
        "\n",
        "```\n",
        "class 클래스 이름:\n",
        "  def __init__(self,인수,...):   #생성자\n",
        "    ...\n",
        "  def 메서드 이름 1(self, 인수, ...): # 메서드 1\n",
        "    ...\n",
        "  def 메서드 이름 2(self, 인수, ...):  # 메서드 2\n",
        "    ...\n",
        "```\n",
        "\n",
        "클래스의 정의에는 **__init__**라는 특별한 메서드가 있는데, 클래스를 초기화하는 방법을 정의한다. 이를 생성자constructor라고도 하며, 클래스의 인스턴트가 만들어질 때 한 번만 불린다. 파이썬에서는 메서드의 첫 번째 인수로 자신(자신의 인스턴스)를 나타내는 self를 명시적으로 쓰는 것이 특징이다.\n"
      ],
      "metadata": {
        "id": "D3E_Xh2KmcXW"
      }
    },
    {
      "cell_type": "code",
      "execution_count": null,
      "metadata": {
        "colab": {
          "base_uri": "https://localhost:8080/"
        },
        "id": "6KONiAVNlxDA",
        "outputId": "d89bc839-aaa3-42be-b135-9441d3123d92"
      },
      "outputs": [
        {
          "output_type": "stream",
          "name": "stdout",
          "text": [
            "이름: 김철수, 나이: 16, 학번: S12345\n",
            "이름: 이영희, 나이: 17, 학번: S67890\n",
            "김철수 학생의 수학 성적이 90점으로 추가되었습니다.\n",
            "김철수 학생의 과학 성적이 85점으로 추가되었습니다.\n",
            "김철수의 평균 성적: 87.50\n"
          ]
        }
      ],
      "source": [
        "class Student:\n",
        "    def __init__(self, name, age, student_id):\n",
        "        \"\"\"학생의 기본 정보를 초기화하는 생성자\"\"\"\n",
        "        self.name = name  # 이름\n",
        "        self.age = age  # 나이\n",
        "        self.student_id = student_id  # 학번\n",
        "        self.grades = {}  # 성적을 저장할 딕셔너리 (과목: 점수)\n",
        "\n",
        "    def add_grade(self, subject, grade):\n",
        "        \"\"\"성적 추가 메서드\"\"\"\n",
        "        self.grades[subject] = grade\n",
        "        print(f\"{self.name} 학생의 {subject} 성적이 {grade}점으로 추가되었습니다.\")\n",
        "\n",
        "    def get_average(self):\n",
        "        \"\"\"평균 성적 계산 메서드\"\"\"\n",
        "        if not self.grades:  # 성적이 없으면 0 반환\n",
        "            return 0\n",
        "        return sum(self.grades.values()) / len(self.grades)\n",
        "\n",
        "    def describe(self):\n",
        "        \"\"\"학생 정보 출력 메서드\"\"\"\n",
        "        print(f\"이름: {self.name}, 나이: {self.age}, 학번: {self.student_id}\")\n",
        "\n",
        "# 🎓 학생 객체 생성\n",
        "철수 = Student(\"김철수\", 16, \"S12345\")\n",
        "영희 = Student(\"이영희\", 17, \"S67890\")\n",
        "\n",
        "# 학생 정보 출력\n",
        "철수.describe()  # 출력: 이름: 김철수, 나이: 16, 학번: S12345\n",
        "영희.describe()  # 출력: 이름: 이영희, 나이: 17, 학번: S67890\n",
        "\n",
        "# 학생 성적 추가\n",
        "철수.add_grade(\"수학\", 90)  # 출력: 김철수 학생의 수학 성적이 90점으로 추가되었습니다.\n",
        "철수.add_grade(\"과학\", 85)  # 출력: 김철수 학생의 과학 성적이 85점으로 추가되었습니다.\n",
        "\n",
        "# 평균 성적 출력\n",
        "print(f\"{철수.name}의 평균 성적: {철수.get_average():.2f}\")  # 출력: 김철수의 평균 성적: 87.50\n",
        "\n"
      ]
    },
    {
      "cell_type": "markdown",
      "source": [
        "#넘파이\n",
        "넘파이의 배열 클래스인 numpy.array에는 편리한 메서드가 많이 준비되어 있어 배열이나 행렬 계산이 많이 등장하는 딥러닝을 구현할 때 이 메서드들을 이용한다.\n"
      ],
      "metadata": {
        "id": "YMD3CBGHuVkt"
      }
    },
    {
      "cell_type": "code",
      "source": [
        "import numpy as np #numpy 라이브러리 가져오기\n",
        "x = np.array([1.0,2.0,3.0])\n",
        "print(\"x=\", x)\n",
        "print(\"tyep=\", type(x))\n",
        "print(\"shape = \",x.shape)\n",
        "print(\"size = \", x.size)\n",
        "print(\"dimension of x = \", x.ndim)\n"
      ],
      "metadata": {
        "colab": {
          "base_uri": "https://localhost:8080/"
        },
        "id": "MWJJc3k7rDd0",
        "outputId": "69df8c24-ba0a-48ba-ffa9-1fc761e58ed3"
      },
      "execution_count": null,
      "outputs": [
        {
          "output_type": "stream",
          "name": "stdout",
          "text": [
            "x= [1. 2. 3.]\n",
            "tyep= <class 'numpy.ndarray'>\n",
            "shape =  (3,)\n",
            "size =  3\n",
            "dimension of x =  1\n"
          ]
        }
      ]
    },
    {
      "cell_type": "markdown",
      "source": [
        "###넘파이의 산술연산###"
      ],
      "metadata": {
        "id": "uZuvUYT1v4b5"
      }
    },
    {
      "cell_type": "code",
      "source": [
        "x = np.array([1.0, 2.0, 3.0])\n",
        "y = np.array([2.0, 4.0, 6.0])"
      ],
      "metadata": {
        "id": "_YEQvr-cv66d"
      },
      "execution_count": null,
      "outputs": []
    },
    {
      "cell_type": "code",
      "source": [
        "x+y"
      ],
      "metadata": {
        "colab": {
          "base_uri": "https://localhost:8080/"
        },
        "id": "UCv8wm13wamk",
        "outputId": "48626959-85c7-4e25-cc07-9de417fdd57f"
      },
      "execution_count": null,
      "outputs": [
        {
          "output_type": "execute_result",
          "data": {
            "text/plain": [
              "array([3., 6., 9.])"
            ]
          },
          "metadata": {},
          "execution_count": 34
        }
      ]
    },
    {
      "cell_type": "code",
      "source": [
        "x-y"
      ],
      "metadata": {
        "colab": {
          "base_uri": "https://localhost:8080/"
        },
        "id": "fc5XdLaLw2Te",
        "outputId": "b25338b3-41b3-4c33-bd95-31fb44a73a33"
      },
      "execution_count": null,
      "outputs": [
        {
          "output_type": "execute_result",
          "data": {
            "text/plain": [
              "array([-1., -2., -3.])"
            ]
          },
          "metadata": {},
          "execution_count": 35
        }
      ]
    },
    {
      "cell_type": "code",
      "source": [
        "x*y"
      ],
      "metadata": {
        "colab": {
          "base_uri": "https://localhost:8080/"
        },
        "id": "3DToN0Wrw3DG",
        "outputId": "659954dd-5ba5-4f3f-9445-327f3540a729"
      },
      "execution_count": null,
      "outputs": [
        {
          "output_type": "execute_result",
          "data": {
            "text/plain": [
              "array([ 2.,  8., 18.])"
            ]
          },
          "metadata": {},
          "execution_count": 36
        }
      ]
    },
    {
      "cell_type": "code",
      "source": [
        "x/y"
      ],
      "metadata": {
        "colab": {
          "base_uri": "https://localhost:8080/"
        },
        "id": "p2Sg6mCSw3-k",
        "outputId": "d31bb787-f015-4488-b6b8-9405ae18b04b"
      },
      "execution_count": null,
      "outputs": [
        {
          "output_type": "execute_result",
          "data": {
            "text/plain": [
              "array([0.5, 0.5, 0.5])"
            ]
          },
          "metadata": {},
          "execution_count": 37
        }
      ]
    },
    {
      "cell_type": "code",
      "source": [
        "x/2.0"
      ],
      "metadata": {
        "colab": {
          "base_uri": "https://localhost:8080/"
        },
        "id": "LG7OfFcEw4nG",
        "outputId": "2f2a5530-7c8f-40f6-a85b-41964469f279"
      },
      "execution_count": null,
      "outputs": [
        {
          "output_type": "execute_result",
          "data": {
            "text/plain": [
              "array([0.5, 1. , 1.5])"
            ]
          },
          "metadata": {},
          "execution_count": 38
        }
      ]
    },
    {
      "cell_type": "markdown",
      "source": [
        "###넘파이의 N차원 배열\n",
        "넘파이는 1차원 배열(1줄로 늘어선 배열)뿐 아니라 다차원 배열도 작성할 수 있다.\n"
      ],
      "metadata": {
        "id": "2tvZW302xDL3"
      }
    },
    {
      "cell_type": "code",
      "source": [
        "A = np.array([[1,2],[3,4]])\n",
        "print(A)"
      ],
      "metadata": {
        "colab": {
          "base_uri": "https://localhost:8080/"
        },
        "id": "AGh-X16XxGTe",
        "outputId": "be48ed7f-f2d6-4aa7-e31c-2e58a43f7cb0"
      },
      "execution_count": null,
      "outputs": [
        {
          "output_type": "stream",
          "name": "stdout",
          "text": [
            "[[1 2]\n",
            " [3 4]]\n"
          ]
        }
      ]
    },
    {
      "cell_type": "code",
      "source": [
        "print(A.shape)\n",
        "print(A.size)\n",
        "print(A.ndim)\n",
        "print(A.dtype)"
      ],
      "metadata": {
        "colab": {
          "base_uri": "https://localhost:8080/"
        },
        "id": "HKihZ3y2xPnc",
        "outputId": "964e0000-76a4-486e-96ba-c28b608a7aa0"
      },
      "execution_count": null,
      "outputs": [
        {
          "output_type": "stream",
          "name": "stdout",
          "text": [
            "(2, 2)\n",
            "4\n",
            "2\n",
            "int64\n"
          ]
        }
      ]
    },
    {
      "cell_type": "code",
      "source": [
        "B = np.array([[3,0], [0,6]])\n",
        "A+B"
      ],
      "metadata": {
        "colab": {
          "base_uri": "https://localhost:8080/"
        },
        "id": "N-C8vS1wxepm",
        "outputId": "6d34dc2e-5f20-4bb6-f1b4-1911e4dcf3dd"
      },
      "execution_count": null,
      "outputs": [
        {
          "output_type": "execute_result",
          "data": {
            "text/plain": [
              "array([[ 4,  2],\n",
              "       [ 3, 10]])"
            ]
          },
          "metadata": {},
          "execution_count": 49
        }
      ]
    },
    {
      "cell_type": "code",
      "source": [
        "A*B  #같은 위치에 있는 성분끼리 곱해진다. \"Hadamard곱\"이라 한다"
      ],
      "metadata": {
        "colab": {
          "base_uri": "https://localhost:8080/"
        },
        "id": "J0puX7vqxu_-",
        "outputId": "cef22ff4-81c5-41a7-9ada-96c68d81101b"
      },
      "execution_count": null,
      "outputs": [
        {
          "output_type": "execute_result",
          "data": {
            "text/plain": [
              "array([[ 3,  0],\n",
              "       [ 0, 24]])"
            ]
          },
          "metadata": {},
          "execution_count": 51
        }
      ]
    },
    {
      "cell_type": "markdown",
      "source": [
        "넘파이 배열(np.array)은 N차원 배열을 작성할 수 있다. 1차원 배열, 2차원 배열처럼 원하는 차수의 배열을 만들 수 있다. 이러한 N차원 배열을 수학에서는 텐서tensor라고도 한다."
      ],
      "metadata": {
        "id": "JKQTeYcfyo7H"
      }
    },
    {
      "cell_type": "markdown",
      "source": [
        "##브로드캐스트\n",
        "넘파이에서는 형상이 다른 배열끼리도 계산할 수 있다.\n",
        "![fig 1-2.png](data:image/png;base64,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)![fig 1-1.png](data:image/png;base64,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)"
      ],
      "metadata": {
        "id": "qG5P7yTyzRLe"
      }
    },
    {
      "cell_type": "markdown",
      "source": [
        "###원소 접근\n",
        "원소의 인덱스는 0부터 시작한다."
      ],
      "metadata": {
        "id": "oOtlwgZL0YSp"
      }
    },
    {
      "cell_type": "code",
      "source": [
        "X = np.array([[51,55],[14,19],[0,4]])\n",
        "print(X)"
      ],
      "metadata": {
        "colab": {
          "base_uri": "https://localhost:8080/"
        },
        "id": "AG9UfiWiybil",
        "outputId": "34739e35-2462-4750-ce1b-97083b07dc0f"
      },
      "execution_count": null,
      "outputs": [
        {
          "output_type": "stream",
          "name": "stdout",
          "text": [
            "[[51 55]\n",
            " [14 19]\n",
            " [ 0  4]]\n"
          ]
        }
      ]
    },
    {
      "cell_type": "code",
      "source": [
        "X[0]"
      ],
      "metadata": {
        "colab": {
          "base_uri": "https://localhost:8080/"
        },
        "id": "R8SD1zaC0lFk",
        "outputId": "33ec8645-f923-4402-bcb8-4834e7df84f5"
      },
      "execution_count": null,
      "outputs": [
        {
          "output_type": "execute_result",
          "data": {
            "text/plain": [
              "array([51, 55])"
            ]
          },
          "metadata": {},
          "execution_count": 58
        }
      ]
    },
    {
      "cell_type": "code",
      "source": [
        "X[0][1]"
      ],
      "metadata": {
        "colab": {
          "base_uri": "https://localhost:8080/"
        },
        "id": "14EqBT-X0r7d",
        "outputId": "9faabb88-f5e4-4fa1-c2f8-8d7af1256b0f"
      },
      "execution_count": null,
      "outputs": [
        {
          "output_type": "execute_result",
          "data": {
            "text/plain": [
              "55"
            ]
          },
          "metadata": {},
          "execution_count": 59
        }
      ]
    },
    {
      "cell_type": "markdown",
      "source": [
        "for 문으로도 각 원소에 접근할 수 있다."
      ],
      "metadata": {
        "id": "scjuK6JJ0w4h"
      }
    },
    {
      "cell_type": "code",
      "source": [
        "for row in X:\n",
        "  print(row)"
      ],
      "metadata": {
        "colab": {
          "base_uri": "https://localhost:8080/"
        },
        "id": "8j1s-iGG0tnt",
        "outputId": "90a64ae4-04fe-4cda-a126-6f4f597a2919"
      },
      "execution_count": null,
      "outputs": [
        {
          "output_type": "stream",
          "name": "stdout",
          "text": [
            "[51 55]\n",
            "[14 19]\n",
            "[0 4]\n"
          ]
        }
      ]
    },
    {
      "cell_type": "code",
      "source": [
        "for row in X:\n",
        "  for elem in row:\n",
        "    print(elem)"
      ],
      "metadata": {
        "colab": {
          "base_uri": "https://localhost:8080/"
        },
        "id": "aTcXoY8e03vd",
        "outputId": "7ca75c0d-98e8-4b05-eddb-b6d12329bd23"
      },
      "execution_count": null,
      "outputs": [
        {
          "output_type": "stream",
          "name": "stdout",
          "text": [
            "51\n",
            "55\n",
            "14\n",
            "19\n",
            "0\n",
            "4\n"
          ]
        }
      ]
    },
    {
      "cell_type": "markdown",
      "source": [
        "인덱스를 배열로 지정해 한 번에 여러 원소에 접근할 수도 있다."
      ],
      "metadata": {
        "id": "guZRMGuq1MLu"
      }
    },
    {
      "cell_type": "code",
      "source": [
        "X = X.flatten()\n",
        "print(X)"
      ],
      "metadata": {
        "colab": {
          "base_uri": "https://localhost:8080/"
        },
        "id": "Zkp14zCg07z1",
        "outputId": "58570d82-3161-4ebe-9abd-411e212fa350"
      },
      "execution_count": null,
      "outputs": [
        {
          "output_type": "stream",
          "name": "stdout",
          "text": [
            "[51 55 14 19  0  4]\n"
          ]
        }
      ]
    },
    {
      "cell_type": "code",
      "source": [
        "X[np.array([0,2,4])]"
      ],
      "metadata": {
        "colab": {
          "base_uri": "https://localhost:8080/"
        },
        "id": "lZbM6O3d1YbO",
        "outputId": "6fe35942-bc4c-427c-82c5-9d2185e517f0"
      },
      "execution_count": null,
      "outputs": [
        {
          "output_type": "execute_result",
          "data": {
            "text/plain": [
              "array([51, 14,  0])"
            ]
          },
          "metadata": {},
          "execution_count": 64
        }
      ]
    },
    {
      "cell_type": "markdown",
      "source": [
        "이 기법을 응용하면 특정 조건을 만족하는 원소만 얻을 수 있다."
      ],
      "metadata": {
        "id": "ce62su0l1j0F"
      }
    },
    {
      "cell_type": "code",
      "source": [
        "X>15"
      ],
      "metadata": {
        "colab": {
          "base_uri": "https://localhost:8080/"
        },
        "id": "YoNiPLUW1fUF",
        "outputId": "8d001a4d-20ba-4346-bb43-addad43f0531"
      },
      "execution_count": null,
      "outputs": [
        {
          "output_type": "execute_result",
          "data": {
            "text/plain": [
              "array([ True,  True, False,  True, False, False])"
            ]
          },
          "metadata": {},
          "execution_count": 65
        }
      ]
    },
    {
      "cell_type": "code",
      "source": [
        "X[X>15]"
      ],
      "metadata": {
        "colab": {
          "base_uri": "https://localhost:8080/"
        },
        "id": "hiyq0zSu1pic",
        "outputId": "c8bbdc42-b32a-4a52-bfec-463320d6e582"
      },
      "execution_count": null,
      "outputs": [
        {
          "output_type": "execute_result",
          "data": {
            "text/plain": [
              "array([51, 55, 19])"
            ]
          },
          "metadata": {},
          "execution_count": 66
        }
      ]
    },
    {
      "cell_type": "markdown",
      "source": [
        "위와 같이 넘파이 배열에 부등호 연산자를 사용한 결과는 bool 배열이다. 여기서는 이 bool 배열을 사용해 배열 X에서 True에 해당하는 원소, 즉 값이 15보다 큰 원소만 꺼냈다.\n"
      ],
      "metadata": {
        "id": "5YMShgSVELCH"
      }
    },
    {
      "cell_type": "markdown",
      "source": [
        "# matplotlib\n",
        "딥러닝 실험에서는 그래프 그리기와 데이터 시각화가 중요하다. **matplotlib**은 그래프를 그려주는 라이브러리이다. matplotlib을 사용하면 그래프 그리기와 데이터 시각화가 쉬워진다."
      ],
      "metadata": {
        "id": "dq75NgY1Fk5C"
      }
    },
    {
      "cell_type": "markdown",
      "source": [
        "##단순한 그래프 그리기\n",
        "그래프를 그리려면 matplotlib의 **pyplot**  모듈을 이용한다.\n",
        "\n",
        "\n"
      ],
      "metadata": {
        "id": "VaX3XESCF8UI"
      }
    },
    {
      "cell_type": "code",
      "source": [
        "import numpy as np\n",
        "import matplotlib.pyplot as plt\n",
        "\n",
        "# 데이터 준비\n",
        "x = np.arange(0,6,0.1) # 0에서 6까지 0.1 간격으로 생성\n",
        "y = np.sin(x)\n",
        "\n",
        "# 그래프 그리기\n",
        "plt.plot(x,y)\n",
        "plt.show()"
      ],
      "metadata": {
        "colab": {
          "base_uri": "https://localhost:8080/",
          "height": 430
        },
        "id": "cpPdpGrdGIJQ",
        "outputId": "26474ea0-f672-40d3-8e95-aa83c4556a5c"
      },
      "execution_count": 1,
      "outputs": [
        {
          "output_type": "display_data",
          "data": {
            "text/plain": [
              "<Figure size 640x480 with 1 Axes>"
            ],
            "image/png": "[encoded data removed]"
          },
          "metadata": {}
        }
      ]
    },
    {
      "cell_type": "markdown",
      "source": [
        "이 코드에서는 넘파이의 arrange 메서드로, [0, 0.1, 0.2, ..., 5.8, 5.9]라는 데이터를 생성하여 변수 x에 할당했다. 그 다음 줄에서 x의 각 원소에 넘파이의 sin 함수인 np.sin()을 적용하여 변수 y에 할당했다. 이제 x와 y를 인수로 plt.plot 메서드를 호출해 그래프를 그린다. 마지막으로 plt.show()를 호출해 그래프를 화면에 출력한다."
      ],
      "metadata": {
        "id": "FUDWcsNOGqS6"
      }
    },
    {
      "cell_type": "markdown",
      "source": [
        "## pyplot의 기능\n",
        "여기에 cos 함수도 추가로 그려보자. 또, 제목과 각 축의 이름(레이블) 표시 등, **pyplot**의 다른 기능도 사용해보자."
      ],
      "metadata": {
        "id": "_6bdmJHjHKEx"
      }
    },
    {
      "cell_type": "code",
      "source": [
        "import numpy as np #위에서 한 번 호출한 경우에는 다시 호출할 필요는 없다\n",
        "x = np.arange(0,6,0.1) # 0에서 6까지 0.1 간격으로 생성\n",
        "y1 = np.sin(x)\n",
        "y2 = np.cos(x)\n",
        "\n",
        "#그래프 그리기\n",
        "\n",
        "plt.plot(x,y1,label='sin')\n",
        "plt.plot(x,y2,linestyle='--',label='cos')\n",
        "plt.xlabel('x')\n",
        "plt.ylabel('y')\n",
        "plt.title('sin & cos')\n",
        "plt.legend()\n",
        "plt.show()"
      ],
      "metadata": {
        "id": "WsLUspf4HY0m"
      },
      "execution_count": null,
      "outputs": []
    },
    {
      "cell_type": "code",
      "source": [],
      "metadata": {
        "id": "hLl_MIuWHF9H"
      },
      "execution_count": null,
      "outputs": []
    },
    {
      "cell_type": "code",
      "source": [],
      "metadata": {
        "id": "XD01W7GZGmF9"
      },
      "execution_count": null,
      "outputs": []
    },
    {
      "cell_type": "code",
      "source": [],
      "metadata": {
        "id": "2wsK8NfWGkNG"
      },
      "execution_count": null,
      "outputs": []
    },
    {
      "cell_type": "code",
      "source": [],
      "metadata": {
        "id": "jeMoXDAjFoyX"
      },
      "execution_count": null,
      "outputs": []
    }
  ]
}