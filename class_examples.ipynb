{
  "nbformat": 4,
  "nbformat_minor": 0,
  "metadata": {
    "colab": {
      "provenance": [],
      "authorship_tag": "ABX9TyOVDZeAStVLjajW1CuTamYj",
      "include_colab_link": true
    },
    "kernelspec": {
      "name": "python3",
      "display_name": "Python 3"
    },
    "language_info": {
      "name": "python"
    }
  },
  "cells": [
    {
      "cell_type": "markdown",
      "metadata": {
        "id": "view-in-github",
        "colab_type": "text"
      },
      "source": [
        "<a href=\"https://colab.research.google.com/github/KwancheolShin/Understanding-information-and-AI-with-mathematics/blob/main/class_examples.ipynb\" target=\"_parent\"><img src=\"https://colab.research.google.com/assets/colab-badge.svg\" alt=\"Open In Colab\"/></a>"
      ]
    },
    {
      "cell_type": "markdown",
      "source": [
        "#클래스 만들기 예제\n",
        "'학생'이라는 개념은 어떤 속성들을 추상화 한 것인지 생각해보자. 성명, 나이, 학번, 전공, 성별 등 각 학생별로 정해지는 고유의 정보가 있을 것이다. 이렇게 각각 객체의 고유의 정보가 파이썬 클래스에서는 객체의 '속성'으로 정해준다. 이번에는 '학생'들이 어떤 '기능'을 할 수 있는지 생각해보자. 나이를 물어보면 나이를 대답할 수 있을것이고, 전공을 물어보면 본인의 전공을 알려줄 수도 있을 것이다. 또는 자기 소개를 해 달라고 하면 본인을 소개할 수 있을 것이다. 이렇게 각각 객체가 할수 있는 '기능'이나 '동작'을 파이썬에서는 클래스의 메서드 또는 함수로 만들어 사용할 수 있다.\n",
        "\n",
        "##1. 학생 클래스 만들기"
      ],
      "metadata": {
        "id": "5atCG_vlNsGu"
      }
    },
    {
      "cell_type": "code",
      "execution_count": 62,
      "metadata": {
        "id": "XzJ0CbFVNh9y"
      },
      "outputs": [],
      "source": [
        "class Student:\n",
        "  def __init__(self,name,age,student_id,major): #클래스의 속성을 초기화(정의)한다.\n",
        "    self.name = name\n",
        "    self.age = age\n",
        "    self.student_id = student_id\n",
        "    self.major = major\n",
        "\n",
        "  def introduce_name(self): #클래스의 메서드(함수)를 만들어 사용할 수 있다.\n",
        "    print(f\"제 이름은 {self.name}입니다.\")\n",
        "\n",
        "  def introduce_age(self):\n",
        "    print(f\"제 나이는 {self.age} 입니다.\")\n",
        "\n",
        "  def introduce_major(self):\n",
        "    print(f\"제 전공은 {self.major} 입니다.\")\n",
        "\n",
        "  def introduce(self,greeting): #인자를 입력으로 받을 수도 있다.\n",
        "    print(f\"{greeting} 저는 {self.name}입니다. {self.age}살이고 {self.major} 전공을 공부하고 있습니다.\")\n",
        "\n"
      ]
    },
    {
      "cell_type": "markdown",
      "source": [
        "클래스를 정할때는 def *__init__(self,속성1, 속성2, 속성3,...):* 와 같이 생성자 메서드(__init__)를 사용한다. 객체가 초기화될 때 필요한 값(속성)을 설정하는 역할을 한다. 여기에서 self는 이후에 생성될 각각 인스턴스(객체) 자신을 가리킨다. 하나의 인스턴스를 생성한 후 그 인스턴스의 이름을 self 자리에 대입해서 생각해보면 self의 의미를 파악할 수 있다."
      ],
      "metadata": {
        "id": "wjM5BUgoPmxs"
      }
    },
    {
      "cell_type": "code",
      "source": [
        "#이제 Student 클래스라는 설계도로 학생 객체를 생성해 보자.\n",
        "student1 = Student(\"김민경\",20,\"2025001\",\"Computer Science\")\n",
        "student2 = Student(\"이수지\",20,\"2025002\",\"Mathetics\")\n",
        "#이렇게 클래스로 생성된 각각을 '객체' 또는 '인스턴스(instance)'라고 한다.\n",
        "\n",
        "#생성된 학생 인스턴스의 속성값은 [객체명.속성]으로 접근할 수 있다.\n",
        "print(student1.name)\n",
        "print(student1.age)\n",
        "print(student1.major, \"\\n\") #\\n은 문장 내에서 줄바꿈을 나타낸다.\n",
        "\n",
        "\n",
        "#생성된 학생 인스턴스의 메서드는 [객체명.메서드()]로 접근할 수 있다.\n",
        "student1.introduce_name()\n",
        "student1.introduce_age()\n",
        "student1.introduce_major()\n",
        "print() #공백을 출력하여 한칸 띄울 수 있다.\n",
        "\n",
        "student1.introduce(\"안녕하시렵니까?\") #클래스의 함수도 일반 함수처럼 인자를 받아 동작을 수행할 수 있다."
      ],
      "metadata": {
        "colab": {
          "base_uri": "https://localhost:8080/"
        },
        "id": "o5ucEpEAfcPm",
        "outputId": "1be1a29b-ed48-4f48-f5da-90fe81e95183"
      },
      "execution_count": 63,
      "outputs": [
        {
          "output_type": "stream",
          "name": "stdout",
          "text": [
            "김민경\n",
            "20\n",
            "Computer Science \n",
            "\n",
            "제 이름은 김민경입니다.\n",
            "제 나이는 20 입니다.\n",
            "제 전공은 Computer Science 입니다.\n",
            "\n",
            "안녕하시렵니까? 저는 김민경입니다. 20살이고 Computer Science 전공을 공부하고 있습니다.\n"
          ]
        }
      ]
    },
    {
      "cell_type": "markdown",
      "source": [
        "##2. 학생관리 클래스 만들기"
      ],
      "metadata": {
        "id": "v9P3jBsaye5N"
      }
    },
    {
      "cell_type": "code",
      "source": [
        "#학생을 여러 명 등록하고 관리하는 class를 만들어보자.\n",
        "class StudentManager:\n",
        "  def __init__(self):\n",
        "    self.students = [] # 학생 객체를 저장할 빈 리스트를 만든다\n",
        "\n",
        "  def add_student(self,student):\n",
        "    self.students.append(student)\n",
        "    # self.students 속성에 리스트의 append 함수를 이용해서 학생 인스턴스를 추가한다.\n",
        "\n",
        "  def show_students(self): #모든 학생의 정보를 출력하는 메서드\n",
        "    print(\"학생 목록:\")\n",
        "    for student in self.students:\n",
        "      print(f\"이름: {student.name}, 나이: {student.age}, 학번: {student.student_id}, 전공: {student.major}\")\n",
        "\n",
        "  def count_students(self):#총 학생수를 출력하는 메서드\n",
        "    print(f\"총 학생수는 {len(self.students)}명 입니다.\")\n"
      ],
      "metadata": {
        "id": "K3B-dcSMNrRz"
      },
      "execution_count": 70,
      "outputs": []
    },
    {
      "cell_type": "code",
      "source": [
        "manager = StudentManager()\n",
        "manager.add_student(student1)\n",
        "manager.add_student(student2)\n",
        "\n",
        "manager.show_students()\n",
        "manager.count_students()"
      ],
      "metadata": {
        "colab": {
          "base_uri": "https://localhost:8080/"
        },
        "id": "yZFOYjIPfhtT",
        "outputId": "ec0e5d57-8401-40f8-8621-098987c8d4f6"
      },
      "execution_count": 71,
      "outputs": [
        {
          "output_type": "stream",
          "name": "stdout",
          "text": [
            "학생 목록:\n",
            "이름: 김민경, 나이: 20, 학번: 2025001, 전공: Computer Science\n",
            "이름: 이수지, 나이: 20, 학번: 2025002, 전공: Mathetics\n",
            "총 학생수는 2명 입니다.\n"
          ]
        }
      ]
    },
    {
      "cell_type": "markdown",
      "source": [
        "##3. 계산기 클래스 만들기\n",
        "'계산기'는 여러 가지 기능을 수행하지만 여기서는 간단히 두 수의 덧셈과 뺄셈, 입력된 여러 숫자의 평균값을 출력하는 '계산기' 클래스를 작성해보자. 입력 인자의 갯수가 정해지지 않을때는 가변인자 \\*args를 사용한다.\n"
      ],
      "metadata": {
        "id": "PGxOjNK7Tpfh"
      }
    },
    {
      "cell_type": "code",
      "source": [
        "class Calculator:\n",
        "  def __init__(self,year,price,owner):\n",
        "    self.year = 2025\n",
        "    self.price = price\n",
        "    self.owner = owner\n",
        "\n",
        "  def info(self):\n",
        "    print(f\"{self.owner} 소유의 계산기 입니다. {self.year}년산 이며 가격은 {self.price}입니다.\")\n",
        "\n",
        "  def add(self, a, b):\n",
        "    return a+b\n",
        "\n",
        "  def subtract(self,a,b):\n",
        "    return a-b\n",
        "\n",
        "  def average(self, *args): #*args는 갯수가 정해지지 않은 인자를 자유롭게 받을때 사용한다.\n",
        "    return sum(args)/len(args)\n"
      ],
      "metadata": {
        "id": "quJeg5HATpEW"
      },
      "execution_count": 73,
      "outputs": []
    },
    {
      "cell_type": "code",
      "source": [
        "Cal1 = Calculator(2025,\"10만원\",\"신관철\")\n",
        "Cal1.info()"
      ],
      "metadata": {
        "colab": {
          "base_uri": "https://localhost:8080/"
        },
        "id": "259bMAdZTaWA",
        "outputId": "fd83d62c-9694-4b3b-d2dd-50c835683d9d"
      },
      "execution_count": 74,
      "outputs": [
        {
          "output_type": "stream",
          "name": "stdout",
          "text": [
            "신관철 소유의 계산기 입니다. 2025년산 이며 가격은 10만원입니다.\n"
          ]
        }
      ]
    },
    {
      "cell_type": "code",
      "source": [
        "print(\"2+3 =\", Cal1.add(2,3))\n",
        "print(\"3-1 =\", Cal1.subtract(3,1))\n",
        "print(\"{1,2,3}의 평균 =\", Cal1.average(1,2,3))"
      ],
      "metadata": {
        "colab": {
          "base_uri": "https://localhost:8080/"
        },
        "id": "VmN2_0rPNv8F",
        "outputId": "f07e9e42-c806-41a5-f719-a67a5ee74263"
      },
      "execution_count": 75,
      "outputs": [
        {
          "output_type": "stream",
          "name": "stdout",
          "text": [
            "2+3 = 5\n",
            "3-1 = 2\n",
            "{1,2,3}의 평균 = 2.0\n"
          ]
        }
      ]
    }
  ]
}