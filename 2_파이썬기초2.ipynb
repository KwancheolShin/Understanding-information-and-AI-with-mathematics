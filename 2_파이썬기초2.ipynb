{
  "nbformat": 4,
  "nbformat_minor": 0,
  "metadata": {
    "colab": {
      "provenance": [],
      "authorship_tag": "ABX9TyOa+LMmYlfr7A8An/8M/bV1",
      "include_colab_link": true
    },
    "kernelspec": {
      "name": "python3",
      "display_name": "Python 3"
    },
    "language_info": {
      "name": "python"
    }
  },
  "cells": [
    {
      "cell_type": "markdown",
      "metadata": {
        "id": "view-in-github",
        "colab_type": "text"
      },
      "source": [
        "<a href=\"https://colab.research.google.com/github/KwancheolShin/Understanding-information-and-AI-with-mathematics/blob/main/2_%ED%8C%8C%EC%9D%B4%EC%8D%AC%EA%B8%B0%EC%B4%882.ipynb\" target=\"_parent\"><img src=\"https://colab.research.google.com/assets/colab-badge.svg\" alt=\"Open In Colab\"/></a>"
      ]
    },
    {
      "cell_type": "markdown",
      "source": [
        "#6. 문자열 Formatting 출력 방법\n",
        "파이썬에서는 문자열을 원하는 형식으로 출력하기 위해 여러 가지 **Formatting** 방법을 사용할수 있다. 파이썬 3.6 이상에서는 f-string 방법이 가장 추천된다.\n"
      ],
      "metadata": {
        "id": "K6A5sVQr4LPw"
      }
    },
    {
      "cell_type": "code",
      "source": [
        "name = \"Alice\"; age = 25\n",
        "print(f\"이름:{name}, 나이:{age}\")"
      ],
      "metadata": {
        "colab": {
          "base_uri": "https://localhost:8080/"
        },
        "id": "x6_Dc4aD4eLN",
        "outputId": "0b1c565b-8510-4fc5-dc57-b8a3f42fe0e4"
      },
      "execution_count": null,
      "outputs": [
        {
          "output_type": "stream",
          "name": "stdout",
          "text": [
            "이름:Alice, 나이:25\n"
          ]
        }
      ]
    },
    {
      "cell_type": "markdown",
      "source": [
        "#7. 몫과 나머지 계산\n"
      ],
      "metadata": {
        "id": "jfVTpQQW2o41"
      }
    },
    {
      "cell_type": "code",
      "source": [
        "print(\"10을 3으로 나눈 몫은\", 10//3,\"이다.\") #//를 이용하여 몫을 계산한다\n",
        "print(\"10을 3으로 나눈 나머지는\", 10%3,\"이다.\") #%를 이용하여 나머지를 계산한다."
      ],
      "metadata": {
        "colab": {
          "base_uri": "https://localhost:8080/"
        },
        "id": "gVEElJ9h2F1h",
        "outputId": "b7b2ed74-de0d-43ba-903d-8d2bbfc03b17"
      },
      "execution_count": null,
      "outputs": [
        {
          "output_type": "stream",
          "name": "stdout",
          "text": [
            "10을 3으로 나눈 몫은 3 이다.\n",
            "10을 3으로 나눈 나머지는 1 이다.\n"
          ]
        }
      ]
    },
    {
      "cell_type": "code",
      "source": [
        "quotient, remainder = divmod(10,3) # divmod를 이용하여 10을 3으로 나눈 몫과 나머지를 변수로 받는다.\n",
        "print(f\"10을 3으로 나눈 몫은 {quotient}이다.\")\n",
        "print(f\"10을 3으로 나눈 나머지는 {remainder}이다.\")"
      ],
      "metadata": {
        "colab": {
          "base_uri": "https://localhost:8080/"
        },
        "id": "RqLujViW1dNF",
        "outputId": "86ab417a-debc-4756-973e-cab80c814d44"
      },
      "execution_count": null,
      "outputs": [
        {
          "output_type": "stream",
          "name": "stdout",
          "text": [
            "10을 3으로 나눈 몫은 3이다.\n",
            "10을 3으로 나눈 나머지는 1이다.\n"
          ]
        }
      ]
    },
    {
      "cell_type": "markdown",
      "source": [
        "#8. for 문\n",
        "\n",
        "파이썬에서 for문은 반복(iteration)을 수행할 때 사용하는 기본적인 반복문이다.\n",
        "주어진 시퀀스(리스트, 튜플, 문자열, range 등)의 요소를 하나씩 가져와 반복을 수행한다."
      ],
      "metadata": {
        "id": "JHcVWlC11CuR"
      }
    },
    {
      "cell_type": "markdown",
      "source": [
        "##8.1. list 순회"
      ],
      "metadata": {
        "id": "_8peePZYL_EW"
      }
    },
    {
      "cell_type": "code",
      "source": [
        "fruits = [\"사과\",\"바나나\",\"포도\"]\n",
        "for fruit in fruits: #리스트 순회\n",
        "  print(fruit)"
      ],
      "metadata": {
        "id": "f-sv252q9AQk"
      },
      "execution_count": null,
      "outputs": []
    },
    {
      "cell_type": "code",
      "source": [
        "for i in [1,2,3]:\n",
        "  print(i)"
      ],
      "metadata": {
        "colab": {
          "base_uri": "https://localhost:8080/"
        },
        "id": "j8KR2vKK1F_t",
        "outputId": "79a9e408-8461-4585-de5f-ddf895ed48fc"
      },
      "execution_count": null,
      "outputs": [
        {
          "output_type": "stream",
          "name": "stdout",
          "text": [
            "1\n",
            "2\n",
            "3\n"
          ]
        }
      ]
    },
    {
      "cell_type": "code",
      "execution_count": null,
      "metadata": {
        "colab": {
          "base_uri": "https://localhost:8080/"
        },
        "id": "1ejwk0VP06qR",
        "outputId": "4b794b75-61f0-4173-8283-421974f58b48"
      },
      "outputs": [
        {
          "output_type": "stream",
          "name": "stdout",
          "text": [
            "0\n",
            "1\n",
            "2\n"
          ]
        }
      ],
      "source": [
        "for i in range(3): #range() 함수로 for문 실행\n",
        "  print(i)"
      ]
    },
    {
      "cell_type": "code",
      "source": [
        "for i in range(1,4): #range의 범위를 지정할 수도 있다.\n",
        "  print(i)"
      ],
      "metadata": {
        "colab": {
          "base_uri": "https://localhost:8080/"
        },
        "id": "1CaDUnVl1Nn-",
        "outputId": "ae798704-9b14-4c5c-fcdf-068af434edd0"
      },
      "execution_count": null,
      "outputs": [
        {
          "output_type": "stream",
          "name": "stdout",
          "text": [
            "1\n",
            "2\n",
            "3\n"
          ]
        }
      ]
    },
    {
      "cell_type": "code",
      "source": [
        "for i in range(1,10,2): # 간격(step)을 조정할 수도 있다. 1부터 10까지 2씩 증가\n",
        "  print(i)"
      ],
      "metadata": {
        "colab": {
          "base_uri": "https://localhost:8080/"
        },
        "id": "3R76LSXj5Rgc",
        "outputId": "9f686d68-5247-46f6-f96e-bd28ecc6ee80"
      },
      "execution_count": null,
      "outputs": [
        {
          "output_type": "stream",
          "name": "stdout",
          "text": [
            "1\n",
            "3\n",
            "5\n",
            "7\n",
            "9\n"
          ]
        }
      ]
    },
    {
      "cell_type": "markdown",
      "source": [
        "##8.2. 수열 출력"
      ],
      "metadata": {
        "id": "cRoXOwOeMERO"
      }
    },
    {
      "cell_type": "code",
      "source": [
        "for i in range(1,4):\n",
        "  print(f\"2*{i}+3 = \", 2*i+3) #수열 {2i+3}의 첫 3개 항을 출력한다."
      ],
      "metadata": {
        "colab": {
          "base_uri": "https://localhost:8080/"
        },
        "id": "-HAjeary1Un-",
        "outputId": "63655ea3-4a7e-48c7-df8c-6fec548bede1"
      },
      "execution_count": null,
      "outputs": [
        {
          "output_type": "stream",
          "name": "stdout",
          "text": [
            "2*1+3 =  5\n",
            "2*2+3 =  7\n",
            "2*3+3 =  9\n"
          ]
        }
      ]
    },
    {
      "cell_type": "markdown",
      "source": [
        "##8.3. enumerate()를 사용하면 반복하면서 인덱스까지 같이 가져올 수 있다."
      ],
      "metadata": {
        "id": "gc7swfKEMJ6i"
      }
    },
    {
      "cell_type": "code",
      "source": [
        "\n",
        "for index, fruit in enumerate(fruits):\n",
        "  print(index,\":\", fruit)"
      ],
      "metadata": {
        "colab": {
          "base_uri": "https://localhost:8080/"
        },
        "id": "ihT3zz2x5GKH",
        "outputId": "3c93a547-a3a8-4883-cb81-81002ea80a4b"
      },
      "execution_count": null,
      "outputs": [
        {
          "output_type": "stream",
          "name": "stdout",
          "text": [
            "0 : 사과\n",
            "1 : 바나나\n",
            "2 : 포도\n"
          ]
        }
      ]
    },
    {
      "cell_type": "markdown",
      "source": [
        "##8.4. zip()을 사용하면 여러 리스트를 한 번에 순회할 수 있다. zip은 여러 리스트의 요소를 튜플로 묶어 반환한다.\n",
        "\n"
      ],
      "metadata": {
        "id": "lxN3YYH3MU7X"
      }
    },
    {
      "cell_type": "code",
      "source": [
        "names = [\"철수\",\"영희\",\"동수\"]\n",
        "ages = [25, 30, 35]\n",
        "\n",
        "for name, age in zip(names,ages):\n",
        "  print(f\"{name}의 나이는 {age}이다.\")"
      ],
      "metadata": {
        "colab": {
          "base_uri": "https://localhost:8080/"
        },
        "id": "zaaATWvo9QL9",
        "outputId": "b703df75-fe5a-44bc-a2ea-9fb588ea19cd"
      },
      "execution_count": null,
      "outputs": [
        {
          "output_type": "stream",
          "name": "stdout",
          "text": [
            "철수의 나이는 25이다.\n",
            "영희의 나이는 30이다.\n",
            "동수의 나이는 35이다.\n"
          ]
        }
      ]
    },
    {
      "cell_type": "markdown",
      "source": [
        "##8.5. 리스트 컴프리헨션과 for문\n",
        "리스트 컴프리헨션(List Comprehension)은 한 줄로 간결하게 리스트를 생성할 때 사용한다.\n"
      ],
      "metadata": {
        "id": "B-psfQgX-FEU"
      }
    },
    {
      "cell_type": "code",
      "source": [
        "numbers = [x for x in range(1,6)]\n",
        "print(numbers)\n",
        "\n",
        "#짝수만 필터링\n",
        "even_numbers = [x for x in range(1,11) if x%2 ==0]\n",
        "print(even_numbers)"
      ],
      "metadata": {
        "colab": {
          "base_uri": "https://localhost:8080/"
        },
        "id": "1BVHt8bG-U2T",
        "outputId": "e32d6d79-edee-4b33-d30e-3ee2f2548150"
      },
      "execution_count": null,
      "outputs": [
        {
          "output_type": "stream",
          "name": "stdout",
          "text": [
            "[1, 2, 3, 4, 5]\n",
            "[2, 4, 6, 8, 10]\n"
          ]
        }
      ]
    },
    {
      "cell_type": "markdown",
      "source": [
        "##8.6. for문에서 break 사용하기"
      ],
      "metadata": {
        "id": "9Xg5Sr_tMrP6"
      }
    },
    {
      "cell_type": "code",
      "source": [
        "#for문에서 berak는 반복문을 즉시 종료한다.\n",
        "for i in range(5):\n",
        "  if i ==3:\n",
        "    break\n",
        "  print(i)"
      ],
      "metadata": {
        "colab": {
          "base_uri": "https://localhost:8080/"
        },
        "id": "WiTaf_l_-Yc0",
        "outputId": "4bdca6f3-ef43-44a4-ce6b-a2e0118da973"
      },
      "execution_count": null,
      "outputs": [
        {
          "output_type": "stream",
          "name": "stdout",
          "text": [
            "0\n",
            "1\n",
            "2\n"
          ]
        }
      ]
    },
    {
      "cell_type": "markdown",
      "source": [
        "##8.7. for문에서 continue 사용하기"
      ],
      "metadata": {
        "id": "6IRd662wMyAB"
      }
    },
    {
      "cell_type": "code",
      "source": [
        "#continue는 다음 반복으로 건너뛴다.\n",
        "for i in range(5):\n",
        "  if i ==2:\n",
        "    continue\n",
        "  print(i)"
      ],
      "metadata": {
        "colab": {
          "base_uri": "https://localhost:8080/"
        },
        "id": "9XQTg7Eu91qs",
        "outputId": "70a73a37-125b-41de-88d8-40d16ec01033"
      },
      "execution_count": null,
      "outputs": [
        {
          "output_type": "stream",
          "name": "stdout",
          "text": [
            "0\n",
            "1\n",
            "3\n",
            "4\n"
          ]
        }
      ]
    },
    {
      "cell_type": "markdown",
      "source": [
        "#9. while 문\n",
        "while 문은 특정 **조건이 참(True)인 동안에 계속 실행되는 반복문**이다. 조건이 거짓(False)이 되면 반복이 종료된다.\n",
        "while문도 break와 continue를 사용할 수 있다."
      ],
      "metadata": {
        "id": "9kB4CZEV_q1l"
      }
    },
    {
      "cell_type": "code",
      "source": [
        "i = 1\n",
        "while i<=10:\n",
        "  print(i)\n",
        "  i+=2"
      ],
      "metadata": {
        "colab": {
          "base_uri": "https://localhost:8080/"
        },
        "id": "4EzNQDYpAKAU",
        "outputId": "b1da4c57-ebe7-4b66-e99f-4c18ce88dd33"
      },
      "execution_count": null,
      "outputs": [
        {
          "output_type": "stream",
          "name": "stdout",
          "text": [
            "1\n",
            "3\n",
            "5\n",
            "7\n",
            "9\n"
          ]
        }
      ]
    },
    {
      "cell_type": "code",
      "source": [
        "i = 1\n",
        "while i<5:\n",
        "  if i==3: #i==3을 만나면 break를 만나 반복문이 종료된다.\n",
        "    break\n",
        "  print(i)\n",
        "  i+=1\n"
      ],
      "metadata": {
        "colab": {
          "base_uri": "https://localhost:8080/"
        },
        "id": "aVqlaEjoAES1",
        "outputId": "01ec4c50-6ece-47e6-f27f-285b3f5cf084"
      },
      "execution_count": null,
      "outputs": [
        {
          "output_type": "stream",
          "name": "stdout",
          "text": [
            "1\n",
            "2\n"
          ]
        }
      ]
    },
    {
      "cell_type": "code",
      "source": [
        "i = 0\n",
        "while i<5:\n",
        "  i+=1\n",
        "  if i ==3:\n",
        "    continue #i가 3이면 출력하지 않고 건너뛴다.\n",
        "  print(i)"
      ],
      "metadata": {
        "colab": {
          "base_uri": "https://localhost:8080/"
        },
        "id": "v62jERPjBRyl",
        "outputId": "3e1da1ed-17f1-4c62-f03f-bb5eb869f97f"
      },
      "execution_count": null,
      "outputs": [
        {
          "output_type": "stream",
          "name": "stdout",
          "text": [
            "1\n",
            "2\n",
            "4\n",
            "5\n"
          ]
        }
      ]
    },
    {
      "cell_type": "markdown",
      "source": [
        "#10. 대입 연산자\n",
        "파이썬에서는 연산과 할당을 동시에 수행하는 복합 대입 연산자를 사용할 수 있다.\n",
        "![복합 대입 연산자.png](data:image/png;base64,iVBORw0KGgoAAAANSUhEUgAAAu8AAAEYCAYAAADs/BhtAAAAAXNSR0IArs4c6QAAAARnQU1BAACxjwv8YQUAAAAJcEhZcwAADsMAAA7DAcdvqGQAACrHSURBVHhe7d1/iB3V/f/xc7+9N3o3yVoNXY2p0LVNMG4sMVCDTSrREMQUrabYrBaKSn6stIqyf2yRWCsNpYFuLe2WrlXcklBN0CaWlIhINNiktlKi1sSIKW5BluiWqOTHbprd4vfzmsysN9f7Y2bunLl3Zp4PGPbe2Xvn7t55nzuvOXNmbu6T/2MAAAAAtLz/5/4EAAAA0OII7wAAAEBCEN4BAACAhCC8AwAAAAkR6ITVkZER85///MecPHnScJ4rAAAAEF4ulzPTp083X/jCF8ycOXPcubX5Cu+nTp0yb7/9tnO7vb3dnHPOOc6LAX68++675tJLL3XvAclC/QIAbJmcnDQTExPm448/Np/73OfMZZddZs4991z3t5X5Gjaj4K7A3tHR4SyQ4A4AAAA0Jp/Pm2Kx6PS8FwqFqc7yWuqGdw2VkfPOO8/5CQAAACA6CvEzZ840//vf/6aydzV1w7vGuGuoDAAAAAA7FOA///nPO9m7lrrhXSenasgMAAAAAHs0dEbZu5a64V3nszLGHQAAALBLve/1riXj64RVAAAAAM1HeAcAAAASgvAOAAAAJAThHQAAAEiIpoV3XQbn2muvNX19fe4cf/R4Pa/eZXTKhX0eWs9LL73kfAPZn//8Z/O9733PmcbGxtzfVvfYY4+ZhQsXmldffTXQ8wBbwn4Oem1ANQ0AyBar4V0bJG1gvCnIhsYLWgcPHnTnVOdtyCpNBPbk8oKN1mOjtUDIQbOo9kprsd5Oo36nx5Q+x5uoYwCAtfCu4P7888+bP/7xj85Xvf72t781/f39Uxuhb3zjG+bIkSPuoxujgKfX0NTb22vOPffcqddVmNNXziJZFGC0Li+55BKzf/9+8/3vf99s2rSpbk+5Vwta/6oDLUP3165d6z4CiI8+B/W5p88/ry7/+c9/mp6enrq1fNVVVzm1X1rPAABYCe/qIVVwV+Dq6upy5i1evNjZGHkbpL/85S9m9uzZzu8q+de//uXeQhYNDw87IefOO+80bW1t5utf/7pzf9GiRebuu+92HwW0Lh050hCtb33rW85OpejzUJ+LqmXVOAAAQcU25l0BTGH9vffeq/vNUV74P3XqlPnrX//qzv2UeuzVc19pSIxCv543OjrqzkESaf1pPZZTT7p6MYPwhtKoBxQAACDJYgvvOkSs0K1hENOnT3fnfpbC+A9+8IOp4Pbkk09+JqBrJ0A99+VDYrzXkEo997VCP1qL1p+GCXR0dDj39fP888/3fUTGC/+qEx310dADBX8gLvps0pHGP/3pT85nlehzR59pX/3qV01nZ6czDwCAIKyEdx0avv76681vfvObqZMM//CHPziHkDVp6EOlMe/awHnzdahZwUu+853v+Arbf//7353lS5DQj9bzla985awjKPr50UcfOfPr0U7c0NCQc5vhCWgmnaehnUYN9fLO9VGg37x5s3M0EgCAoKz1vGujpbGd3/72t6eGLHgnD2qqNOb9jTfecHpbNSxCz1fAVtDWxk4bPa/3qhLtJNx///3OMn/84x87OwA///nP3d8iadTTXukEPdVRvTHv3o6i6kC99QpKQLPoZGnvc0+TPtsAAAjL6rCZ8o1WvSt+3Hfffeb111+fOrnLo42dnl8+36Pg/t3vfte5PTAwYLq7u50dBR2u5tJqyaQhBRpaoB509aQrgCuIa6ev1ph37eAp4OvIjergRz/6kVMHQa+jDTSbd5RSnR/qBKl0DggAIHushneFrjBfhqMApg2W3+Dt9ayqx9W7uo12FLzLU9bqsUdr0pACrTud4KwAoxOYtWNWa7iTN1xGR2oeeughZ552+BTkr7zyyronSgOtQLWvz7TSjg9v4pKnAIDYTlgt5w2JCXoIWY/X80pDnOapx94L7h4FN23wqvXYo7V5NaJ1WGn9lvNCj6bS8cSqD/XC1zpRGoiS13GhToha0+DgoPsMAAD8aVp4B4C0qtV7Xjrpy5oAAAgilvBeOnazfFKveLUryWjYRKXnaGIoDAAAALIm98n/cW9XtHfvXnPppZe694Dg3n33XWoIiUX9AgDipO3O0qVL3XufxbAZAAAAICEI7wAAAEBCEN4BAACAhCC8AwAAAAlBeAcAAAASgvAOAAAAJAThHQAAAEgIwjsAAACQEL6+pAkAAABAPGp9SVPd8P7OO++YefPmufeA4KghJBn1CwCIU73tDsNmAAAAgIQgvAMAAAAJQXgHAAAAEoLwDgAAACQE4R0AAABICMI7AAAAkBCEdwAAACAhrF3nfXJy0oyPj5uJiQlT5yVqyuVyplAomGKxaPL5vDsXSdLsGooT9Zo+WapfG2gTABBMU67zro3WsWPHzOnTpxveaOn5Wo6Wp+UiG6KsoThRr5Ck1q8NtAkAiJaV8K7epqg3WFqelotssFFDcaJesy3p9WsDbQIAomElvOswsQ22lovWk4Z1Tb1mF+u+Mt4XAGiclfBuq8eJnqzsSMO6pl6zi3VfGe8LADSOq80AAYyNjZnu7m7T2dnpTLqteUBW0SYAIF6EdyCAtrY2s3XrVjM8POxMc+bMMZs3b3Z/C2QPbQIA4hVreFdvzLp168yBAwfcOYA/o6OjZsmSJWZwcNC5rxqaP3++2b17t3O/Hj2ut7fXvRcN1fPIyIiZO3euOweortEaDqJZ7YU2AQD2Nb3n3duoeIdcOeyKSjo6OsyOHTvMnj17nGAyNDRkBgYGzPLly91HBKdwUlp3mvyEGy8YdXV1Ob2MjfwNyI6wNayaLK/TesHaRnuphTYBAPGx8iVNR48edW+doYB+6623mlOnTrlzzujr6zM9PT3uPX9mzZrl3kJSRFFDHgWZNWvWmFWrVpn+/n53bnUKOdu3b3fvnXHxxRc7wUYBp1FeiKr2t1CvyRdl/UrQGm5EM9oLbQIAGtOUL2kqt2DBAnPo0CFz8OBBs2LFCrNz505nbKSCOz3vCEo1NGPGDPdebQoQqrXHH3/cCTC6vW/fPieIKGSU1p0mPz3vpVauXOkME6BeEUSQGg7T814qqvbiF20CAOxq+rAZL9hrI+FNOvlJJ0EBpbSjp3CxceNGc+LEianxvGF5QaV0Cnq4f9euXWbZsmXUK3wJU8OqyfI61TLqibq9+EWbAAC7Yg3v+jD/3e9+5wR2IAiNqV2/fr3T46heQA252rJli+9AogDkJ/DU443t9XpAdWJe0KFfyKZGaziIONsLbQIA4hXLmPcoMV4yeVqthuJEvSZfluvXBtoEANTWEmPeAQAAADTOSnjP5XLurWjZWi5aTxrWNfWaXaz7ynhfAKBxVsJ7oVBwb0XL1nLRetKwrqnX7GLdV8b7AgCNsxLei8Vi5D0sWp6Wi2ywUUNxol6zLen1awNtAgCiYSW85/N5097ebqZNm9bwBkzP13K0PC0X2RBlDcWJeoUktX5toE0AQLSsXG0GKEUNIcmoXwBAnLjaDAAAAJAShHcAAAAgIQjvAAAAQEIQ3gEAAICEILwDAAAACeHrajMAAAAA4lHrajNcKhLWUUNIMuoXABAnLhUJAAAApAThHQAAAEgIwjsAAACQEIR3AAAAICEI7wAAAEBCEN4BAACAhCC8AwAAAAlh7Trvk5OTZnx83ExMTJg6L1FTLpczhULBFItFk8/n3blIkmbXUJyo1/TJUv3aQJsAgGCacp13bbSOHTtmTp8+3fBGS8/XcrQ8LRfZEGUNxYl6hSS1fm2gTQBAtKyEd/U2Rb3B0vK0XGSDjRqKE/WabUmvXxtoEwAQDSvhXYeJbbC1XLSeNKxr6jW7WPeV8b4AQOOshHdbPU70ZGVHGtY19ZpdrPvKeF8AoHFcbQYIYGxszHR3d5vOzk5n0m3NA7KKNgEA8SK8AwG0tbWZrVu3muHhYWeaM2eO2bx5s/tbIHtoEwAQL8I7EmF0dNQsWbLEDA4OOvcPHDhg5s+fb3bv3u3cbwb1Lo6MjJi5c+e6c4Dq4qzhZrUX2gQA2Nf08O5tVLxDrhx2RSUdHR1mx44dZs+ePU4wGRoaMgMDA2b58uXuI4Lr7e09q+40+Qk3XjDq6upyehkb+RuQHWFrWDVZXqeq3VpstJdaaBMAEJ/Ywnt5SPdC0oIFC8yhQ4emDrlq0iFYHYoFSimQrF271ixevNi57zcglIb00h3D/v7+s+pOk59l6u/Yt2+f83ipF6QAT5ga1mPK61S1W0/U7aUW2gQAxCe28F4e0r0NCT3vCGrFihVmxowZ7r36SkN66Y5haUjxpqDDClauXOkME6BeEUSQGg7T814qqvbiF20CAOxq+rAZet7hl3b0FCw2btxoTpw4MTWeN6ywPe+ldu3aZZYtW0a9wpcwNRy25z3q9uIXbQIA7OKEVSSCxtSuX7/e6XHUIfq+vj6zZcuW2AKJxxvb6/WA6sS8np4e97dAdXHWcNyvRZsAgPjkPqnzrRnvvPOOmTdvnnvPn6NHj7q3ojdr1iz3FpKi1WooTtRr8mW5fm2gTQBAbfW2O/S8AwAAAAlhJbzncjn3VrRsLRetJw3rmnrNLtZ9ZbwvANA4K+G9UCi4t6Jla7loPWlY19RrdrHuK+N9AYDGWQnvxWIx8h4WLU/LRTbYqKE4Ua/ZlvT6tYE2AQDRsBLe8/m8aW9vN9OmTWt4A6bnazlanpaLbIiyhuJEvUKSWr820CYAIFpWrjYDlKKGkGTULwAgTlxtBgAAAEgJwjsAAACQEIR3AAAAICEI7wAAAEBCEN4BAACAhPB1tRkAAAAA8ah1tRkuFQnrqCEkGfULAIgTl4oEAAAAUoLwDgAAACQE4R0AAABICMI7AAAAkBCEdwAAACAhCO8AAABAQhDeAQAAgISwdp33yclJMz4+biYmJkydl6gpl8uZQqFgisWiyefz7lwkSbNrKE7Ua/pkqX5toE0AQDBNuc67NlrHjh0zp0+fbnijpedrOVqelotsiLKG4kS9QpJavzbQJgAgWlbCu3qbot5gaXlaLrLBRg3FiXrNtqTXrw20CQCIhpXwrsPENthaLlpPGtY19ZpdrPvKeF8AoHFWwrutHid6srIjDeuaes0u1n1lvC8A0LhYrzYzNjZment7zejoqDsHiMfu3bvN4OCgey881XB3d7fp7Ox0Jt3WPCBNgrQX2gQAxCu28K7Q/uCDD5pFixaZLVu28AGPWBw4cMAsWbLEvP/+++biiy92biuYhNXW1ma2bt1qhoeHnWnOnDlm8+bN7m+BZAvTXmgTABCv2MJ7f3+/WblypdmwYYOZPn2682GvD33ADx2tUZDwegMVMubPn183WCxYsMC88MILZufOnWbTpk1mx44dZvny5e5vG6Odz5GRETN37lx3DlBd2BoOo1nthTYBAPbF2vO+a9cus3HjRnPy5Mmpnndvo+IdcuWwKyrp6OhwgsSePXucYDI0NGQGBgbqBgvV14oVK8yNN95o+vr6zC233DIVYFSTpXWnyU+Q8oJRV1eX08sY1c4A0i1sDasmy+tUtVuLjfZSC20CAOJj5Uuajh496t46mwK5hs5oo6CNSxizZs1ybyEpoqwhBYk1a9aYVatWOUdz/NLzDh8+bHp6etw50fBCVLW/hXpNvijrV8LWcBjNaC+0CQBoTFO+pKkaDZPRB3ppcKfnHUGpZ3DGjBnuPX/UE1geRML2vJfSUDANE6BeEUSQGlZNltdpvZ73UlG1F79oEwBgV6zhvRKNsTx06NDUyU6aGA+PSrSjp50/Db06ceJEw1eP0bJK605T0MP9Ggq2bNky6hW+hKlh1WR5nVbr1S4VdXvxizYBAHY1PbwDfmhM7fr1650eRx250dArXbUorkDi8cb2ej2gOjEv6qE4SKc4azju16JNAEB8Yh3zHgXGSyZPq9VQnKjX5Mty/dpAmwCA2lpqzDsAAACA8KyE91wu596Klq3lovWkYV1Tr9nFuq+M9wUAGmclvBcKBfdWtGwtF60nDeuaes0u1n1lvC8A0Dgr4b1YLEbew6LlabnIBhs1FCfqNduSXr820CYAIBpWwns+nzft7e1m2rRpDW/A9HwtR8vTcpENUdZQnKhXSFLr1wbaBABEy8rVZoBS1BCSjPoFAMSJq80AAAAAKUF4BwAAABKC8A4AAAAkBOEdAAAASAjCOwAAAJAQvq42AwAAACAeta42w6UiYR01hCSjfgEAceJSkQAAAEBKEN4BAACAhCC8AwAAAAlBeAcAAAASgvAOAAAAJAThHQAAAEgIwjsAAACQENau8z45OWnGx8fNxMSEqfMSNeVyOVMoFEyxWDT5fN6diyRpdg3FiXpNnyzVrw20CQAIpinXeddG69ixY+b06dMNb7T0fC1Hy9NykQ1R1lCcqFdIUuvXBtoEAETLSnhXb1PUGywtT8tFNtiooThRr9mW9Pq1gTYBANGwEt51mNgGW8tF60nDuqZes4t1XxnvCwA0zkp4t9XjRE9WdqRhXVOv2cW6r4z3BQAa15SrzRw4cMCsW7fOjI2NuXOAePT29prdu3e794JTzXZ3d5vOzk5n0m3qGGnlp73QJgAgXk0J70NDQ2b16tWmra3NnQPYp53G48ePm6uvvtqdE5xqduvWrWZ4eNiZ5syZYzZv3uz+FkgPv+2FNgEA8Yo9vEcRoJA9o6OjZsmSJWZwcNC5rzqaP39+oF70qHca1bs4MjJi5s6d684Bqouihv1qVnuhTQCAfbGH971795pFixZNbRC8jYp3yJXDrqiko6PD7Nixw+zZs8cJJgoWAwMDZvny5e4jatNzFCquuOIKd86ZIQGldafJT7jxglFXV5fTy+j3b0C2ha1h1WR5nap2a7HRXmqhTQBAfGIN7/qA18Zk1apV7hxjFixYYA4dOjR1yFWTDsFG1TuK9FAgWbt2rVm8eLFzP0hA2L59u1m2bJmzDE9/f/9ZdafJzzK1jH379jmPl3pBCvCEqWE9prxOVbv1RN1eaqFNAEB8Yg3vlTYI9LwjqBUrVpgZM2a49+qrtNMoYXveS61cudLpoaReEUSQGg7T814qqvbiF20CAOyKLbzrg3z//v1m6dKl7pwz6HmHX9rRU4/jxo0bzYkTJ6bG89bz5ptvOofyy3sRw/a8l9q1a5ezQ0q9wo8wNRy25z3q9uIXbQIA7IotvL/yyitm5syZTlgHglJv4Pr1650eR4WKvr4+s2XLlrqBRDuN27ZtM3feeac7pzHe2F6vB1Qn5vX09Li/BaoLW8NhxNleaBMAEK/cJ3W+NeOdd94x8+bNc+/5c/ToUffWGdog3Hfffebee+9tOLzPmjXLvYWkiKKGwtKQA/UE+umptIF6Tb5m1m/c4mgvtAkAqK3edieW8B4lPviTJ0vhpxz1mnxZrl8baBMAUFu97Y6VYTO5XM69FS1by0XrScO6pl6zi3VfGe8LADTOSngvFArurWjZWi5aTxrWNfWaXaz7ynhfAKBxVsJ7sViMvIdFy9NykQ02aihO1Gu2Jb1+baBNAEA0rIT3fD5v2tvbzbRp0xregOn5Wo6Wp+UiG6KsoThRr5Ck1q8NtAkAiJaVE1aBUtQQkoz6BQDEqSknrAIAAACIHuEdAAAASAjCOwAAAJAQhHcAAAAgIQjvAAAAQEL4utoMAAAAgHjUutoMl4qEddQQkoz6BQDEiUtFAgAAAClBeAcAAAASgvAOAAAAJAThHQAAAEgIwjsAAACQEIR3AAAAICEI7wAAAEBCWLvO++TkpBkfHzcTExOmzkuEksvlTKFQMMVi0eTzeXcuWlGr1lCcqNfkon7toE0AQGVNuc67NlrHjh0zp0+ftrbR0nK1fL2OXg/pEkcNxYl6zZa01a8NtAkACMdKeFdvU1wbLL2OXg/pEmcNxYl6zYa01q8NttrE+vXrzXPPPefei59eW3+DbSdPnjS33Xabef31180jjzziTADSzUp412HiOMX9erAvzeuUek0/1nEwft4vBWEF0/fff99cfvnlpr29/TPTypUrnTDrl5al5+hnUN7fE0YjIdvvTonCvN4n/QSQLlbCe9w9TvRwpU+a1yn1mn6s42DqvV8Kupdddpm5//77zUUXXWTeeustZ7jNyy+/bL75zW+aI0eOOPd37dplpk+f7j6rvqeeesrs3bvX+Zk2CxcuNP39/eaBBx4ItEMDoPU15WozBw4cMOvWrTNjY2PunE8NDg46E2BDb2+v2b17t3vvU6Ojo6a7u9v5GZaeu2TJEtPZ2elMei0gyaq1l1qf4aWiaBPqFX/hhRecoSHlXnrpJfPiiy+aw4cPOwFVveheL3ytQO713mu5r732mnnsscec+2F64OOk//G9994zb7/99tT/MHv2bOc9qOSaa64x5513nvP+AEiPpoT3oaEhs3r1atPW1ubOOUMf9Hv27DGrVq1y5wDRUeA4fvy4ufrqq905n9q+fbtZtmyZ6ejocOcEp+fu27fPDA8Pm4MHD5qRkZGKwQdIglrtpdpneLko2oTC9SWXXOL0uJfScJCf/exn5uabb3Z6l0U97+qB11Qe9r2wq2B/3XXXOYFXj//yl7/s9OTrvubr93EE+YceemhqR6N8qjb8R+tDnnnmGeen/m4dddDfXYmOQlx11VXOTg6A9Ig9vNsOUEgnrwfPOyqjOpo/f36gIBDnTuOJEyecAHHhhRe6c5B1UdSwXzbbS63P8FrCtgn1Miugl9KYb/Uq//73vzePPvqoWbFihbn00ktrju8uHW6jn+U7A/V+H4Z6/xXGy3cGNPxHr1Ntqjb8R8u75557zIYNG5zA7mcH49prrzWvvvoqQ2eAFIk9vGt84aJFiz6zQdDh1/3795ulS5e6c4yzofEOtzZy2BXJpx26HTt2OCFbwUTBYmBgwCxfvtx9RG16jnr9rrjiCnfOp958800zZ86cqZ1G1aKG0JTWnYKPQks9XkhavHixuemmm8yCBQvc3yDrwtZwmM9Bm+2l2md4NY22CYX3Ugrud9xxhzPe/YYbbnDmKQwryN9+++3We8yDUO+/wri3M6CTTct72WtNpVer0f+t90L/syaNZ/cb4AGkS6zhXRuEaj2cr7zyipk5c+ZZH+za0Ohwa+mkDyxkkwLJ2rVrnRAgfoOIVDuqo6C+bds2c+edd7pzjBNKtm7delbdHTp0yFfo0GP0WA0RUK1z/gZKhanhsJ+DNtpLrc/waqJuEwquH3zwgXNCZinNr9Vj3khwjoqOEpT3suvLWNRppZ/lv9PjRcH917/+tfnFL37h3Jd6/y+A9Io1vAcJUELPOyrRIfIZM2a49+oLutPYSM+7RzsAqnVOFEMlQWq40c/BKNtLI0Mbw7YJXWWmFl2Jpjx4a2jO3Xff7QRcT9jgXEu1cetBLgOp8K1hMrVCuP6PakNpNE/DabQzoyMQmgCkW2zhvdKwGM+7777r/NSYxVL0vKOUwrPW/8aNG53xs3578MqHxZTSBlEnh5VqpOfdo3pXACpfNrItTA2H/RyMur3U+gz3I2ybUHh/9tln3XtnU++4hpKUB+/nn3/eXH/99b6uhx5WpZ0BbwoSoDXsRe+J3+Ev9Y4glO846GRVnbQa5BKaAFpbbOG9Ug+np9qJUYBHvYHaaKnHUaGir6/PbNmypW4gUWCodFRHFG7CnHhXjZanHnr1jHZ1dTlDFoIMVUC6ha3hMGy0l1qf4dVE0SauvPJK5/KI5eFW9zX/4Ycfdud8Sr3QP/zhDz8zXr4Vqfde5xHop19aR5V2GsrfC52kqsth1jt6ASBZYgnvcQYopJMCiC455234vfs9PT3O/Wri3GnUa6iH3usdJbijVNgaDiPq9lLrM7yWKNqEhpPoUpG6ZGQpb36l0OtdRrKVQ6v+xgvdK+8oeIt6zqM8WqCTekVX5gGQHrlP6ny1ncYCzps3z73nz9GjR91b8Zk1a5Z7C60mKTUUJ+o1OajfeNRqE+pl15VVNAyodBy7aJhIeYD/4he/6Fy3vd7JnFruXXfdZZ544om6jw1KIVzDfcrHznt/r4YfPf3002cNZ1FP+a233ur0xKsXvdLwGx1RqfUFVN7ztHOgq+88+eSTnzm5F0Brq7fdsRLeP/zww1i/HjyXy5kLLrjAvYdWk4QaihP1mizUr320CQD4VL3tjpVhM4VCwb0Vj7hfD/aleZ1Sr+nHOg6G9wsA/LMS3ovFotOTEge9jl4P6RJnDcWJes2GtNavDbQJAAjGSnjP5/POiTfTpk2ztgHTcrV8vY5eD+kSRw3FiXrNlrTVrw20CQAIx8qYd6AUNYQko34BAHFqyph3AAAAANEjvAMAAAAJQXgHAAAAEoLwDgAAACQE4R0AAABICF9XmwEAAAAQj1pXm+FSkbCOGkKSUb8AgDhxqUgAAAAgJQjvAAAAQEIQ3gEAAICEILwDAAAACUF4BwAAABKC8A4AAAAkBOEdAAAASAhr13mfnJw04+PjZmJiwtR5iZpyuZwpFAqmWCyafD7vzkWSNLuG4kS9pk+W6tcG2gQABNOU67xro3Xs2DFz+vTphjdaer6Wo+VpuciGKGsoTtQrJKn1awNtAgCiZSW8q7cp6g2WlqflIhts1FCcqNdsS3r92kCbAIBoWAnvOkxsg63lovWkYV1Tr9nFuq+M9wUAGmclvNvqcaInKzvSsK6p1+xi3VfG+wIAjYvlajNjY2Omu7vbdHZ2mt27dzvzBgcHTW9vr3MbsEX1prpT/akOR0dHzcqVK82BAwfcRwRTWsulywXSIEx7oU0AQLxiCe+vvPKKmTNnjtm5c6fZtm2b+dvf/mb2799vfvKTn7iPAKKnAKF6U92p/lSHmzZtcnYaFyxY4D4qmLa2NrN161YzPDzsTFru5s2b3d8CyRW2vdAmACBesYR3mTt3rvNTVxz45S9/ae69917nQx/wQz2AS5YscY7YiHoC58+fP3Ukp5qZM2eajo4O5/auXbucn8uXL3d+NkphZ2RkZKq2gVrC1nAYzWovtAkAsC+W8H7FFVeYLVu2mBtvvNEJ78uWLZvqyfE2Kt4hVw67ohIFih07dpg9e/Y4wWRoaMgMDAzUDBbaOVSIWLx4sXO059ChQ6avr8/9rXF6FEvrTpOfIOUFo66uLqeXMaqdAaRbmBoWbyhL6VRvyKGN9lILbQIA4mPlS5qOHj3q3jqbgvrGjRudAK8Nw+OPPx74Q37WrFnuLSRFlDWkILNmzRqzatUq09/f786tzws727dvd8LJE088EcmRH2+51f4W6jX5oqxfCVvDYTSjvdAmAKAxTfmSpkrUk/6rX/3KfO1rX3N62r3x7//4xz/oeUcgK1asMDNmzHDv1acAc/z4cWcqHc+rkFFad5r02CB0Mp+GCVCvCCJIDasmy+vUC8h+RNVe/KJNAIBdsYV3ncC0aNEis3DhwrPGQ15++eVOL7x3spMmnfzEeHiU05Eb9ebp6M2JEyemxvPWosP5jz32mHnggQfOGs8rWlZp3WkKeiRI44I1DIx6hR9halg1WV6nfnrRo24vftEmAMCuWMK7enIOHz5senp6zhr/vnr1aj7g4YtCxfr1650eRwUKjcVVHdUKJOr527BhgzN96UtfmhrPq17Bq6++2n1UMN7YXq8HVMtUXQP1hKnhsOJsL7QJAIhXrGPeo8B4yeRptRqKE/WafFmuXxtoEwBQW8uMeQcAAADQGCvhPZfLubeiZWu5aD1pWNfUa3ax7ivjfQGAxlkJ74VCwb0VLVvLRetJw7qmXrOLdV8Z7wsANM5KeC8Wi5H3sGh5Wi6ywUYNxYl6zbak168NtAkAiIaV8J7P5017e7uZNm1awxswPV/L0fK0XGRDlDUUJ+oVktT6tYE2AQDRsnK1GaAUNYQko34BAHHiajMAAABAShDeAQAAgIQgvAMAAAAJQXgHAAAAEoLwDgAAACSEr6vNAAAAAIhHravNcKlIWEcNIcmoXwBAnLhUJAAAAJAShHcAAAAgIQjvAAAAQEIQ3gEAAICEILwDAAAACUF4BwAAABKC8A4AAAAkhLXrvE9OTprx8XEzMTFh6rxEKLlczhQKBVMsFk0+n3fnohW1ag3FiXpNLurXDtoEAFTWlOu8a6N17Ngxc/r0aWsbLS1Xy9fr6PWQLnHUUJyo12xJW/3aQJsAgHCshHf1NsW1wdLr6PWQLnHWUJyo12xIa/3aYKNNnDx50qxcudI899xz7hw79Dq33Xabef31180jjzziTABgm5XwrsPEcYr79WBfmtcp9Zp+rONg/Lxf69evd8KxF8zb29vPmi688EInRNej5ZQ/t3QqD+BappZd/jj9DcePH3cfVZ2WV/7c0knL0f8keq3LL7/c1/8BILushPe4e5zo4UqfNK9T6jX9WMfB1Hu/FIAvu+wyc//995vp06ebXbt2OcNtvOnIkSPmuuuucx9d38MPP3zW80snvUaphQsXmg8++MD5nXrZt23b5tzW3zBz5kz3UdVpeaXLL51efvllc95557mPPPNa/f395oEHHpgK9ABQLtarzYyNjZne3l4zOjrqzvnUgQMHzEMPPeTeA6K1e/duMzg46N47m+pO9dco1fWSJUtMZ2enM6nWgSSq1l5qfYZXEkWbeP/9980LL7zgBOdqDh8+7PycO3eu87NVaSekvGe/3DXXXOMEeu9/AoBysYV3fWg/+OCDZtGiRWbLli2mu7vb2RB4H+5vvPGGc2at5lcLWUBQCuWqLwWAiy++2LmtYCKqM9Wb6k71p9/5DSWVdHR0mH379pnh4WFz8OBBMzIyMvVaQBLUai/VPsNriaJNvPbaa+aSSy4xF110kTvns1566SVz1VVXOb3yfmiHvdIQFk0aVlOJesLfe+898/bbb08NpZk9e7Z58cUX3UcEpyMGes3Sv1u39b/ofwKASmIL7zoUqLF9GzZscD6ctm7datra2qY+3Pfv3282btzo/L6np8d9FnCGt5Pn7dgpZMyfP79uEFiwYIHTa7dz506zadMms2PHDrN8+XLnd6oz1ZvqTvWnOlQ9RuHEiRPOYXFt4AEJW8Nh2Ggv1T7D/QrbJhSWb775ZvfeZylIP/PMM+baa691xosrDCtU7927133E2R599NGzhq6UT/p9JRrf/u9//9v5e7yhNEGH65S74YYbKr6e/pdXX32VoTMAKoq1511jBBWU9IFU3vOu3hwvSHkbHG1ovMOtjRx2RfIpVCtI7Nmzx6mZoaEhMzAwMBUsqlFoWbFihbnxxhtNX1+fueWWW6YCjOrM22FU/akOtWzVpeqztO4UfLSseryQtHjxYnPTTTc5YQiQsDUc5nPQRnup9hleT6NtQmG5Gh0huP322502rED91ltvOQFcoXrp0qXuo86od6Jq+VTeA68jAN7QHb1uPZVeTz3+1Xr9q/X4A0A5K1/SdPToUffW2fRBr8Ou2iiU93DqA/7pp592TiQKY9asWe4ttJooa0hBYs2aNWbVqlVOT6Bfep7GkFY6qqON6a233hpp0Fat33XXXWbZsmUVX5N6TY4o61fC1nAYUbeXWp/h9YRtEwq16nlXL3UpBWj1eq9du/YzJ5lq50Jt+p577vnM88LQa+lvf+KJJ8xTTz3lzNNr6nX0/ur98Ia5lP8tYehogo58PP74476HAgFIj6Z8SVM1OsSqDUilD30Fp/Lgrg1I0B4npJ96BmfMmOHe80c9jpUCg6juSoO7QkbYnnePal0hhZPOUEmQGm70czDK9lLrM7yesG1CV5kpp+u3a8NWKbjXo52Batd/1/xKPeDawdeOgMbdr1u3zhnS4vdyjrVOUq32egBQS6zhPShtQHSiU+lku6cKrUvhWetfh+01ftYbXhU1hQyN5y2tu0OHDgXqmdcOgIYsaIww4AlTw2E/B+NqL36FbRMK788++6x770zgveOOO5zLLEbRy12PF7y9Hnz1hKunXT3jfq7zHkbQE3ABZEtLh3fAo3G76qFSj6N6/bTx1BUvmh1ISiksqYdePaNdXV1Or2C9McbIjjhruFXaSxRt4sorr3Su8uKNM1eI1smiGuMe1urVqyuOO9f8ctpBKD+pVK+t4TN+rvMu1ca5V3o9DcXRScOVjjgAgBDekQgKILoajLfh9+5XGwrTDOqZVw+91ztKcEepOGu4VdpLFG1CQ1V0qUidMBoV74uWyifNt6Hal0JVej0dURBd7x0AKiG8AwBamsKvjiJUG6seVJCe9yj47XnXOHr9nz/96U8ZMgOgKitXm/nwww9j/XrwXC5nLrjgAvceWk0SaihO1GuyUL/20SYA4FNNudpMoVBwb8Uj7teDfWlep9Rr+rGOg+H9AgD/rIT3YrHo9KTEQa+j10O6xFlDcaJesyGt9WsDbQIAgrES3vP5vDOeb9q0adY2YFqulq/X0eshXeKooThRr9mStvq1gTYBAOFYGfMOlKKGkGTULwAgTg2PeVfvCCdeAQAAAHYpc9c7Yls3vJ9zzjnm1KlT7j0AAAAANihzK3vXUje86xvkPv74Y/ceAAAAABuUuet9e3Pd8H7++eebiYkJ89FHH7lzAAAAAERJWVuZW9m7Fl9Xm5k9e7Y5fvy4OXLkiBkfH2cMPAAAANAgZWpla2VsZW1l7nrqXm2mlPYItOD//ve/BHgAAACgATo5VWPcNVSmXo+7J1B4BwAAANA8vobNAAAAAGg+wjsAAACQCMb8f+bwqkMBrwZTAAAAAElFTkSuQmCC)"
      ],
      "metadata": {
        "id": "nHQ938I81hKd"
      }
    },
    {
      "cell_type": "code",
      "source": [
        "x = 5\n",
        "print(x)\n",
        "x += 3\n",
        "print(x)"
      ],
      "metadata": {
        "colab": {
          "base_uri": "https://localhost:8080/"
        },
        "id": "0S8pjeUI2OUV",
        "outputId": "c1cefbfa-c68f-4296-bc77-4b1cfc43a52d"
      },
      "execution_count": null,
      "outputs": [
        {
          "output_type": "stream",
          "name": "stdout",
          "text": [
            "5\n",
            "8\n"
          ]
        }
      ]
    },
    {
      "cell_type": "markdown",
      "source": [
        "#12. 함수 구현하기\n",
        "파이썬에서 함수(function)는 특정 작업을 수행하은 코드 블록이다. 반복되는 코드를 줄이고 **재사용 가능**하게 만들어 코드를 효율적으로 작성할 수 있다. 함수를 정의할 때는 def 키워드를 사용한다.\n",
        "\n",
        "![image.png](data:image/png;base64,iVBORw0KGgoAAAANSUhEUgAAASoAAABcCAYAAADZNvhHAAAAAXNSR0IArs4c6QAAAARnQU1BAACxjwv8YQUAAAAJcEhZcwAADsMAAA7DAcdvqGQAABNTSURBVHhe7Z0JdBTXlYYvIIHQBkhCIIPAJpjFWIDxAsgCwhIwi4UQ2DFxfDzjTCAZB2cmMLYZ4gHbIcQJZCa2k2PIyeIQYpvFyJhNRKCBaIRkgwCJVSxmMQgJSWhBG5Jg6n+q16ouVfWibqC6db9z3umuV6+qqwrq139vvXqvXV1d3W1iGIaxMO3VT4ZhGMvCQsUwjOVhoWIYxvKwUDEMY3lYqBiGsTwsVAzDWB4WKoZhLA8LFcMwloeFimEYy8NCxTCM5WGhYhjG8viFUO3JbaQFa+qpqtb+tcU/pjWIcrfA77/6p5uUd+GWWnNv+OjjjaLU1NTQT//rbTqVf1pd45gVv1hFmZnZVFJaSv/2k9fFpzvgd/B7+F2G8SbsqBQgLBAYvdAZAVGcsrROlKTlrovSso/qbdsZFezXHSAo48ZPtStzn3/JqbhATGYkPmu3HQTKGRAfiBd+Vwu2hSi6gxRShnEVrwpVaV4ppSXvotoi9/6inlx9gjbFbRBlx+RtLm2vvfHf2dRA+ZdvUfKKm2LZHQEBmzIb6cj525Sd73gbiMnvdzXQ2p90pNQ3O9ErT3egn2+op6Jy5wK3bG6g2MaojB7k+J8B4jNv/istnNFTUybR3vQdony6aR316BGtrjFn4IAHaeuW9bbtVixfpq65O+Bctny+XRRHoop1rXF1jH9yzx0VxO3cxnM0/m8TaXbeMzR113QKiu6srjXH0Y2fsqQjxfV1fmoQM4gaWPlSIL37uXEICVC3OesWfX9yAEV3aSfqJgztQAN7taetXzp2Q9gW+5XCqi/7T5oLJJzM2z/7JY0fP1aIjLe5cPESjRuboC61jg9W/0E4M4jpjRtVam1L4KKSZz9PC16eT4lPTxPfzZxVZEQEjXziMXHuHEoy91yoagprKOS+YArrF6bWuA6czNyV9je9Pif1yT+aQjVZL8UJdWtSG2ndwkAhehA2CNy8KR3o+VVNoqIVrao68UEP6wRw7JD2dPGac0cFXpsdYCisKBA9I1I+2yY+k2ZOF5/eBAJw7PgJioyKUGucs3jJMruwcWdqGv1g/veEO1uz+l0KDQ1RWzYBIZJtAdrFx4+kuc/NEd+BXK8XLbTpEd3ddg2YtovHQnU57bItbEv/zm6qv1GvriGqr6qnvS+m29Z/8Zp9fgNUnq1Qv7kHBOTtTxqEw9He8BANrVh9e0wHUf/SpACxLAUJde/NC6SQoCZ3JHG23oiSyqbjcQZCVCmo+oJQVg/CnvT0ffTDH3yPOnd27jK1wOU8NS2ZDh/OU2tacuhQLoUEB7vl1BAqyrARBeGnI6QgoeC7Hmfrk5MTxTUwCgEhbMi3ufqwgPFdPBIqhG1H3jlsC9vwGRgaqK5VboS3cqhzz2CxLjEriWquVot8FIBoQbyOvX+UinOKacuoFLEs1/sSkYoZdCRoWAfRk2JqVODq9Jw6eZqCQ4KpT2xvtcZ14HJ2bv+Uhg+PU2vswY3/5w/XCSHQAseEkKywsEitcY6roV9rwLnjGuBaMG0Xj4YihtiE9wunQfMHi2UIV87SA5TwwRixnP0fWTTyV6NsOSe4rzNr8yn+dwkUGNJ0Y0KYCjOv2tW5CkK/H//+JpUqjkYCByXdk3RWchmu5/W/NCXeXUXuT247a1R7uzANTqhP93a2Nm8qyy9MCBDOzJPfA3AM589foMWvLxTLWvD0be++DNs6CA/yOW/89FXatWuPqEO4uHzFSnrhu8/ZuSaEfIuXvClyQFoXgyd4yFcNHPSgbV/IFQG5zaFDR8SyFogi9gNns/avH9OSxYuEA8TywkVLqLJS8w/kgLCwMFq1cnkLh4fjuv/+voaOi2kb3DGhqi6soYz5+6i+0j6kiRoR5TWh8hbIW63d00BLFVfjyBnJp36/+X5HkVDXL+uFylNktwEzoYL70XLffTH0/nsrHQqVFBzkfvT7dSRUrqAXKjNkLspV4XEk2Ezb4I4m04OVsG/67hki9JNl3IfjvSpIcE1GOR9Z9Ml1T4CTQk7shV83JeO1IuUICJijp34oRscJF2EGEtIytyPLR+v+6FBYtE6qtTc9xOhud+qESDm6Foz/45FQwU3BDSFpjr5P2Qv325LpeIoXGBZIuatyxfKdRCbM9QX13gZiJff/0aJOTkVK0jnwtugCoT0+WcyOs2+fWCosuuY1UYDL+Z9f/+KOhVBwbT976w23E/+OwLnjGuBa6OFketvBI6H6xnf7i08kwnclpdLQV4dTcEywqINrQjiHBLp86ueryfJ7BUIwJLXxdK6tcvHS11RdVS2uBdN28fl5/RAyoa+UGdrktBmu5qicYZajciWpbnaccA3ZXxygFcuXuuxUZA7ILJluhis5KlcS5OjCgNDUDHdyVJxIZwBPQGpxtHmltnaztkakGf/kjibTGc/BDQpng06PbSkXg+4WECmcO4sUw46KYRjLw46KYRjLw0LFMIzlYaFiGMbysFAxDGN5WKgYhrE8LFQMw1geFiqGYSwPCxXDMJbHb4UKr1/Id8r0GA1VgnfK0B49os1mP0F7oymjHG3DMIzn+LxQQWD0wuFNIGpyHjyMQY4RLrUTHOD3WwuEDXPxyX0ZFQig0TAvEFWj9rKYiTTD+CI+/QqNfGH32TmzWrytL29U+SKvo7f+5QQFeEt/8uQJbo9uCcFpzYiYzoAAr9+42fClXP35MYw/49OOSo7ThLHDjVyHFgxzop14U1tcGe1SDIGicSw8YBvD3D18VqjgKKTbwBhKL/3Lyy7liPSCow0bMZuK0Qws+C2MMolZXaS4/acibsveXGH7TWyDbV2ZVt0dMLY5jx7AtHV8TqhkXgdgWF3cxAj7MKnBjxYscpivguAgvJNig2nQIXZSWDCbitnU6M4EA9tgW2fjlmvB8WhFU1/0kzcwTFulTQ3zos/rQKBkbmnNmj85zFHBiWFWYImc8QVttPvxdo5KOyWWFpwLHKAZjzwyjAecY/wGnxYqZzernG9Oi15w5LC5qG9tMt1biLBUCWPlgwFHQsUwbQm/dVR69+QpcE0ILa9cKVBr7NE6rNaiFypvnwPD+CptzlFJ9M5K0pqQyVuhn16oGIZpwueFCrjjOGTfK7PJEhBuvffb1S3ckbcdlZlQmoG+XggBW7sdw/gyLFQ6HAnVvcpdMUxbx69DP0dhnLuhnzNHBZzNZ8cwTOvw22Q6wzD+g9+OnsAwjP/AQsUwjOVhoWIYxvKwUDEMY3lYqBiGsTwsVAzDWB4WKoZhLA8LFcMwloeFimEYy8NCxTCM5WGh8iHwvuG8+a84nFQC7z/iPUYteBHbaD5CZ7jye77MlStXaeu2XVReXqHWOOZU/hnasXO3cj1rKXVXOh07dlJd4znnL1yibdv/TjduVKk19uAYP9+aShcvXVZrmnD3HHwVFioLAZGRI0JIjOq0SBGS46zjJW28bC2XMb58cYnxZBMQLtlOW9wVNKuTnp5Bhw/nqUvNlJRep8CAAAoJCVFrmgRj/YbPlGv+qa18tmWHEJDCwmvUJTyMauvqqE4p3bp1VbdyHTNBKi4upaBOnSg0tPlYtFwvK6f27dtThO43jc7BH2Gh8nEwygMmuZATVugLJpuIijQelgYjPWjbYpadMWPiKTLKd4ax+XvaXjp+/JS61JLq6hohLBEG16D4WolyrpEUENBBrWkSjMiIbjT3uWRbmZk4lQIDA6mqqlpcmxKlTYAiDq0RqrLrZS0E6fbt21RWVkaRkd3UGlKE8CZt35FmE8v9+7+kiopK4aqwvOnTreIPkP4cSpX9w2Hh059ok0J1Oe0y7X0xneqr6tUa38fIHbnrjFI+20ZDHhos5kCUVN64IcI/b08DJgUGYRTCKTgNd8E+wEMPDRSfRly+UkC1tXVCGBAebU7Zbrv5i64VU9cu4WrLZsFAvWyD9tgOpVoRqpycXPrywCHqHBSk/JEIUrd0Dewf4qIVJAABwnXQimmnTh1p2tRJdoKpLbOTZ1Cw8keqWnHU2nOA4+qkCOHBg0fUGv+AHZXFQOimFRv9eFtGwoEc0p8/XCem65LuCN9R52p+CXmt7C8OUNLM6WpNE2GhobRm9btuTQPmDPy1R+jUM6aHmC8RYDoyd9if9aXYR8KT5uN/wQHl55+lxsYGITJdlBt6VtI0caOPGxuvhEvB1L17pNq6WTCeVPYpBQHtsd11RcCClfZJM6dRhOK4oqOj1K1cp6iomMrLKqhjx45qTRNmYV1VdTXt3ZdJGzZuEaL58SebhajLUL5M2Q6OEcIJ9wUXBh59dJhy7lWtEn+r4nNCBRcENwRX9MVr2bQpbgNtiU+h0rzmv/ZYh3r9OnxiOevfM6k4p5i2jEoRbXZM3ka1RTV2+5acXH1C/A7A9mnJiq0+Wiq2wbZaZ4a2sr38fe2+XAHjvGvDMSxrcUc4IGoIUySYJ1A/wzPyXxBEzMAj50m8U0AEEJakpu6hysob4hMhDW64HTvTXA5X4MQKCgqV0PUJU1cDEcvOPkjR3aOoZ49o+uqri8LRSIxyO2aCATzNTzU0NNLxE6eoXft21HjrllrbBMJNGdbJfBh+I+MfWcK5PT1jshDNpJlTRYh3+vRZsR3OITwslJ6ZM1O4L7gwgOPHeRUUXBXL/oDPOiqITXi/cJqd9wz1HBNDZ/7adPNBTI68c5jG/22iWPfoW49T9sL9Qogi4iIoMTOJRv13PEWNiKLErCTRZuqu6RQU7doNWn21mjLm7aORq0bT9N0zqLqgmor2N8+sfOz9o7bjGvKjh+nM2vw7HmIiVPunF58XMzVLJ4bviU9PsxtxFCOQYlp7tIcbgyuDi0Juyp3hnFsLRGXG9MmKKMaKAnfStWsXGj36cUqeNcNQIPRA7M59dYFiFDdm1h43/p70DOrarQs99thwGjR4gLipjx49obYwz09p80AocDMXLn7tcX7qhCJSEMq+fWPpmhJaStGU4ebgQQ8KMUI+DGFqleKUamprxe/AgaFdeXkl3bxZr4hTmNjW6BwkoaHBiuBVq0u+j88KVey0PjRo/mDxvde3elONIiAQhKLMQuo3p58QJRA9OpqCY4KpJLfZWXgKxA/7h7hFPhJFlWebHw1rjys6vgfVV9ZTY1WDWHYFZ6GfGTIxDgeGCR3w3ZH4wI3BlTlyUWgD96bNWXkKhKZMCX9iYnqKG7GxsZHCFafiKggVGxoaaOBA42M6e+68Ir4HaWjcQzTikaHUrl078TBh+LAh9PXlAlu4pM/tgMeUkEmGfLI8MyeR+vbpTVOfmqhch/7Uv/8Dwr24mp+CwBzJPUaXvr5CI594lGJ79xKOCWEgMMpPgW6KgD/wQF/KzTtOn6xPEQXnNeDBb4icnNk5+Cs+NxQxxCjzXzOo/wsDqNekXmptMwi7Lm2/qC41Axcl2yMcg9OJ/10CBYYEijpgtG+EchXnKuiJd0YKt5az9AAlfDDG0IFp2wJn7d0FLmjx4mW0cOECm3ggjFu4aIkSSlWKZSPeWPIqbd2eSs/OmdViTHfZ9QGihn3tVEKwH7/yQ1GHvJW3pu/Czbh7zz4R8ulByPLNbya45KiQmyopuU4TJ4x1WSz0oO9RzqFcGpMwSuSftOQprkvrvIyACA4ZMkhdMgfhW1bWQSEoY8eMFjkxCFdGRjaVV1TQeOWcrxWXiP5YyJmZdU1oDXjQAFc1etTjao1v45fJdIRcCL20xUjUrIi7nSwhWAjntHktfXnyyVFq63uHPuyDW4lSwpZhQ4e4HPZJ8FTLmUghP4X+U0Y46nsU9/BgO0elLU8prgpi42rYd+JEvvicMD5BbAfg8EaMGEpBQZ0UwS112H+qVnGcWVkHaHPKNpFIl+Hoxk2fiyQ7ku1GINeHP1xdwv3HbfmdUCEMzP/wlHAzZnTu0ZmqrlRT5TljFyJDOTgv5JysgqNQDAKHjp/ySaAW2dfKzBnJcBMCWa3+58d+cvOO0fqNmxU3VCPqvAHyJriBtE/+vA0S12XlFaZP5iBGU6ZMMMztOMLd/NTw4XE0bly8EFYtEK1JE8dRbGwvkZ/Sd1cAcKDp//t/dEtxYHCPz317lhBLfEL40OUiVwkpjbhaUCjyWggd/QX/EyrFOSGHlP6d3bYnb/KpngT5JeSxZBu5HmFg3KJhQuhQj/BwwD+b99HxF+STRohgcHCwECbMYbjg5fmi2wD6V3kDrTjhZsIN7I6TAhA57AM3shl42ok27ia8nQEH1Jr+U2aY5acAQmSIEZ40aoUOyfQKZR3OL6JbS4HDNT556jT1U0TKW8dpBXi6LIsBJ9Oa+QNd2c5oinvkqLQJe/RMR7JXm89CrgrdF+7Gk0FnoG8QOjOir9D9fWPVWnvOnPmKDuYcoVu6bgBaXM0zSeDSkGPr3SvGre0cgXMxy08hl4XzgOjgiSOWARwdxAvH0Es5Fj2yE+y3Jo0Tn/4CCxXjc/jrzegp/nxd/DKZzvg3/tjz2lPk+47+Kt7sqBiGsTzsqBiGsTwsVAzDWB4WKoZhLA8LFcMwloeFimEYy8NCxTCM5WGhYhjG8rBQMQxjeVioGIaxPCxUDMNYHhYqhmEsDwsVwzCWh4WKYRjLw0LFMIzlYaFiGMbysFAxDGNxiP4fIcLL3wcVtOgAAAAASUVORK5CYII=)\n",
        "\n"
      ],
      "metadata": {
        "id": "DteuEqgrNDNv"
      }
    },
    {
      "cell_type": "code",
      "source": [
        "def greet():\n",
        "  print(\"안녕하세요!\")\n",
        "\n",
        "greet() #함수 호출"
      ],
      "metadata": {
        "colab": {
          "base_uri": "https://localhost:8080/"
        },
        "id": "DRw1xpCU3q_l",
        "outputId": "10b2c07a-8ed1-4c47-e251-0b2182d62260"
      },
      "execution_count": null,
      "outputs": [
        {
          "output_type": "stream",
          "name": "stdout",
          "text": [
            "안녕하세요!\n"
          ]
        }
      ]
    },
    {
      "cell_type": "markdown",
      "source": [
        "##12.1. 매개변수(parameters)와 인자(Arguments)\n",
        "함수는 매개변수를 받을 수 있다."
      ],
      "metadata": {
        "id": "WUWMW35VONaw"
      }
    },
    {
      "cell_type": "code",
      "source": [
        "def greet(name):\n",
        "  print(f\"안녕하세요, {name}님!\")\n",
        "\n",
        "greet(\"Alice\")"
      ],
      "metadata": {
        "colab": {
          "base_uri": "https://localhost:8080/"
        },
        "id": "LN7SPTgN3hGl",
        "outputId": "c9f18845-37af-4e92-d140-931a70f4df3c"
      },
      "execution_count": null,
      "outputs": [
        {
          "output_type": "stream",
          "name": "stdout",
          "text": [
            "안녕하세요, Alice님!\n"
          ]
        }
      ]
    },
    {
      "cell_type": "code",
      "source": [
        "def add(a,b):\n",
        "  return a+b\n",
        "\n",
        "result= add(3,5) #3과 5가 a, b에 전달됨\n",
        "print(sum)"
      ],
      "metadata": {
        "colab": {
          "base_uri": "https://localhost:8080/"
        },
        "id": "KjzMDyCqOhfa",
        "outputId": "5e50078a-a6aa-4e9c-a1c3-d3c32f5140f8"
      },
      "execution_count": null,
      "outputs": [
        {
          "output_type": "stream",
          "name": "stdout",
          "text": [
            "8\n"
          ]
        }
      ]
    },
    {
      "cell_type": "markdown",
      "source": [
        "##12.2. 기본값 매개변수\n",
        "매개변수에 기본값을 설정하면 인자를 생략해도 기본값이 사용된다.\n"
      ],
      "metadata": {
        "id": "nn0QK5sYPAwX"
      }
    },
    {
      "cell_type": "code",
      "source": [
        "def greet(name = \"Guest\"):\n",
        "  print(f\"안녕하세요, {name}님!\")\n",
        "\n",
        "greet()\n",
        "greet(\"Alice\")\n"
      ],
      "metadata": {
        "colab": {
          "base_uri": "https://localhost:8080/"
        },
        "id": "TqnHBcn-O_uw",
        "outputId": "2e83261b-87ed-4b46-cd1c-75b5ef894cc3"
      },
      "execution_count": null,
      "outputs": [
        {
          "output_type": "stream",
          "name": "stdout",
          "text": [
            "안녕하세요, Guest님!\n",
            "안녕하세요, Alice님!\n"
          ]
        }
      ]
    },
    {
      "cell_type": "markdown",
      "source": [
        "##12.3. 가변 인자(\\*args, \\**kwargs)\n",
        "\\*args를 사용해 임의 개의 인자를 튜플 형태로 받는다.\n",
        "\n",
        "\\**kwargs를 사용해 임의 개의 매개변수와 인자를 받아 딕셔너리 형태로 저장된다.\n",
        "kwargs.items()로 키-값을 가져올 수 있다."
      ],
      "metadata": {
        "id": "SBAgo9rVPTtb"
      }
    },
    {
      "cell_type": "code",
      "source": [
        "def sum_all(*args):\n",
        "  return sum(args)\n",
        "\n",
        "print(sum_all(1,2,3))\n",
        "print(sum_all(4,5,6,7,8))\n"
      ],
      "metadata": {
        "colab": {
          "base_uri": "https://localhost:8080/"
        },
        "id": "j0ZFbgJVPr3Y",
        "outputId": "3c67ed65-40a5-4b85-a406-cd473f9f1697"
      },
      "execution_count": null,
      "outputs": [
        {
          "output_type": "stream",
          "name": "stdout",
          "text": [
            "6\n",
            "30\n"
          ]
        }
      ]
    },
    {
      "cell_type": "code",
      "source": [
        "def intruduce(**kwargs):\n",
        "  for key, value in kwargs.items():\n",
        "    print(f\"{key}: {value}\")\n",
        "\n",
        "intruduce(name=\"Alice\", age=25, city=\"New York\")"
      ],
      "metadata": {
        "colab": {
          "base_uri": "https://localhost:8080/"
        },
        "id": "DBAQepk9Ox0y",
        "outputId": "cf4746c4-e4ae-4a38-e732-ed495268e767"
      },
      "execution_count": null,
      "outputs": [
        {
          "output_type": "stream",
          "name": "stdout",
          "text": [
            "name: Alice\n",
            "age: 25\n",
            "city: New York\n"
          ]
        }
      ]
    },
    {
      "cell_type": "code",
      "source": [
        "def show_info(title, *args, **kwargs):\n",
        "  print(f\"제목: {title}\")\n",
        "\n",
        "  print(\"위치 인자:\", args) #튜플\n",
        "  for key, value in kwargs.items():\n",
        "    print(f\"{key}: {value}\")\n",
        "\n",
        "show_info(\"학생정보\", \"서울\",\"대학생\", 이름=\"Kwancheol\", 나이=20, 전공=\"Mathematics\")\n"
      ],
      "metadata": {
        "colab": {
          "base_uri": "https://localhost:8080/"
        },
        "id": "I-LZPmH1Qhmr",
        "outputId": "e8b2a199-37e3-435d-976c-8c0d63074f6b"
      },
      "execution_count": null,
      "outputs": [
        {
          "output_type": "stream",
          "name": "stdout",
          "text": [
            "제목: 학생정보\n",
            "위치 인자: ('서울', '대학생')\n",
            "이름: Kwancheol\n",
            "나이: 20\n",
            "전공: Mathematics\n"
          ]
        }
      ]
    },
    {
      "cell_type": "markdown",
      "source": [
        "#13. 클래스\n",
        "클래스는 연관된 데이터(변수)와 기능(함수)을 하나로 묶어서 관리하는 구조이다. 이를 통해 객체지향 프로그래밍(Object-Oriented Programming)을 구현할 수 있다. 학생 정보를 저장하고 관리해야 한다고 가정하고 클래스를 활용하는 예시를 들어보자."
      ],
      "metadata": {
        "id": "KpUA4P35VOTm"
      }
    },
    {
      "cell_type": "code",
      "source": [
        "Student1 = {\"name\": \"Alice\", \"age\": 20, \"major\": \"Mathematics\"}\n",
        "Student2 = {\"name\": \"Bob\", \"age\": 21, \"major\": \"Computer Science\"}\n",
        "\n",
        "print(Student1[\"name\"])"
      ],
      "metadata": {
        "colab": {
          "base_uri": "https://localhost:8080/"
        },
        "id": "jf0jMwJeQT9p",
        "outputId": "e0cc4ac1-ccd1-48d8-cb2a-935de041d52b"
      },
      "execution_count": null,
      "outputs": [
        {
          "output_type": "stream",
          "name": "stdout",
          "text": [
            "Alice\n"
          ]
        }
      ]
    },
    {
      "cell_type": "markdown",
      "source": [
        "클래스를 활용하면 학생정보를 담을 수 있는 클래스를 만들어 학생 개개인을 클래스의 하나의 객체(Object)로 다룰수 있다.\n",
        "\n",
        "![image.png](data:image/png;base64,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)"
      ],
      "metadata": {
        "id": "cDfQ-lbnWTqB"
      }
    },
    {
      "cell_type": "code",
      "source": [
        "class Student:\n",
        "  def __init__(self,name,age,student_id,major): #클래스의 속성을 초기화(정의)한다.\n",
        "    self.name = name\n",
        "    self.age = age\n",
        "    self.student_id = student_id\n",
        "    self.major = major\n",
        "\n",
        "  def introduce(self): #클래스 안에 클래스의 메서드(함수)를 만들어 사용할 수 있다.\n",
        "    print(f\"안녕하세요! 저는 {self.name}입니다. {self.major} 전공을 공부하고 있습니다.\")\n",
        "\n",
        "\n",
        "student1 = Student(\"김민경\",20,\"2025001\",\"Computer Science\") #클래스로 생성된 각각을 '객체' 또는 '인스턴스'라고 한다.\n",
        "student2 = Student(\"이수지\",20,\"2025002\",\"Mathetics\")\n",
        "\n",
        "print(student1.name) #[객체명.속성] 으로 인스턴스 변수에 접근할 수 있다.\n",
        "\n",
        "student1.introduce() #student1의 introduce()함수를 실행한다.\n"
      ],
      "metadata": {
        "colab": {
          "base_uri": "https://localhost:8080/"
        },
        "id": "D9HmH2-3WjRI",
        "outputId": "10eb6468-c638-4215-e806-dd57704ea252"
      },
      "execution_count": null,
      "outputs": [
        {
          "output_type": "stream",
          "name": "stdout",
          "text": [
            "김민경\n",
            "안녕하세요! 저는 김민경입니다. Computer Science 전공을 공부하고 있습니다.\n"
          ]
        }
      ]
    },
    {
      "cell_type": "code",
      "source": [
        "#학생을 여러 명 등록하고 관리하는 class를 만들어보자.\n",
        "class StudentManager:\n",
        "  def __init__(self):\n",
        "    self.students = [] # 학생 객체를 저장할 빈 리스트를 만든다\n",
        "\n",
        "\n",
        "  def add_student(self,student):\n",
        "    self.students.append(student)\n",
        "    # 리스트는 append함수를 이용해서 값을 추가할 수 있다. append를 이용해서 학생 객체를 리스트에 추가한다.\n",
        "\n",
        "  def show_students(self):\n",
        "    print(\"학생 목록:\")\n",
        "    for student in self.students:\n",
        "      print(f\"이름: {student.name}, 나이: {student.age}, 학번: {student.student_id}, 전공: {student.major}\")\n",
        "\n",
        "manager = StudentManager()\n",
        "manager.add_student(student1)\n",
        "manager.add_student(student2)\n",
        "\n",
        "manager.show_students()"
      ],
      "metadata": {
        "colab": {
          "base_uri": "https://localhost:8080/"
        },
        "id": "3kP3Mkt0YzIw",
        "outputId": "c87fcc7c-ae9d-4eaa-fd64-8da6d321f79c"
      },
      "execution_count": null,
      "outputs": [
        {
          "output_type": "stream",
          "name": "stdout",
          "text": [
            "학생 목록:\n",
            "이름: 김민경, 나이: 20, 학번: 2025001, 전공: Computer Science\n",
            "이름: 이수지, 나이: 20, 학번: 2025002, 전공: Mathetics\n"
          ]
        }
      ]
    },
    {
      "cell_type": "markdown",
      "source": [
        "#14. 넘파이\n",
        "넘파이의 배열 클래스인 numpy.array에는 편리한 메서드가 많이 준비되어 있어 배열이나 행렬 계산이 많이 등장하는 딥러닝을 구현할 때 이 메서드들을 이용한다.\n"
      ],
      "metadata": {
        "id": "30cZY-GYebwN"
      }
    },
    {
      "cell_type": "code",
      "source": [
        "import numpy as np #numpy 라이브러리 가져오기\n",
        "x = np.array([1.0,2.0,3.0])\n",
        "print(\"x=\", x)\n",
        "print(\"type=\", type(x))\n",
        "print(\"shape = \",x.shape)\n",
        "print(\"size = \", x.size)\n",
        "print(\"dimension of x = \", x.ndim)\n",
        "\n"
      ],
      "metadata": {
        "colab": {
          "base_uri": "https://localhost:8080/"
        },
        "id": "UvXeYDCaeiAW",
        "outputId": "08be6eba-d3b1-41ef-c9e0-3f0e06511a46"
      },
      "execution_count": null,
      "outputs": [
        {
          "output_type": "stream",
          "name": "stdout",
          "text": [
            "x= [1. 2. 3.]\n",
            "tyep= <class 'numpy.ndarray'>\n",
            "shape =  (3,)\n",
            "size =  3\n",
            "dimension of x =  1\n"
          ]
        }
      ]
    },
    {
      "cell_type": "markdown",
      "source": [
        "##14.1. 넘파이 산술연산"
      ],
      "metadata": {
        "id": "BQkVyW8Xx9qM"
      }
    },
    {
      "cell_type": "code",
      "source": [
        "y = np.array([2.0,4.0,6.0])\n",
        "\n",
        "print(\"x+y = \", x+y)\n",
        "print(\"x-y = \", x-y)\n",
        "print(\"x/y = \", x-y)\n",
        "print(\"x*y = \", x*y)"
      ],
      "metadata": {
        "colab": {
          "base_uri": "https://localhost:8080/"
        },
        "id": "AA1qzyrvyBt4",
        "outputId": "5274b4d6-9697-4ec0-93e9-e126f693e522"
      },
      "execution_count": null,
      "outputs": [
        {
          "output_type": "stream",
          "name": "stdout",
          "text": [
            "x+y =  [3. 6. 9.]\n",
            "x-y =  [-1. -2. -3.]\n",
            "x/y =  [-1. -2. -3.]\n",
            "x*y =  [ 2.  8. 18.]\n"
          ]
        }
      ]
    },
    {
      "cell_type": "markdown",
      "source": [
        "##14.2. 넘파이의 N차원 배열\n",
        "넘파이는 1차원 배열(1줄로 늘어선 배열)뿐만 아니라 다차원 배열도 작성할 수 있다. 1차원 배열, 2차원 배열처럼 원하는 차수의 배열을 만들 수 있다. 이러한 N차원 배열을 수학에서는 텐서tensor라고도 한다."
      ],
      "metadata": {
        "id": "R_WeFibaymjo"
      }
    },
    {
      "cell_type": "code",
      "source": [],
      "metadata": {
        "id": "AYsHwRSs3Gxs"
      },
      "execution_count": null,
      "outputs": []
    },
    {
      "cell_type": "code",
      "source": [
        "A = np.array([[1,2],[3,4]])\n",
        "B = np.array([[3,0],[0,6]])\n",
        "print(A)\n",
        "print(A+B)\n",
        "print(A*B) #같은 위치에 성분끼리 곱해진다. \"Hadamard곱\"이라 한다."
      ],
      "metadata": {
        "colab": {
          "base_uri": "https://localhost:8080/"
        },
        "id": "paM1Y1SAyZ2s",
        "outputId": "bea804e0-76d2-4854-f7a8-ad1abebdab7b"
      },
      "execution_count": null,
      "outputs": [
        {
          "output_type": "stream",
          "name": "stdout",
          "text": [
            "[[1 2]\n",
            " [3 4]]\n"
          ]
        }
      ]
    },
    {
      "cell_type": "code",
      "source": [
        "print(A.shape) #shape\n",
        "print(A.size)  #총 원소의 갯수\n",
        "print(A.ndim)  #dimension을 보여줌\n",
        "print(A.dtype) #data type을 보여줌"
      ],
      "metadata": {
        "colab": {
          "base_uri": "https://localhost:8080/"
        },
        "id": "RCKeyKvTenLJ",
        "outputId": "cd4669a6-e87e-4067-b2b8-a860068fb38a"
      },
      "execution_count": null,
      "outputs": [
        {
          "output_type": "stream",
          "name": "stdout",
          "text": [
            "(2, 2)\n",
            "4\n",
            "2\n",
            "int64\n"
          ]
        }
      ]
    },
    {
      "cell_type": "markdown",
      "source": [
        "##14.3.브로드 캐스트\n",
        "넘파이에서는 형상이 다른 배열끼리도 계산할 수 있다.\n",
        "\n",
        "\n",
        "![fig 1-2.png](data:image/png;base64,iVBORw0KGgoAAAANSUhEUgAABQgAAAC0CAIAAABXMlaQAAAAAXNSR0IArs4c6QAAAAlwSFlzAAAWJQAAFiUBSVIk8AAAQABJREFUeAHtnU/rJcd1vz2Jgg1JrLEMXsQ4Iy0MCcRoBozsnUY7QQgavwJJ5AWMTMha1i67Gb2BSHoFklbWbmaWNgZJ2OCAgkeKicEmyUhxAg5xmN+jOT+dKVV3V1d3V1dX3fv5LmbqVtefU0/9OedUVd974f79+1/QnwiIgAiIgAiIgAiIgAiIgAiIgAicK4E/ONeGq90iIAIiIAIiIAIiIAIiIAIiIAIi8CkBOcYaByIgAiIgAiIgAiIgAiIgAiIgAmdNQI7xWXe/Gi8CIiACIiACIiACIiACIiACIiDHWGNABERABERABERABERABERABETgrAnIMT7r7lfjRUAEREAEREAEREAEREAEREAE5BhrDIiACIiACIiACIiACIiACIiACJw1ATnGZ939arwIiIAIiIAIiIAIiIAIiIAIiIAcY40BERABERABERABERABERABERCBsyYgx/isu1+NFwEREAEREAEREAEREAEREAERkGOsMSACIiACIiACIiACIiACIiACInDWBOQYn3X3q/EiIAIiIAIiIAIiIAIiIAIiIAJyjDUGREAEREAEREAEREAEREAEREAEzprAIyfc+g8f/G1s4Hvvvffxxx9HhXjJjz/4i56GH69evRp+jMKz2aP0+igC2wn46N1SlObFFnrKKwJOYHQq+dPMwO3bt4cpfaZfvnz54sWLwwQWwyMSTD0lPp09kVGPRKAUAcwwZsrG0nxGROX49NlosKWzR5XqowjsR8CH9OoqpmacK6z0aJ/1blpWKxfu37+/Gtz2jKB/4YUXhp4nMe+///728nsv4emnn040YePIm7WHElXr0d4EXnrppaEdoHlh2NPzYnZgp1fk2ex7d73Kb43AlJ7Czv7oo49ak7ayPI8++mjar57VUxsNrMrtVXUJAq8/+BsmuHPnzjDy3GIuXbrEXEi0euNESGdP1KtHhxDAwMPMG1ZN/CeffDKMP6uYWbWy0YpLZ/8CjvFRf/fu3XvyySfPqrObauz169eP6nrVmyCgeXHsNHn++ecTvaNH50bg3XfflZ46cEq+9tpr5zbkOm0vPXXgODnzqlmjWKk6HTlnKDadhe935oP2qOZDPj1ZDrtKzR48+1uHHAvPbkUkeis6IsC35HwpSp++wxCVEOWt9vHGjRujm1XVBFBFowQ0L0axVIvEtuMOS7XqVFHjBNi8R08dsn8/e76UQBeeOaDvhks96wxpMktIJNv7EeZL+jh6bwFUfiYBjopffPHFzMRlk6UvEKXrCo+y8S2vXbsWpZ+6fe3JwhI8snIAyTE7h7ZoZTFUXSaBA9UKQ2X1OJlVK7OTJSwhk1XxZCjWt956K61WjrlKHVn/HNHkG6MHXheJRvNONnTar84xaEgTDabh2n3r1q0DSUbi6aMRiOYFS9jNmzcz4RzYm6c0L6DN7nUmcyU7bQLRwM7XU8fexg9dFLxiFEraCFjXiWk9NWshDbOz+g03yjUZ1/VO5VzRkONjpvHNyMxMuUeLMDvfeOMNK3kn33LFRAhbOpqdyNE3ODRZQnTNhiO1whlV5vo8+07Krk2O5vgeamWdd+OtHs0+VCvsow21jxfy/wP17zBEN0V7ubgY3Xzo6H4XhONe/8IXcIzrd71qTBDQvEjA2ePR6LxgpuxRl8rsjkC04L/88stdNCG8zjp7YaydFkWrnyusdiSUJFMEOh1y4fqPV8wInGpgU/HRuuQzRZqrqW6aEobJwrLsvdaLHxFOlo7UCpOF82GnbQEc46ne8fjaVmCk/8DtorQciBajXkYztKMB7aNEjnFT403zomZ3DOdFuHTWlER1tUmg0wW/UxclWv3wUnw+tjk8JJUT6HTIhXZRR17xm2++GbpVvMrnM4WAd4oCbRIIJwv91YsfEU6WvrzicLK4WmnOMY70n7ziXWdvRNtWf38bR47xrvAXFR71lObFInpLE0e0mRd3796VebEU4wmnl1dcs3Mj2qx+zFCfjzUlUV1LCYSGfkcWc2jod+QVh7TdrfKZQmBp9yl9TQKj3VdTgHV1hZOlozk+3ELC5bHJ0pZjHNmjsv7XDdPMXNj6vkHCaPDVX45xJsBqyTQvqqGmooi2zwuZFzV7oeW6Ij+tl0390OrqyHyJaLtV4POx5aFy5rJ1OuRCQ9/X//a7klc5fFIQ8HUpjGy/FWcrYTRZejmXCidLR2olpO2TpUXHOLJHXf81Pk8ite2LUV9iQxv+JrMc46b6TvOiZndE0zmcFzIvanZEs3VFI6SXBT+0A/o1X/gSGh8YPh89RoGmCHQ65EJDvyOvOBQ7muA+Uwg0NUIkjBM4gckSjTpvWoOBcAsJsV2JN+cYy/qvOXoi244lNaxdjnFI49iw5kVN/ul5IfOiZl+0WVc0QlyhtimtS9Wp1RWKzeyLaPt89GYq0A6BsO86sphD97IXrxgjIRR7SNtnCoF2RogkcQKnMVm4guotajmQmCxtOcay/msOo3ASslCGe/Amhhzjmt2RqEvzIgGn+KNoXgy/YVjmRXHmfRUor7hmf4VfGoStz/tgUe0+H6N4fTycQLiWDv20w8WbEiC0mDvyihHV58Ko2P6UwFTbFX8UAU2WauRnt5Aacoxl/VcbFlQUTkJWST4Oa5djPGRSP0bzoibznHkh86Jmj7RWl7zimj0SuihTnpXPx5qCqa5ZAjl9N1tI/QSh2KPuZX2RZmuc+pqYKKPPFALRI308lkBoeEwtdMdKOFp7j5MlsqhH53grjnE0scE92g2tRXZqJIWjmUnIIBgFK8d4FEvNyGgOa17sCn/2bMpql3mxay+0XHinC36PVhdLnysgZhzmC/BHx4bPx9GnijyEQGRjTPXdIbIlKg3FHrWYE3mPehQtSgkjwWcKgaOkVb1DAj2uz7Six8kSeZpTc7wJxzh/Yg+H1IExkdgM7gOFya86HM3prSm3S6Y85/xKlXIFAQYY89aVWULhrSh8vywnPy+8R2Re7DeKGiy504Hdo9UVbQhOmS82SHw+NjhmzlOkfBujKT6h2Okh147Y0aKUNhJ8pkhztdODPa7P0DvtyXK8Y7xoYrczmiOxu/CK8/fgjbMc4wPHWzTA0grvQDmjqiOxT3JeyLyIOv0cPobmCwOgi4FNv4Rip7dB2+lE1pBwQxA1hOZKiOfzMZFGj6oR6NFiBk6PYoezm1kw/JqYqNN9phCIHunjIQTCHuxlfQZUj5MFXxfCPgVoQqLHD3aMIzOaq4wJWdt5FInN4G5HtilJFu3BWyFyjKdg7h0fDbD0HN5bmPzyI7FPdV742irzIn9sdJ0yNF/o9C4GNsBDsXuxuqI1JGfp8/nY9Rg7DeF7tJgh36PY4ezOXJR8phA4jfHWdSvCHuxlfT6NyTK7hXSkYxypQEZJF6O8R7GR+dKlS74sPvfcc+k9eOsIOcaHDMhogA2/FfkQqWYrjcTuYjoj86KzKYPg80jmxeyoOIEEoflCj3cxsMEeit2L1cU3TiOqz6/MjXJPfwKDresm9OheArxHsUOZmTLY8Tkjx2cKgZz0SrMfgR7XZ2iEAw/bKceP2I9hZskhakY+H2czHuYY92hGQ7NHsSOZGdmzw8ISyDHOBFUwWdRZOXO4YO2ri+pR7Ejm/Hkh82L1OOkuY6hTe3Evgdyj2KHMmeaLDSefj92NrlMSuEeLGf49ih3KvGhR8plC4JTGXndtWd2Dx7Y0FLsXrziUOX8L6RjHODJJ0YjH9ndm7T2KvW4P3oDIMc4cGKWS9TjAaHuPYm+ZFzIvSg34xssJXbVFBuix7epRbO7FhNNqkUngGY/Ffs61h9ZnLxYz/dWd2BzQgdcHPGGUb/7A84wE8nMpZVkC4ajrSK2EYvcyx0OZF6E+wDHu0YxmYvQodmghsRQusjZoshzjsgtiurQeB9h5zguZF+mRfBpPw8VzkU49tvk9ir3afDHUPh+PJX+2tYfd14vFTGd1J/bQK156kdVnCoGzHa7HNjwcdbzeuGhf40DJQ7G7mOPDybIIdW3HWNZ/tcEd7sFj2C31ipFTjnG1ztK8qIY6nBfYByvmhcyLap11VEU9upew6k5szJfQ5Fq3AeHz8ajRcs71ht3XhcVsndWd2FgIK74mJhqZPlMIRI/0sQKB7kadMelO7KFXvHQLqapjLOu/wtwbDuV11gblyDGu01+aF3U4U0u4xK+eFzIvqvXXIRV1514ape7E3m6+WMN9Ph4yWs650nA5lVe830iILASwr6vLZ4oc43UAt+TSZNlCLz9vkS2keo5xNLfR4vlNPTBld2JjbfCl074Crrb+YS7HuMLA626AGZPuxGZehJppy7zwySXzosIEqVxFd+6l8elO7Lt37+JK+VTa4lZ5IZWHyplXFy6nW7qvMsbuxGZqo618kGd+VfsoVS+EwGgCRe5EoLtRZxy6EzuyS5F/XYdWcowjceUVr+ut2Vyl9uCtIjnGs8A3JtC82AgwM3vZeSHzIhN7d8m6cy+NcHdiR+se5gszdPVo8fm4ugRlXEQg2mSUV7yI3qLE4dRmnG+0nH2mEFgkhhJvIdCde2mN7U5sZke4hbTlh05rOMaRFtw4t7cM0EV5uxO74B68gZJjvGjALE3c3QCzBnYndvF5IfNi6VDvIn1og265UFC5sd2JHS0gqzf1nbPPR49RYD8CZTcZ95NzWHJ3hn74dRisSNstZ58pcoyHw2OnmO5GnXHoTuxQDzK8N06W3R1j5Aud+I3i7jR2h8VGyrt9sSOBt1sbMJFjPBwYpWKi/mp/gFnDuxM7Eph5seVsyiDIvCg1C9ophwno3SqveL9+CTkD/MaNG9vr8o7bXpRKSBOQV5zmU/Bp6JmUWpF8phAoKKqKmiIQdqIuVkxR2h5ffAtpX8c40oKy/rePgNES6MVw96GIV0xFcoxHaW+P1LzYzjCnhKFXnJNrNo3Mi1lEfSWI1CrDpgv5w2WklOm8a8NDgZlEpewBn4+7Cq/CI6+YrzLZvslYh2pf/glUw6+JKfijPj5TCNQhf8619DXqvKe6EzsUuJQe3NEx3kkLev/tFIiM6VLKeydpKTbiXGQP3qSVY7xHr0X91f4AMwiaFz4YZF44ihMI7KFWK2AJl5FS1sCuYkecsTxKVefzsVSBKmdIIPKK6c1hmjZjwoHX/qldxLmswD5T5BjvPVb7GnVOoy+x99tC2ssxjtR2QS3oXbhHoHfrv6yXJce4+BgL5wXKqWx/FZfWC9S8cBQEZF6ENLoOh3ZAF+6l0Q6XkS7E3pWzz8euh2LLwkfeGr3ZsrShbOHAK+tkhrWUChf/OoxIMJ8pBKJH+liQQF+jzhvel9jRolR2dpd3jMO5p3A1AphHxXcf5Bj7krE9UG0kqKKQAPPizTff3N59YQlh+WG8wh0RCDtR4WoEMF/YZSs7Tlz4ssWqNCPgeBWoSWCP3YdQfg3vPQiEhBWuRqCsV8zAWOQYP1KtnapoEQGs/9u3b1++fHlRLiUWgdMmoHlx2v2r1vVFAPMFPXXx4sW+xD5naT/++ONzbv5Rbccrfv3114+qXfWuI6DJso7bxlyHT5Y/mG0Aam82jRKUJYC18d5778krLku1bGmaF2V55pRmVrjmRQ6rc0tz8+bNc2vy4e3l+4TkFR/eC0sFuHbt2tIsSr+RAC9KyCveyPCQ7C+88MIh9Z5zpYd7xcC/wBHzbB9cuHBhNo0SFCTAVfud9uCvXr16584dROVeAeGCMp9hUZoXlTt9v3kRdmXOkli54apulgBb+1/5yldmkylBQQL7zRSfj/tVUZBDX0Wx537lypW+ZO5d2v2Gsc8UEO1XS+/8V8uvybIa3eqMOw1j9nCfeeYZpOJ90tljrcVXqXcSejXEqYzdrRehwDt5xVOsFL+dgObFdoajJWhejGJRZEQgWjO7mI/h2OZLeh5//PGoUQ1+DGVuUDyJNEsgvHHTxTShReGo2297dBbdogShzIsyKnE7BDRZ6vRFa5Nl/ip1HS6qRQREQAREQATOk0AXXvF5do1a3RSBaAusKdkkjAg0RUCTZV13yDFex025REAEREAEREAEREAEREAEREAEToSAHOMT6Ug1QwREQAREQAREQAREQAREQAREYB0BOcbruCmXCIiACIiACIiACIiACIiACIjAiRCQY3wiHalmiIAIiIAIiIAIiIAIiIAIiIAIrCMgx3gdN+USAREQAREQAREQAREQAREQARE4EQJyjE+kI9UMERABERABERABERABERABERCBdQTkGK/jplwiIAIiIAIiIAIiIAIiIAIiIAInQkCO8Yl0pJohAiIgAiIgAiIgAiIgAiIgAiKwjoAc43XclEsEREAEREAEREAEREAEREAEROBECMgxPpGOVDNEQAREQAREQAREQAREQAREQATWEZBjvI6bcomACIiACIiACIiACIiACIiACJwIATnGJ9KRaoYIiIAIiIAIiIAIiIAIiIAIiMA6AnKM13FTLhEQAREQAREQAREQAREQAREQgRMhIMd4QUd++OGHt2/ffu+99xbkUVIRKEeA4VeusMUlUTt/H3/88dKc5FqaRelFQATWEUBDMePQVuuyK5cIFCeA1jjEcPpUY0lnFe9OFbgzAQbtzjWULJ6pvcIsLClB6bIeKV1gVnn0+g9+8IMo6bVr11566aUosoWPSHvz5s233347FObJJ5984cHfxYsXw3iFRWCUwOXLl6Oh8vjjj7/++uujicNIDFwmy1tvvfXJJ59Y/KOPPspkIZISwpR7hFnvrPaPPvrIyzcBGP5Xr171yCgwJTZzHBRRYn0UgQYJsOwz7yLBmA6JYR8lrvmRxQSB33///bDS5557jrWCqRpGKiwC+QS2WGtD2+nSpUtMn12VFzqLicB0kM7K72WlLEWgU0svbD7Tk5lLjP0bPvLw6CxD3aBr0DierNfA/Yy/sG0ZyeeT3Lp1KyzTwm+++eZ8zuwUYfnZmUYSPv/882FRUZhV/t133x3JtjwqLHl57twcTz/9tFVEF+TmUboJAou6LExs4evXr08U/DD6tddeG2b0GJ4+TJoX8rwEZnMwtvGBwyxReKoJBcUOa5wVeHWCOrWsFk8ZcwgU78SXX345LNPCd+/ezREmJ01YeE76qTT37t1jozYsLQqz7JNmKvui+LDkRRkXJfZaFuVS4kwCi/COWmtMjdm60A5eURRArSxSXmH2dL076ayc9kaC5cscZVz0sU4ti0Q6scROOLNdnt4DOYOnHZMpnO9TTU7PMpymqYxT8c6KwFSajfHeLrThbFFZQhQXGtuCsWJ/7nmWddWKyOwrO+v4jRs3GA0ARXh8ePcw8Y2L2BxFBJ7tbxe7LO3Zek8ywaIu+2y8f/q/ZSSQxuJrJcOPxDb8+Jew+6tL+zFfZiryWtgIZMzbOKfGUADmRdSKsmLnCxyJsehjnVoWiaTESwkU70Qb6ox2/nzlXCpVIn0pgd0rJsDsQ0NRKf8SRj1ZLcifkCT/USmZ0zV6LelkerqOwCK8DKQHM+DTf9xaI5yuetR2YkKF8TZQ0+XYUxeYQCI9BY7qrEhpDoVHu1kVZOcpclJLlMsiE7VHjzJljnIt/VinlqVSnVJ6J5zZKMaP/1lePqbztmMyYeP5DJpSGaFlyILAvCBXpG5mmxwBccgEokelPiKn1TLVrrCiLCF2FdrFJRBKtjG8XWYXbMr1dSUx9A1WCL9d4JxK3bwrSzun6tNLs7rLLGN67XAdzzrFShTR87WJwRk9Sn/Ml9mHyujwdgEQL6zRF9ZZsc3NDvOOhvMFHs2eGVmnlkxhlGwdgV07kdlq5a+TbTRXEYGZnlYOu1fDWphl7jYPl5Fh+tmYIjLn1zKbUglWEPBOXJrXjaK0/eDJRm0n1x05FqpJ6AITSMjMFLCU63QWeYdzBEVMK3g02paEMCaJ/ZtItvFRnVo2Ctl1die8ohWWt4ilxzKeKYALTCAziydzZUHeqenpliH+vGe0wGp1s0XmSIapj74oTbUrzKgv3wp75HNhf/+TQPR2qKXjPRbbXBm+h/a5gvRBBJYTYHTZS8W87zF8KZcYG3W8RkWC5cXP5OAN4Tt37pCIRWT0zX8EsBcXETJ8EcXFHn2XOBSblDNC6LEIiMAcAZtHaCJXWGEONJfHS0+FZBTej4APOQbn0HZCC5jOQsV4yu3C8NKjfRFMQmdZvZHOQgZTtTgwyBZJ4l8FspOqjarTx3Mj4CbTlKVnc4Qvj9jD0gtpY9HZV1T4BlP41MIYe24ZDr+6gslOAnOLRu3GYYFtxsgxnuwXM/fZJpz6qhUGwXAZnSxOD0RgCQGzYhl+U+sLw9K29wraFi6g+7rDtc/TjH7FggmD2FOL+K5iu2wKiMA5EGADy75hiMk49ECMgJTUOYyEptr4xhtvIA/m9aiO4BFKrfihgu/7JHTW6FxwnXWIqm2q4yRMfQKzlh6TCIMKwXyE7yEks8CmLbctRqeJVeoyTJmdqCGbgPjPqKc9RK1QphzjScj0Lpelp1Z2y3bILxBMSqwHp0LA7d2EjqetNjixjIsvQGyTs33O1ntiiXTn2am72OlZs5/YLokCInAmBJineCBTu7dAkJI6k5HQSDNdL+RogejHPrY0IUdnDecC58x2Soa0U1tLSGWKmIPlYQlbZN6YF+E3lqDsxxJgONnO5tSmjIlnU4mBulOPI8aLL75IXaiStCQ2uzmSSfwkik98XwqOhbyi9mN+rmmFoPWzTB15uSR+BcLHgT9qM8Do569N2SRVSMC7KWHvkp6nr7zyCgE80sQ6FZacGaZk/hKJWaAZ/yRg499Tun+enhGkN7FpZlmxEwInHjntRBo9EoEGCTB9ZvWUJ0jPynZaN3UW0Y6EkiRBwK1h1wujidlytRMqlt/E9uto3tFIqkvXOKqzfPFP53UJS0k72oSlkX/3d3+3NIvSN0XATSYfYKPiMThfffVVHjH80gN1NHs6knlhZeLuzq69touUlsGf+uRKC1DnqTctZ3NBJ8YrOwXK3//+98mMY5A+1ltZQelsNqPsXRrKzhkcpUVQebkEfEFJL5fuVbotklvBtnS2ktpYcrObIl0MF2y0Hm+UN3M0WZ1Imxdel389qccoIAL9EkA3+YuXPu9abg6K1c4uTEg3HFuWWbKFBLzLMrVAHVPEdNbwdM51UFpat/W9dWGTDwkztf/xH//Rqv77v/97vjroEDFU6RYCPvx8gI2W5ku3m1ijydZFUjW2HI4Ma2/i0gSFe+0uz1SN9paft24qWbV4Jottw1FjzoIjx3hN1+AMuPJmrKQH05oKSucx69+9YopvX+bSDLosL91NaV2+U4NtLPmXNIxevEkLlm7UTmKPFhvNC75lsZdTtdHmKFIEnADqn8Fs1gBGj78b5gkaDEReMRKmV5IGmyCRzHXkNZw0Cu9Zt7bT6bc8DXUWgoWbuW4lz9r6JoCn3yLP9ryhoc/117/5m7/ZXqZKaJaAT5biEjKQzJZj7c2cAsgwK087Nh7ShpMlR3jSyDEGwoI/Fn1Gj10ExdrgfCl/MC2opmjSyPovWrYK24UAXbZLuZsL5fr0lStXbCXlDXwW0y1FHrv7Hs0LvGIW0C3NUV4RaIQAzgaKyc6K2bzvYvd26BU3AlNi7EFg1rYuVSk6izMx38ldvUPUziFYaOjjFf/t3/7tF7/4xVK4VE5NArYrhCtRs1KviyXXdk75ooo9jgTs+6u9ukMC3sZFtcsxXoCLFRZrw1ZYVkkM6z0G0wKBMpLie9hNCUt71AzMkFRJHhJoZFv6oUAPXmNmINnrA8Tz1YWsOBv3BQ90jCEczgt5xWFfK9wvAQY2lzieeeYZuzXK7pU5yY23CGXql7CkpBrvrF7EM+MHnWV35bD+8YpX66zVGcviCr3iv/7rv8Yr/qM/+qOyVai0ygSqbRKF7fIll72V8A5FmGZ1uJHJgo26Tq3IMc7qejOjwxWWUXXIaM4S97NEiI3r7jeosf7bP9/+TPbP/Y+Gw7yzP8h/7tkpfmitm1hfEMn2/9gSevfdd0dvUC/tClzTpVmKpJdXXASjCmmNAGsj89S+psUuNG3fvarQRsT2pQCxWecrVLpHFaGeOnDXb4+mFS+TRbh4mWGBQ5210fo3w+NYi58m+KuSKOJ/+Id/kFccdnp3YXMi7LCtpvBmAlEjPwTFTCletc1u+5Wp4oVnFki7Qq940fSXYzwP2ayN0CtYhHi+gn1S2ND3KccRX783RTEyOAOxv9VXofbBvEupx2rfqEn4wKwvvulu0yFK09HHaF5wjNDvvOgIu0TdmwB2AO6lHRRzCMCa2f6FJpiYV+y7t+bP7M1qp/IR/jM19Yz5UTtV1HKxprxmm+8J9jhgWKGzzJRPgLUheuCeNaPLXuJDSLxi9o++9KUvJQTWo/YJZA7+2cG5qKVmAjGe2YVcd4ciU57M1i0SPjMxkyX0ipksi2aufq5phnOotq9fv24/UTOTp4HHNvTdK+ZCXZEjvqNaFk6wMHyUPHvX644xwy8xn/1oZT8mfnGLzT/W0IQwMHExEMyPgIas3CTyZg7T7BQznBddbHLtREPFngwBtwOwdVBSvez1hOqVvuj92+/C5TEMn8wwy2kIDefldt/pmMritrVrjamUS+MX6SzvJhuKU3Udfv7vExwJ7VYF2vPf/u3fpgRWfBcE3ARKW3puMhWZLCgIcw0oDaOOv4iVGZaMeawjqmaqMk3I5bUTmd51NYG9dVH5e38cThbkd2s5p3Y5xilKZkbbEt/RW4gmdugVM1BS7WzyGRMPDWfTzyckknqYuYe3z6w+avrthy3U1h4eVmerD/GJNMNc+TEsi3Zxy/anZzm7GAiW4xh7+nyRtqQ8jXmxhYDyniQBppvtjpvFXHlarUZqq4R7UB1pWG+yLSmoV2PuuokEHkZDkWBofXohJxbwhqe3R91OLTtcMd8X6SyXNq2zXNqEXtuvH4eG/qwu3k8YlVyQgA9+hp+Hh+Xz1CITaYa5ZmPwEdxNGCbm8pHfULCnTBZUDCu2yzPMRQweta3qZaUdrWsYyVTdclZsBcoxHoJ9GINjJq/4IY6KIdQbu878cdPVzvT4lQW7zW6aCTvDeod/T8/mcO3LJKeBU+BNW7NU7bEAsfbZspjpFSMkYti6iWCJGwreX97MqQaWjac6VwPbv1K7rGxbSrMJsqWEYV5Y8TeMV0xrBPDNfPOeebfHUrBHk82l7NorBguLM0sKMwXXhV5w+P5jRSgy+8JCAoklcQ/CR5Xp6wbrvIeHwpgWQLkU9PHQWUab+03MhZySM3WWqVpa4V08bNFOMUOvuL4MU03DBUK8qaer4/fQaKuF2TWjTxAGWMLSs8lSytLDv2WB8qqHDUQYjG0mkYnERx9y5MIs9+kwzEvMUQYeVbMCuDYEVyj5qKiTkfws+OxfmHk28dIEt27dsvIJLM2bSL9dZheM97USFZV6tF1gkwRpvSis/0g8V9hlaUe1bPx49+5dxnTYinv37nGPnRj0KIXzvrQ/JcCPZm2scV32UIZFJVhGfP5ELutHOND20WQ+Poe9PJreIvNl9qHCV20lCoweIYxVQSdGj+yji505rfIFHq3OI10wClxEzEtoNhAiKhVOD842UYRtLy4hQKz8giUXEdgFY1UsKNtUUUVkZk1jJfeiOCuOqvNHUXxTH9E7LicB42/tshUmXHNIsGgh3bWlLvbSWnz1TtsPBgHDeqp8etxkQK1PpQnjXWACYXwUdp2VFi/K5d00pbPoOBMgU2dZ+ZkyR8JEH8MxhjEQDaEPPvjghw/+fvSjH0UZ63z08RA2dnu4jvCZtXhzMtOHySxvWpkWt/RcYAKhMPlh0ynMpmEWn7nDRdsSs7Yz8ama4TrMPhWzXWZKZnZQqRcV+QU+VkfbFQmmL99yjHGALV6L8kCcor3PbPCwnWNysdzvsZlXodF2mOAVcTOKbSrb/WWvizbarrAlCA0sz3ICAds05UTFNu2GLfLzh6kEwyz5MWy82fk8o8g3C3Oyu1QeiHJ5vAeiBHt8BJF/mSd6qNN5sQcZldk7ARvM2CI1J9QWaLa8+90NjLA9VrAtEubndU+MLGglGoKGIoy2Ytn0NYcYM38JnMOfKS+uYo6OSQaAx3tgOxZOL11nJU7DhhUhrdnTU+PQhfTAsJA9YtDCLhISrj/+2kM4lVmIwKyl52PAA4VqXlMMMpjfi9hM5GERuEv2BZD1JwuzPryC5EfHQyFnY3SVehKReZj4XSy4/E2me/Bg0UKcLmr1U4asa2LE7sifj5qMScFlDGYdNp9NM6woM6Tc7UdP0F7mnhkiUQkn8BEImIxcZqbJzHA4eEsZjTTcgOC47jH2/DIMYqSvzYAawfgz5gmx6VC6zMTGTNxD7NF+j+aFvOJRSorskQBz06wQZtPsPDVv7dhmsgggqi0CSMLyZXbhsVKtq51lmT9WYxZnVhVsMte/9otZFGsbFiTzFXJdXX3lor2s8GguONDj8LF9bVoBLp6a/YqCK4jFdRZlzs4F0vBnVAkwCNnXwK9mcNKV/gjhUbXmb7MJUk1nIRheMdW5oU+L0K0msP49JQIJk8ksPVvhd7L0VpBkgvDd+0jF+GRqh5OCeWTv31XeqI0mC6fZWH0rmuZZLnCC7B+mAhcuXPBHOek9cU6A5ex73/seKTnpDhHn5E2k2SgzyxB9nyg/erQdy0aBI+sf+V0VhaJC2Fb5srTDKoqHaYv7gRSOS8xs3Djuiwi5rsvQtV/5ylcQALNg1ihk0XQj0k8nrAcpge2PqY6eamCmzD5OpsoJ44cNKSh2psChPGE4c16EWboLMwaKy4xpyF/xYnctcONQScvmKn/7Uu8VbReYlTC8PuMljwZYQLYPlS0yD71ibKxRUb2WgrRHKyoYSVsYJGbFUqztTRc0aQqKuhov48fsolnTM+prU15EujrD0J/q/WFLXWAeTQ0J/G3fNx+WEMWkdRZ9Z+ZTBVUbCWYfMw39f37wR5bHHnvsqaeeGi1q10g6FFGLV9HUrPGxNzXwppqPW/vEE0/wdDjYoiyjk4U064afC0wJS2U2wcxqYhZMdS4Gebj3Z6YCiW0fZ8Xthi0ywxmD07eQppYmX7uy9CDgZv/CXpxNvDQBg8bKn7qzvrRAS79R5vDVjrCoqfA6IcNcYclhfE4YHePZGc1Tb6VSlOknEuMY55R8bBoawotbtMhbZwG2oxg2U28EVZM5lCq/Un/VgV6bzQUBe7k6rIswSw8EZrMPE4TlDJ96zJB5mDEKDyVBbCIRMkrJR5rDU69oNhCWMJs4SpA/L6KM+tgjgS1DZba9vnJGr/nNZkwk2C7w6OIQFhuGaUJCmMxHYYGZWSwZsz5cVdKrn9eyqIqjEqOJWO7QSi62BWgv+mvRclenCS7n0urcLhqu+cOiaHi4AnulK5SX5yUwrMhifIaGiafCo/ITWURnmTxh1VMyj8ZHr0omDOPD3zEelf/EIr0fl7bLLT1W6dm8TJbRxXynyZKWx6dSIhlLwXDFgxV5V1jmDplAotLhI7iFaiUxWbw7cvTg8SfGIZGC4S07EIjBJgR/7EOMnru6nJaMj9u3uFYL7EcZiMEQYV8kITNydnFizD0CtpPDDWC7msWY9n0p2stHNrfYKk402TureGB1ly2VhA1FutV37xiW9OO6JmfKbKOIitKikowEn54tjp0uFhE7U+ChnOFh2uy8GGZXTHcEVg+Vo1q6XWDWBDttSDfB9BQrxuyMTpfD09Uyh3c38JfSp4VeC5bQrEhHJYC86Sk/2MGKZWVGbZm2csFoL0qKP485NlATL2MPNcG/1mRG4AoOLjCFTA2JTJ1lU2ZXnWUtzZHZUob/Ih5DaPb4y7IcfmIcSn6qYe/HqYFXsOHHmkwrGsKk488yMqcYuqOm4GzJDpmU+ZxN9/klFHYhOcqeqgs57bYLXoPLPJU4yzsPMyN0F3/dybxOYDZIPCPWP9sn6d5hTFj6lk+M2XDyRhHA2kBadnMJIz9Pwy0iIhO7RGkaG5+GQm4sqlr27mReJ/DSeVGNvyraj8C6obKfPLMldycwLVonc3hySDifzGzKAxOEiwxY0EroJtOwaCt0VnT8yNMDpQ2r9k4MI1sOu8AEWpYzlG2FzNhv4SncrGGjE+MQ+E5h78edyi9erAt88pMldARm1QoLspFhiZ5lrm+lDkdRZ2E23aNfsl53ithas9lz8lslDH12d9iIsvNS/uUpMWzJ+yjnLKK1JkieAwlE84KPpzEvDkSqqkVgNYHwrJj1nKscq4tqKiPtMjcYqdBHaCV0kx2Nms7iXzfd0Gg8bUp+CdMUATv+8nfU8Ypl2DTVQRKmHQLRWTFecfoK0lLJ5RgvJdZK+sj6RwefkvXP/XC2283asOt/ZnBwxYgpQUu5w2bO88mYWa0MrM7lGM6L7ddHO0ci8UXgMAKRV3xiesq0D5oIfYRWQjeZY2PaipWH9uI8o8vQaIf1gSpunsDQ0JdX3HynScBjCAwnS1mvmFbp55qO6dqNtZ689Y+RYYfDDspfJCCeA2TiMUp4o0Db8I5IgZOfF6NdjPE9Gr8lkmmlmbUFoPJC4LS9YhqI68sFaZ8p6Cbrdz/3Q5ExPfGTCWhIiMAogQqG/mi92yOR3Mf89tK8BDPw/KMCIhASwOx3d6D4WbFVJMc4BN5HmM3p6Ab1SZ6JubVBr4SmP2FfN8M0fXSepNyNAAPjHObFkN+iH5YbZh+N4SVJnXGNklFkJgE2Lv13fe2NmJN0DkMdFDoJ0lOZ4+TMk/XrFdNxDPg9tA+vgJ75qFDzpwiEm607ecVULcd4in+j8axEfseGC1po35P0iof0/W2uk7Suhu1VzCICzAv/stOzmheLKCmxCNQhwN0N/4HlE/aKI5joJtdTODzRU30UgSEB1Nbex1/DShUjAj0SCL3iXb+uQo5xT8MD65/DUv8q//Pximk1je2pqyRrRQLRvOBKxZnsFlVkrKpEIJdA9EaDvX+bm7nndNht/PXcAslelQCjxX/ra7/jr6pNUmUisA8BJku1K0hyjPfpwx1Kjax/vrRQ1v8OmFVkZwSG88Jv2nfWkrXi2i+Zrc09nu/cGI5TUOxyApFXzIZmeNl4eXnKIQKnSSA09LlowMTprp1M7T20T3ccJPDeBMLJUuEKkhzjvTu0TPlD65+BUqZolSIC3RLQvKDr9DJwt+P31AQfesXavT21PlZ7ShCIDH1uVZQotXYZOMbSPrWhn199jLFqZ8VGVz/X1MEok/XfQSdJxOoE+K5XDjb9zQL98GP1HlCFIvCQAIfD5/ntdw8RKCQCGQQir5iJo29OycCmJOdIgM3WV155xVpe4azYKpJj3PpQ4zs8+HoGWf+t95Pkq0tA86Iub9UmAikC7N6ipyyFvv0uRUrPzpsAPzZT+fjrvHmr9R0TiK4gVfu6CjnGTQ8a+yp//1FEnYk13VsSrhYBmxf+ZZ43btzQmwW12KseEYgJRHea9O13MSB9FoEHBDD0X331VYNR7fhL7EWgRwKRV1zz6yrkGLc7YCLrny8tlPXfbm9JsloEhvOCPfhalaseERCBzxGIvGJ2b/XNbZ8DpA8i8IBAaOhfunRJN6g1LkRgikA4WepfQZJjPNUvB8cPrX8GysEyqXoROJqA5sXRPaD6ReAhgaFXrN3bh3QUEoHPCESGfrVLoZ/Vr/9FoBsCzI5jv65CjnGLY0XWf4u9IpmOJqB5cXQPqH4ReEhAXvFDFgqJwDSByCvmrFjf1j5NS0/OmgBqxXdX658VG3o5xi0OQb7FxN+f1M++t9hDkukIAiyXmhdHgFedIjBCgPmob4Uc4aIoEfg8gWOPvz4viz6JQNMEwp8aOWoLSY5xi0Pkzp07Jpa84ha7RzIdRODtt9/WvDiIvaoVgZiA71LpWyFjNPosAgMCRx1/DQRRhAi0SyDcbD3qYsUjS/FcuHBhaZbD0/coM9CefvppvVd8+ODJFKDHMdajzHQHX+Z58+bNzH5RsvMk0N3Y7k5gH1f6VkhH0V2gx1HXo8wMDHnF3c2OSOAeB16PMhv2YzdbdWIcDf5WPmL98wJ6K9JIDhFog4B+4qKNfpAUIvApAd1p0jgQgRwCbOYedfyVI57SiEA7BI71iuEgx7idwfBQEln/D1koJAKfEdC8+IyE/heB4wnIKz6+DyRBDwQON/R7gCQZReBTAi1MFjnGLY5F/cBdi70imY4moHlxdA+ofhF4SEBv+jxkoZAITBPwb9mdTqInIiACnxJoYbIsfsf4/v37XfReeLe+C5lDgS9evNgF5DMXsotxdeZ9pOafJ4Eu5ma45nchMGMplPk8h9YJtPqHP/yhteLZZ5/tojnvvPOOy9mjzC68Av0S6HGJ7lHmFkaIToxb6AXJIAIiIAIiIAIiIAIiIAIiIAIicBgBOcaHoVfFIiACIiACIiACIiACIiACIiACLRCQY9xCL0gGERABERABERABERABERABERCBwwjIMT4MvSoWAREQAREQAREQAREQAREQARFogYAc4xZ6QTKIgAiIgAiIgAiIgAiIgAiIgAgcRkCO8WHoVbEIiIAIiIAIiIAIiIAIiIAIiEALBOQYt9ALkkEEREAEREAEREAEREAEREAEROAwAnKMD0OvikVABERABERABERABERABERABFogIMe4hV6QDCIgAiIgAiIgAiIgAiIgAiIgAocRkGN8GHpVLAIiIAIiIAIiIAIiIAIiIAIi0AIBOcYt9IJkEAEREAEREAEREAEREAEREAEROIyAHOPD0KtiERABERABERABERABERABERCBFgjIMW6hFySDCIiACIiACIiACIiACIiACIjAYQTkGB+GXhWLgAiIgAiIgAiIgAiIgAiIgAi0QECOcQu9IBlEQAREQAREQAREQAREQAREQAQOI3C8Y/zxxx/fvn37ww8/PIyBKhYBERABERCBaQJoKPQU2mo6iZ6IgAiIgAiIwKcEzLV57733esGBguOvF2l3lfORXUtPFP7666+/9dZbb7/9dpjm6aeffuHBXxjZYJix/tJLLyHYzZs3L1++3KCEEkkEREAERGALASwb9BR/77//vpfz6KOPXr16lfWffz2yzYAJj2wyd9rsoC6k+u///u+7d+9Gon7twV8UOfz4ySef/OY3v/n3f//3//u//7OnX/ziF7/61a9+4xvfeOSRvYzP3//+97/61a/+4z/+A8ldpD/8wz+kXqRm/npkFPif//kfMiItAXtkuf78z/8csaPE+igCowRYbFl48W4Y/J7gySefNNfm4sWLHhkF2Hv9wQ9+QPaPPvrIHl26dAktQ+Tjjz8eJS71cVgpJTNHrl27lq4X5Yj7Q0tdWstFM9vXjLP0Lty/f38+0YULniYnvSceDQAUdpFLHKbEPWZUJQZQmHgqfKGozGEtyE/Hm6l069atUoNgP4FD4ZH2zp07xBSUPCxfYREQARE4hEDZJZTdT/RU6BJHjbp+/TqWQRS56GNZgaOqsXjYtDXjbLvW9sJ3lXlYS0HJvXAF3nnnHYPw7LPPztJgCP3sZz+LkuHZ4i5GkdHHf/mXf/nlL38ZRdpHHM5vfvObeKqjT4eRLjCP0jLjDP/0pz91P3xY1J/92Z898cQTw3gc+F/84hdTGZEWp3qYKxGTL3OikPSjf37wR5rHHnvsqaeeSifW03UEfMXLWYvYMH311VenKsI9xpMcPUsj/sUXXxzNiMOJokEZjT4dRrrAPErLnKjUin3ttddG68V7x3MOPf9QjBWaMV/msKJFYWR+5plnyIKDSTid94Cr1O4VM0refPPNe/fu0Xn8Sx+wQYK4eG7sVaTlPvApQz9hLR0omKoWAREQARHYTsB2b22df+6559hGREnxx9HZyy+/bIdOGEAYFtvr2qME5E8YLnvUqDJPlQBHu/iEeML85TuH7hXjA5Pxr/7qr7797W/zr5WA//nBBx/4wWwpdBToXjGT9C/+4i+o9Dvf+Q714g8jCRVxJsxfVCOnxMhjXjEpXVokt1w8nXIDoqL08WwJ4L6aV8zYw51BWTxQGvdxc3DGwIJCGfUz3UElI/oFdUNe/sXDJIaBh89c/Eo2zqG74lT67rvvmrQEXMeRgEPKqEORxJXL888/79LeuHEDaUncsmaM2jL1sfaJsXvteMWEo2Ph8DCWkbHl/sBOOxA+gg0oY0InxlNjS/EiIAIiUI1AwTWfndlXXnkFyVH8Q+8Xy4BlH3uFnVwOZlc3sKDAkQyYX2+88YZHYvF4eGNgP5lDwbyWgpKH5Z952A8z06evQ0qMeTs9xnU0I3iYhhiObc2O5wbyt771regeshdCCZQzWkIU6QITn5AZ95WDX9KMHgv7YTK+7ne/+12vgqvXP/nJT8wr5jTvj//4j/0RAc9FK3iafwM8U+awrqVhnRgvJbYifeZahPOCw8LYZlSjFCLXhnpxJu2ebHQM61d7yIhPFJ0nu67BY7I5NdsEF5iUifXTb4/iCUeVkpG6rly5QmBYL82069NRQ0jsHtwUBNKM/mXKPJo3M9J9zxZPjN3IYHNlOHSI8bNimpHZ4GrJGCu2xYK1VK1SVSQCIiACIlCTgOkptPvoZWnMCNv4xz7Y4hjv1CJkNq9Yemonwio2TcCPZLm0HHnFZGRa2WVmvAjzY9OlZT7Fv7XSvPwoIx6vXf/GB6Zqf0ou84o5H468YtIQ85d/+ZcEOI6euhnuRSlwtgRQGTaocGGGrg1YXJVE/i3xnnHooBJjyojTZneOikC2dyrREcNKKZ9IzqsJRNdjEca8Yi5SDU+/abhJS4vsa5iKiFq/kNpXqRkEnLJyUj910OpDqjWDw/ZC6CF2UNj7qd9VqlEEREAERKACAbZluf+GtnJ9FFXq+qs1PYXk3//+95F2yuKJGqKPIlCcgDuoU28R+8Vm7jCXqt193cR976HfS+0mLQ48Uo0Kg6dtGQtKO1qRIvslgB+Ia8N14invwC/ARo6x3VXm8tGUJ0mB9pLp8FbzdlyuyIZF+aPwkNJkYEaYAzzMhUdtG7LhlaVhssZjajvG2Bngztn58GHUCEHEZuVlQDAypqylRkSVGCIgAiIgAqsJoH0wR4Y74l6gGzdN6Sm8dDPL2L3Fq2cz1wVWQATqEMhxUJEEU4p/+e7oUlJxyRnP1p3Y0WK5Fx3Fc85skfjwiWvS5mxzaDwsISpQH8+WAD4Czu2sRghPaFmx7QA2oWvgaas6h7fFl/REgb7n6x4ykpiTTEzCCfL0oUfd16io7RjP0vF9CIc7m6VCAkat3ShAvNlxX0EeVSECIiACInAUAdNTbOS3ow4wcbCftHt71JBQvUbAHWNzfaew+NNSriYFckObl5ZHj4URw37GiQDvGA9r//KXvzwlKvFeZilpE3Xp0UkScNcmdIx9gzXt7/hTT78d0ewptB9le13UbrPb5fFHYcCfyjEOsawPs8ntL0e1Y3AwoE0qboDbzs36Fh6ak4bYewWHSqHKRUAERKBjAuyT2jb/1OW3Q9qGMLZ7i0HTjvZcgSJ9eLKiQGWpScDe16XG4dvFoRjuauKvhvE7hanln/7pn+x7sMMr0+7ofulLX0pU7Y707373u0Symo/+93//99e//nXNGlXXagK4iKYscEfD9c0dXXcmR6twX7qgq2n3dvEIRrUYvpg5C+FTP152eUalde3jZ86jySpH+sZETr17/cZ6Tt30MX+GmPGBOje9zpeG0Ss5JVRIg2D2hVu8a55zA7yCSOuqYFj4l7OzyvvYXVeacomACIjAORBg5UTBY7jwr+kp84p5kyo0Go5F4XvKvOSWtrGOlXO2dqxGfznNvZHZXErQDgFzNWf7zu8t2x2HXeXHH/75z39uguGQh7/A7G65O+ppSdztTyfb+yle8Y9//OPf/va3VtGf/umf7l2jys8ngKZAa2Bj8/fAy7ltTiZesR3D5hdlKSlnaZbZ9Ky0yMZiy68rIRUfTXEQ6b5YpOPcjU/co7Z6ceJoMhxmxaiTIFQrs8Ij0sGOsf0khqNhMcXUaMf/ZIPExgqvbDHQXc7uAggfesUM/T1mWndYJLAIiIAIpAmweKLjQ1WFfYMj2s7tIdZz+8Itdm/b8dXTVEefhuZL7zp3tIGKdAKZjqinXx3gK7L5UWVzaLEw+XHjdUUhMK61edfrSiiVK/KKv/71r9v3ZpcqX+VsJIBDGOoLKw0nE60ReWUs3Tyd3UXaKM9UdlQbDg4qg61eBObPUyIS0rIgewyBzBPjMMvhYWSmFfZDWQiTqVaOf8eYDrDL7gjN3iF9g8HhHXAsVgaNbWcygKIBfaxgi2ofesXpixCLCldiERABETh5AigpN18wI773ve814oJihJmLnqnym+2pyCvGZJSearazuhCM02B+dfnu3bv+a0y8gewn1UubsDrj0orS6YdeMb8Unc6ip0cRYE32qjmbZaH2Q1ePJ3DUMRVnkGgxe204lIcwkTxq55AyEi/zI44kTlzoFaNWcly5Ix1joPPz04iOaifAz0zb13zTDAbK4b4xetq/cKtfDS2vOHMKKZkIiIAIDAmgSlFPKClUEgF+xol7YiTjBhpKd5i+ZgwiYWydwO7t0CvOMV9qolZdfRHgp5V+8pOfmNHPYS8mXHiDekVb/uu//mtFrrJZ5BWX5blTaegFNAV/uMH8y9YM30/Evio3j3gU+sbmEpujsZMwU8Wy5HIMyQRBnaHU7t2790Dk+wRMx/GIBCQblnC4dzYUaRiDkNB2tmxSZHrFFHWkYxy1hJULL+61114jni45dj/eX9nq+gu35BVHY0wfRUAERGALARxR9Kvt4WLosMZuKW1j3tPYvZVXvHEYNJWd73xGnlk30lxWUqa/9Wpd07g7zVdt2UExX7WFbTl7c9tfNp6q0UpLf3n1VN4i8fKKi2CsXwjeL6eAaA18Y4Y9GsRlOOqsGLVlX+WAIkMwRPKNSAKhjiOZ6zg/IAx9e29LGGAfOfxYPxx5xbxkRDO9jbPyHPmO8ahw6Ei6AYMj7I/RlPtF0uv2ypbdnWNMR3V5ryMquPnIH760j5so/SEfkS16r7gp8Q5hokpFQAREYDsBVnu+oQQrh2UWnbW9wBUlIINdEmMvHJ3FX1QIusliTIWRAHPBI6PER32EnploCLBoU/8ogVVvmgAuKL9ObG5kIqU7oukvr06UMPXogw8++M1vfsNTXHRevvU3IEbTu8PMy8OJlPZ11qMl1ImUV1yH8361YH6z1nHPiDdxWIrNGndXzWNGBfBFu5QjbRqB94PQX6M1Eskj6kVaEpuOc2nxd6ZyWTy5CHBgm06209PIK8b5TzRzVIbmHGOkhCaOMYH0WBltT5FIsFo52D3cJUiU6RqdNJ4rkb7aI8aBvOJqtFWRCIjAWRHARMCyQU+Zqjqk7a5xuC3mF8ZGJUlrsdEsdSLlFdfhXLMWPwHGfEq4mv/5n/9pUrlrWkRIXGLziik2541ilzbtGNMWEy/RoiLyjxYir3gUS3eRnMTiGCO2uzbmHocxo40ivcV7+tFk+ZHmuCJPOosJbIlJ6bW7PKPZi7vxo7VMRW73iim5tmOM0DDN3EhwxT+FYKd4jB57i2yqfAQzQ4Qdbt9E8cBUrmrx8oqroVZFIiACp0fgwR2gDzP11FHN5/Qgradohdk06WRHyS+v+Cjyu9brriPnxh4e1miuJsfFBb/UinNdjoupi7PiHK+YlPjPJOZ8G3nC3zeOBHbHuKwbH9Uy+lFe8SiWBiNxCHEdcxwBP3F1FUNeO5UdbZe5mswmd01Hky2NnBU1SsBHXB58H3d9R2vkLpXFl5V2tK4osohXTJlVHWOuftkVZV4kTgwC342oj9W7M93xPH3mmWdITIt8ZEc9dNRHecVHkVe9IiACJ0CAbXK7osyXpiSurpmewlA4qsno0GDDOPsAAAs7SURBVIQaRSquwNlZcVqdHSI/kvt9K92gPqQLdqoUX5c/fFS+/uqJJ54YrYVH9rtHX/3qV0cTrIs0r5i83KDO97eRgUNm3HhkRvJh1cTbKfRjjz2WX+ywnBUx8opXQKufBV1w5coV6r1+/TpOwZQAvg6HXgOvv6JucCZx6iJH1Mohl+mj2QPeqXqn4t3Vyk+A5J9eT3rgG4et8BJohd1b5p52ZQ+ulFdMW6p++ZZzRGHTBkcZBnwQhIexYQKFEwTkFSfg6JEIiIAIzBJwPZX4AkhUmB0iVdb9s8J3kUBecRfdtFpI84fxJ/kSrGEhvF3sHmzikHaYMR1DdTYlv/a1ryVOqoeF+LdV/+IXvxg+JcalLevGj9YVRnLbnDc1fvvb31okv1esX2YK+bQTZv/UhhwW+JS3icvjPnOoNUzLMHSn1I3Hp7dBF9Gw/Vz8bffVh9lpiDnk4eYvis9ailSjThzxNg1JOSxzvxiEMafdqljxXnEoW1XHmNHA7gjVc7+LNgy7hHHjmyKVsYZQOg1DT+8Vd9p3ElsERKARAtgf7HYjDGYB+sivvZl4KGB0v53EYiJITy3tNXnFS4l1lx4HksNVxP7lL3/JtQv/ni1icF/D74sePaFd115OoS0jZWKap/8Qw2sh/Te+8Q0+cmj885//PHxkPjxF8ZTJjsvtufYO4BX/+Mc/dnTyivcGvqV8TnpRCpTAUMG1sSPTsECcHdwfG0icKocnw6QnhsTcoGFtDL1Nwiggjmd5iutEyrDMLWFXW5Q/lJaSifTqPDHxSG7pkYoEoXJEWlLaPSB86YJu/GxLqRphDBSJN3rFlHCBn66arfXChQueJie9Jx4GogZgf/hdNfYnbNyQq0DDysk8bAWj3K5S37p1y0fPMNmimI2QQ2uDFdzm4SIBlFgEREAE+iWwcQkNG44yYmF3fRReXwq/bSv9TlBY4Gi4oMCj5WOmmAO/UWuHhW+UOdRTUEVPhTZiWJHC+xF45513rPBnn312US3MiJ/97Gdk+eY3v5n2EvHo+Blh+25qXuL9kz/5E6vI5xTZKSSzdheY9FMy49Pi2WYWiCfsB8WWhSlvt7v5aGdiBFzazK/yCmvPkTlMH4blFYc0jg37ije7ioaLG0PIj4XxHv37q/i6Bxa9qEWRW+RfCeG6ZtFS6QJTS0LmobSoPCRhIvDnI3/UFwvzunL0XLSdsHt2UWNHP2bKPJo3ojcq8GjGRGTVd4yRAy3IsOBskz/QM1x8xJiUuMo8YhsjIfThj3ybhC45XBgECIepvOIWekQyiIAI9EsAmwbV7vvfvhXtLcJ2QU+56ePxTQVCPXW4/xmZL4tMvaaonrMwfoD5u9/9Ls2Bd3G//e1vc1zM27n21VaeHj+ZG9SRX+pPVwdmfyAqXTJf1sX59q9+9SuSuVdgWfDhuRxe7e3iyCvm+jTHxWnh9bQFAnbKitbAqWEIuVtrsmGZc6rM06Go5hbx1I5bo4ycJ5Or+AKOtPhZVOrSRvXii1EvzsVQYPLi95oTFylH/FLii0s7lMFiIrVSxCum5NonxmHz8JD58xhQsmNRytTYsgPhIk0FMDjM5mBw8DeVbFH8aoFDrxhrgyFbiuEi+ZVYBERABA4ksHoJTciM3kVJ4SR7GhZ89FSRZX8PgV1OAoiN/ATQCKUslXUyR+aLvOKwm+qH/TBz6vR1SiSuGZtLzK8cZd6CJguXnN2j5ugVD2Gpk+kCI9iUzJE3O9UEi5+SHzk5dna3n2RIm9nSqMYcmaMsfJRXPGRybIyveInT10hCFl60hq299giVwV+UbPgRt4KM5lzwFC2D77p06XaBKSFH5qG01Ii0s34EDQyVI7mQdp1mXCqzoYvUSimvmMKPdIytbTv9uw70TsLkFLtO4MgrZpgunUU5simNCIiACDROYN0SemCjuhMYVitkjswXecUHDjmr2n22KSfzcAkjAVxg4k9YZnnFUb+38NFXvBwnsymBEeaEZY7USkGvGG5Vv3yrhUFzSjLIKz6l3lRbREAERODECAzNFw4otHt7Yr2s5mwnIK94O0OVcCYEUCIcTfst7rJeMQzlGPc6kOQV99pzklsEREAEzoDA0CvmTZ8zaLeaKALLCMgrXsZLqc+YAF4xN7391YniXjFo5Rh3Ob7kFXfZbRJaBERABM6DgLzi8+hntXIrAXnFWwkq/9kQqOAVw1KOcX8DSl5xf30miUVABETgbAjIKz6brlZDNxGQV7wJnzKfE4HIK+bnEne6giTHuLNhJa+4sw6TuCIgAiJwTgTkFZ9Tb6ut6wnIK17PTjnPjMDQK8Yb2omBHOOdwO5SrLziXbCqUBEQAREQgRIE5BWXoKgyTp+AvOLT72O1sBCBml4xIssxLtRv+xcjr3h/xqpBBERABERgJQF5xSvBKduZEZBXfGYdruauJ1DZK0bQR9YLq5wVCcgrrghbVYmACIiACCwjIK94GS+lPlcCv/71r3/605/+/ve/NwDf+ta3vv71r58rDLVbBFIE6nvFSCPHONUljTyTV9xIR0gMERABERCBIQF5xUMmihGBIYF//dd/xSv2eHnFjkIBEYgIHOIVI4Mc46gj2vqItXHt2rU7d+6YWE8++eTt27cvXrzYlpSSRgREQARE4FwJyCs+155Xu5cRkFe8jJdSnzGBo7xikOsd43bHnVkb8orb7SFJJgIiIALnTcDMl/fff98wPP/88zv9hMZ5Y1bruycQesWPPPLIlStXdIO6+05VA/YhcKBXTIN0YrxPr24uNdqD11nxZqIqQAREQAREoCSByHyRV1wSrso6IQKRV/zUU099+ctfPqH2qSkiUIxApFb4vWLeJy1WekZBOjHOgFQ9SeQVY23oBnX1TlCFIiACIiACkwQi80Ve8SQpPThvAvKKz7v/1foFBCK1Ut8rRlY5xgs6rFrSq1evRjfT9F5xNfiqSAREQAREYJYAeuqTTz6xZC+//LJuUM8SU4LzJODftsUNap0Vn+cYUKszCYRq5RCvGDl1lTqzs6omi7ziqnWrMhEQAREQARGYI+Be8VHmy5yAei4CDRGQV9xQZ0iUVgm0oFYu3L9/f5bPhQsXZtMoQXECuplWHKkKFAEROFUC0lOH9Ky84kOwb6n0nXfe2ZJdeVcQkFe8AloLWaRWDumFY9WKrlIf0unzlcornmekFCIgAiIgAscRONZ8Oa7dqlkEFhCQV7wAlpKeN4FHH330cLWiq9QtjsFbt25xz75FySSTCIiACIiACHzhC9JTGgUikENA7xXnUFIaEYAA3zR8+fLlY1HoKvWx/Mdrz7nfPp5TsSIgAiJwlgR0561yt0tPVQZeqjpdpS5FMrOcZ599NjOlkrVGQGqlco+0oFayHOPKXFSdCIiACIiACIiACIiACIiACIiACFQjoHeMq6FWRSIgAiIgAiIgAiIgAiIgAiIgAi0SkGPcYq9IJhEQAREQAREQAREQAREQAREQgWoE5BhXQ62KREAEREAEREAEREAEREAEREAEWiQgx7jFXpFMIiACIiACIiACIiACIiACIiAC1QjIMa6GWhWJgAiIgAiIgAiIgAiIgAiIgAi0SECOcYu9IplEQAREQAREQAREQAREQAREQASqEZBjXA21KhIBERABERABERABERABERABEWiRgBzjFntFMomACIiACIiACIiACIiACIiACFQjIMe4GmpVJAIiIAIiIAIiIAIiIAIiIAIi0CIBOcYt9opkEgEREAEREAEREAEREAEREAERqEZAjnE11KpIBERABERABERABERABERABESgRQJyjFvsFckkAiIgAiIgAiIgAiIgAiIgAiJQjcD/A2A3gQZYvIGoAAAAAElFTkSuQmCC)![fig 1-1.png](data:image/png;base64,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)"
      ],
      "metadata": {
        "id": "B96BlI4m3JDN"
      }
    },
    {
      "cell_type": "code",
      "source": [
        "C = np.array([10,20])\n",
        "print(A*C)\n",
        "D = np.array([10])\n",
        "print(D.ndim)\n",
        "print(A*D)"
      ],
      "metadata": {
        "colab": {
          "base_uri": "https://localhost:8080/"
        },
        "id": "w4BVCRJA3hXA",
        "outputId": "f74b7b77-93ae-436b-e26b-a9e384553e52"
      },
      "execution_count": null,
      "outputs": [
        {
          "output_type": "stream",
          "name": "stdout",
          "text": [
            "[[10 40]\n",
            " [30 80]]\n",
            "1\n",
            "[[10 20]\n",
            " [30 40]]\n"
          ]
        }
      ]
    },
    {
      "cell_type": "markdown",
      "source": [
        "##14.4. 원소 접근\n",
        "원소의 인덱스는 0부터 시작한다."
      ],
      "metadata": {
        "id": "Csry3_EB3Z3_"
      }
    },
    {
      "cell_type": "code",
      "source": [
        "A[0]"
      ],
      "metadata": {
        "colab": {
          "base_uri": "https://localhost:8080/"
        },
        "id": "43fDH-ct3Xd0",
        "outputId": "c0178051-51d7-42fe-93d6-88ad1f08d2c8"
      },
      "execution_count": null,
      "outputs": [
        {
          "output_type": "execute_result",
          "data": {
            "text/plain": [
              "array([1, 2])"
            ]
          },
          "metadata": {},
          "execution_count": 16
        }
      ]
    },
    {
      "cell_type": "code",
      "source": [
        "A[0][1]"
      ],
      "metadata": {
        "colab": {
          "base_uri": "https://localhost:8080/"
        },
        "id": "gsbfvveJ4H-E",
        "outputId": "dce380bb-d3e6-42d5-f7d0-772df7b3c98c"
      },
      "execution_count": null,
      "outputs": [
        {
          "output_type": "execute_result",
          "data": {
            "text/plain": [
              "2"
            ]
          },
          "metadata": {},
          "execution_count": 17
        }
      ]
    },
    {
      "cell_type": "code",
      "source": [
        "A[0,1]"
      ],
      "metadata": {
        "colab": {
          "base_uri": "https://localhost:8080/"
        },
        "id": "QBBhF8CQ4KWu",
        "outputId": "a6a38ca7-d951-4558-e24c-5984e9a2ddff"
      },
      "execution_count": null,
      "outputs": [
        {
          "output_type": "execute_result",
          "data": {
            "text/plain": [
              "2"
            ]
          },
          "metadata": {},
          "execution_count": 18
        }
      ]
    },
    {
      "cell_type": "code",
      "source": [
        "for row in A:\n",
        "  print(row)"
      ],
      "metadata": {
        "colab": {
          "base_uri": "https://localhost:8080/"
        },
        "id": "DBFofjVd4Lpt",
        "outputId": "29344fd1-314a-493f-de0a-a63f27027ca0"
      },
      "execution_count": null,
      "outputs": [
        {
          "output_type": "stream",
          "name": "stdout",
          "text": [
            "[1 2]\n",
            "[3 4]\n"
          ]
        }
      ]
    },
    {
      "cell_type": "code",
      "source": [
        "for row in A:\n",
        "  for elem in row:\n",
        "    print(elem)"
      ],
      "metadata": {
        "colab": {
          "base_uri": "https://localhost:8080/"
        },
        "id": "VLSEMbzC4Ogz",
        "outputId": "7f329799-a85e-4d62-e342-319cd3bb70c2"
      },
      "execution_count": null,
      "outputs": [
        {
          "output_type": "stream",
          "name": "stdout",
          "text": [
            "1\n",
            "2\n",
            "3\n",
            "4\n"
          ]
        }
      ]
    },
    {
      "cell_type": "markdown",
      "source": [
        "#15. matplotlib\n",
        "딥러닝 실험에서는 그래프 그리기와 데이터 시각화가 중요하다. **matplotlib**는 그래프를 그려주는 라이브러리이다. matplotlib를 사용하면 그래프 그리기와 데이터 시각화가 쉬워진다.\n"
      ],
      "metadata": {
        "id": "oedxRHvh4boB"
      }
    },
    {
      "cell_type": "markdown",
      "source": [
        "##단순한 그래프 그리기\n",
        "그래프를 그리려면 matplotlib의 **pyplot** 모듈을 이용한다."
      ],
      "metadata": {
        "id": "0DHs8q1Z4qwr"
      }
    },
    {
      "cell_type": "code",
      "source": [
        "import numpy as np\n",
        "import matplotlib.pyplot as plt\n",
        "\n",
        "#데이터 준비\n",
        "x = np.arange(0,6,0.1) # 0에서 6까지 0.1 간격으로 생성\n",
        "y1 = np.sin(x)\n",
        "y2 = np.cos(x)\n",
        "\n",
        "#그래프 그리기\n",
        "plt.plot(x,y1, label='sin')\n",
        "plt.plot(x,y2, linestyle = '--', label='cos')\n",
        "plt.xlabel('x')\n",
        "plt.ylabel('y')\n",
        "plt.title('sin & cos')\n",
        "plt.legend()\n",
        "plt.show()"
      ],
      "metadata": {
        "id": "9JpmDdZP41e9",
        "colab": {
          "base_uri": "https://localhost:8080/",
          "height": 472
        },
        "outputId": "50a5cf9f-9c59-433a-e68f-1208aec2d46c"
      },
      "execution_count": 25,
      "outputs": [
        {
          "output_type": "display_data",
          "data": {
            "text/plain": [
              "<Figure size 640x480 with 1 Axes>"
            ],
            "image/png": "[encoded data removed]"
          },
          "metadata": {}
        }
      ]
    },
    {
      "cell_type": "code",
      "source": [],
      "metadata": {
        "id": "gCLB5wHhIfRZ"
      },
      "execution_count": null,
      "outputs": []
    }
  ]
}