{
  "nbformat": 4,
  "nbformat_minor": 0,
  "metadata": {
    "colab": {
      "provenance": [],
      "mount_file_id": "1CBwBgi0Wscf2kuI_3Wa2k_PUdzQXdloJ",
      "authorship_tag": "ABX9TyNHf63bGmsG8P6/tngG5M4y",
      "include_colab_link": true
    },
    "kernelspec": {
      "name": "python3",
      "display_name": "Python 3"
    },
    "language_info": {
      "name": "python"
    }
  },
  "cells": [
    {
      "cell_type": "markdown",
      "metadata": {
        "id": "view-in-github",
        "colab_type": "text"
      },
      "source": [
        "<a href=\"https://colab.research.google.com/github/KwancheolShin/Understanding-information-and-AI-with-mathematics/blob/main/2_%ED%8C%8C%EC%9D%B4%EC%8D%AC_%EA%B8%B0%EC%B4%881.ipynb\" target=\"_parent\"><img src=\"https://colab.research.google.com/assets/colab-badge.svg\" alt=\"Open In Colab\"/></a>"
      ]
    },
    {
      "cell_type": "markdown",
      "source": [
        "파이썬 버전확인하기"
      ],
      "metadata": {
        "id": "hfZ_nmDD1xgE"
      }
    },
    {
      "cell_type": "code",
      "source": [
        "!python --version"
      ],
      "metadata": {
        "colab": {
          "base_uri": "https://localhost:8080/"
        },
        "id": "koG72KQL1wdi",
        "outputId": "61d08331-c11b-4229-ac00-40bed48dfd42"
      },
      "execution_count": null,
      "outputs": [
        {
          "output_type": "stream",
          "name": "stdout",
          "text": [
            "Python 3.11.11\n"
          ]
        }
      ]
    },
    {
      "cell_type": "markdown",
      "source": [
        "#1. 자료형\n",
        "프로그래밍 언어에는 자료형data type이라는 것이 있다. 자료형이란 데이터의 성질을 나타내는 것으로, 예를 들어 정수, 실수, 문자열과 같은 형태가 있다. type() 함수로 특정 데이터의 자료형을 알아볼 수 있다."
      ],
      "metadata": {
        "id": "pVQld5G72E3i"
      }
    },
    {
      "cell_type": "code",
      "source": [
        "type(10)"
      ],
      "metadata": {
        "colab": {
          "base_uri": "https://localhost:8080/"
        },
        "id": "OCi9jfPF1zzl",
        "outputId": "ded00c64-3d7f-4b87-c2c8-49d58e90cfc1"
      },
      "execution_count": null,
      "outputs": [
        {
          "output_type": "execute_result",
          "data": {
            "text/plain": [
              "int"
            ]
          },
          "metadata": {},
          "execution_count": 71
        }
      ]
    },
    {
      "cell_type": "code",
      "source": [
        "print(type(10)) #10은 int라는 클래스(자료형)다."
      ],
      "metadata": {
        "colab": {
          "base_uri": "https://localhost:8080/"
        },
        "id": "CQTFSLX_1z2t",
        "outputId": "e210f12b-f3e7-46fb-9264-3ef6fdd7b8b3"
      },
      "execution_count": null,
      "outputs": [
        {
          "output_type": "stream",
          "name": "stdout",
          "text": [
            "<class 'int'>\n"
          ]
        }
      ]
    },
    {
      "cell_type": "code",
      "source": [
        "type(2.718)\n"
      ],
      "metadata": {
        "colab": {
          "base_uri": "https://localhost:8080/"
        },
        "id": "QiWODrAu1z5g",
        "outputId": "73400428-29c1-4f9c-c2a4-b5767ac16b52"
      },
      "execution_count": null,
      "outputs": [
        {
          "output_type": "execute_result",
          "data": {
            "text/plain": [
              "float"
            ]
          },
          "metadata": {},
          "execution_count": 138
        }
      ]
    },
    {
      "cell_type": "code",
      "source": [
        "type(\"Hello\")"
      ],
      "metadata": {
        "colab": {
          "base_uri": "https://localhost:8080/"
        },
        "id": "10o9YgAV1z8s",
        "outputId": "78f1a02c-3552-4dc3-88df-ce71fec31edc"
      },
      "execution_count": null,
      "outputs": [
        {
          "output_type": "execute_result",
          "data": {
            "text/plain": [
              "str"
            ]
          },
          "metadata": {},
          "execution_count": 139
        }
      ]
    },
    {
      "cell_type": "markdown",
      "source": [
        "#2. 변수"
      ],
      "metadata": {
        "id": "fPdbvxJz213J"
      }
    },
    {
      "cell_type": "code",
      "source": [
        "x=10\n",
        "print(x)"
      ],
      "metadata": {
        "colab": {
          "base_uri": "https://localhost:8080/"
        },
        "id": "lNr9e7il1z-0",
        "outputId": "ff3fcf48-4ff7-42af-a938-b54e0a1a7a2d"
      },
      "execution_count": null,
      "outputs": [
        {
          "output_type": "stream",
          "name": "stdout",
          "text": [
            "10\n"
          ]
        }
      ]
    },
    {
      "cell_type": "code",
      "source": [
        "x=100\n",
        "print(x)"
      ],
      "metadata": {
        "colab": {
          "base_uri": "https://localhost:8080/"
        },
        "id": "aa7vNR8I10BQ",
        "outputId": "c4108af3-c414-4c08-fdd6-310dc9edb716"
      },
      "execution_count": null,
      "outputs": [
        {
          "output_type": "stream",
          "name": "stdout",
          "text": [
            "100\n"
          ]
        }
      ]
    },
    {
      "cell_type": "code",
      "source": [
        "y = 3.14\n",
        "x*y"
      ],
      "metadata": {
        "colab": {
          "base_uri": "https://localhost:8080/"
        },
        "id": "JNpMmrFW3Mnk",
        "outputId": "c344b19e-87df-4c76-ddd8-2fe60b001851"
      },
      "execution_count": null,
      "outputs": [
        {
          "output_type": "execute_result",
          "data": {
            "text/plain": [
              "314.0"
            ]
          },
          "metadata": {},
          "execution_count": 82
        }
      ]
    },
    {
      "cell_type": "code",
      "source": [
        "type(x*y)"
      ],
      "metadata": {
        "colab": {
          "base_uri": "https://localhost:8080/"
        },
        "id": "oCRP-Q0c3Qul",
        "outputId": "94ec19fe-8b6d-421a-a39f-c27301ea7759"
      },
      "execution_count": null,
      "outputs": [
        {
          "output_type": "execute_result",
          "data": {
            "text/plain": [
              "float"
            ]
          },
          "metadata": {},
          "execution_count": 83
        }
      ]
    },
    {
      "cell_type": "markdown",
      "source": [
        "파이썬은 **동적 언어**로 분류되는 프로그래밍 언어이다. 동적이라 함은 변수의 자료형을 상황에 맞게 자동으로 결정한다는 뜻이다."
      ],
      "metadata": {
        "id": "awmu7V2g3UIp"
      }
    },
    {
      "cell_type": "markdown",
      "source": [
        "#3. 자료구조\n",
        "파이썬에서 사용하는 대표적인 자료구조는 리스트list, 튜플tuple, 딕셔너리dictionaly, 셋set이 있다.\n",
        "##3.1리스트\n",
        "여러 데이터를 리스트list로 정리할 수 있다."
      ],
      "metadata": {
        "id": "OZ0YMB5O3ker"
      }
    },
    {
      "cell_type": "code",
      "source": [
        "a = [1,2,'three','four',5]\n",
        "print(a)"
      ],
      "metadata": {
        "colab": {
          "base_uri": "https://localhost:8080/"
        },
        "id": "zQNjAi2F34dm",
        "outputId": "c9d98c89-1671-4d39-8306-34c3c4191d03"
      },
      "execution_count": null,
      "outputs": [
        {
          "output_type": "stream",
          "name": "stdout",
          "text": [
            "[1, 2, 'three', 'four', 5]\n"
          ]
        }
      ]
    },
    {
      "cell_type": "code",
      "source": [
        "print(a[0]) #리스트는 인덱스index로 접근할 수 있다. 인덱스는 앞에서는 0부터, 뒤에서는 -1부터 시작한다.\n"
      ],
      "metadata": {
        "colab": {
          "base_uri": "https://localhost:8080/"
        },
        "id": "6o3HQqQm3_3s",
        "outputId": "eb9b1ae7-9788-4ce5-8d92-d15cb072a93c"
      },
      "execution_count": null,
      "outputs": [
        {
          "output_type": "stream",
          "name": "stdout",
          "text": [
            "10\n"
          ]
        }
      ]
    },
    {
      "cell_type": "code",
      "source": [
        "print(a[-1])"
      ],
      "metadata": {
        "colab": {
          "base_uri": "https://localhost:8080/"
        },
        "id": "sKFSrSti4vLE",
        "outputId": "e1a7d1c3-4b2b-4bbf-9571-b96d42bdf585"
      },
      "execution_count": null,
      "outputs": [
        {
          "output_type": "stream",
          "name": "stdout",
          "text": [
            "5\n"
          ]
        }
      ]
    },
    {
      "cell_type": "code",
      "source": [
        "print(a[0],a[1],a[2])"
      ],
      "metadata": {
        "colab": {
          "base_uri": "https://localhost:8080/"
        },
        "id": "u6Mwc2Pd4B08",
        "outputId": "ba364e85-ae61-46a0-c643-347d6676ec08"
      },
      "execution_count": null,
      "outputs": [
        {
          "output_type": "stream",
          "name": "stdout",
          "text": [
            "1 2 three\n"
          ]
        }
      ]
    },
    {
      "cell_type": "code",
      "source": [
        "print(a[0:2]) #슬라이싱을 이용하면 범위를 지정해 부분 리스트를 얻을 수 있다."
      ],
      "metadata": {
        "colab": {
          "base_uri": "https://localhost:8080/"
        },
        "id": "wwNoYinB3qy_",
        "outputId": "b76fb4b7-28df-4323-a8ae-2ba08d29bd08"
      },
      "execution_count": null,
      "outputs": [
        {
          "output_type": "stream",
          "name": "stdout",
          "text": [
            "[10, 2]\n"
          ]
        }
      ]
    },
    {
      "cell_type": "code",
      "source": [
        "print(a[:3]) #처음부터 세번째까지"
      ],
      "metadata": {
        "colab": {
          "base_uri": "https://localhost:8080/"
        },
        "id": "-2H2GNXJ4mje",
        "outputId": "e92dd0d1-88d9-4f13-dd0a-534e77391207"
      },
      "execution_count": null,
      "outputs": [
        {
          "output_type": "stream",
          "name": "stdout",
          "text": [
            "[10, 2, 'three']\n"
          ]
        }
      ]
    },
    {
      "cell_type": "code",
      "source": [
        "print(a[:-2])"
      ],
      "metadata": {
        "colab": {
          "base_uri": "https://localhost:8080/"
        },
        "id": "9Lzzb7V64y09",
        "outputId": "378fbae4-cf2f-4dd4-fe8e-8a90cf2be784"
      },
      "execution_count": null,
      "outputs": [
        {
          "output_type": "stream",
          "name": "stdout",
          "text": [
            "[10, 2, 'three']\n"
          ]
        }
      ]
    },
    {
      "cell_type": "code",
      "source": [
        "len(a) #길이"
      ],
      "metadata": {
        "colab": {
          "base_uri": "https://localhost:8080/"
        },
        "id": "nGuklozS4ZKN",
        "outputId": "045f1be5-272b-4011-cb0f-5b25c3a3a6b0"
      },
      "execution_count": null,
      "outputs": [
        {
          "output_type": "execute_result",
          "data": {
            "text/plain": [
              "5"
            ]
          },
          "metadata": {},
          "execution_count": 88
        }
      ]
    },
    {
      "cell_type": "code",
      "source": [
        "a[0] = 10 #리스트의 값을 바꿀수 있다.\n",
        "print(a)"
      ],
      "metadata": {
        "colab": {
          "base_uri": "https://localhost:8080/"
        },
        "id": "0M9qH--N4dRG",
        "outputId": "3cd1860c-16fd-4bd9-9988-be5b8e80d1c5"
      },
      "execution_count": null,
      "outputs": [
        {
          "output_type": "stream",
          "name": "stdout",
          "text": [
            "[10, 2, 'three', 'four', 5]\n"
          ]
        }
      ]
    },
    {
      "cell_type": "markdown",
      "source": [
        "##3.2 딕셔너리\n",
        "리스트는 인덱스 번호로 0,1,2, ... 순으로 값을 지정하는 반면, 딕셔너리dictionary는 키key와 값value을 한 쌍으로 저장한다. 즉, 영한사전처럼 단어와 그 의미를 짝지어 저장한다. 중괄호{}로 정의하며 키와 값은 콜론:으로 연결한다.\n",
        "키를 이용하여 접근해서 값을 호출하고 변경하고 추가하고 삭제할 수 있다."
      ],
      "metadata": {
        "id": "YCEERK0k44aU"
      }
    },
    {
      "cell_type": "code",
      "source": [
        "me = {\"이름\":\"신관철\", \"키\":195, \"몸무게\":90, \"나이\":20, \"학교\":\"이화여자대학교\"}\n",
        "print(me)"
      ],
      "metadata": {
        "colab": {
          "base_uri": "https://localhost:8080/"
        },
        "id": "GKJKyzG05IE0",
        "outputId": "b73652b1-3e65-4433-a430-855ac48f5acc"
      },
      "execution_count": null,
      "outputs": [
        {
          "output_type": "stream",
          "name": "stdout",
          "text": [
            "{'이름': '신관철', '키': 195, '몸무게': 90, '나이': 20, '학교': '이화여자대학교'}\n"
          ]
        }
      ]
    },
    {
      "cell_type": "code",
      "source": [
        "me[\"키\"]"
      ],
      "metadata": {
        "colab": {
          "base_uri": "https://localhost:8080/"
        },
        "id": "RGJCvnam452u",
        "outputId": "1103b94c-9d07-47af-97ef-7331441696ca"
      },
      "execution_count": null,
      "outputs": [
        {
          "output_type": "execute_result",
          "data": {
            "text/plain": [
              "195"
            ]
          },
          "metadata": {},
          "execution_count": 100
        }
      ]
    },
    {
      "cell_type": "code",
      "source": [
        "me[\"키\"] = 185"
      ],
      "metadata": {
        "id": "oAewGTU24jb0"
      },
      "execution_count": null,
      "outputs": []
    },
    {
      "cell_type": "code",
      "source": [
        "print(me)"
      ],
      "metadata": {
        "colab": {
          "base_uri": "https://localhost:8080/"
        },
        "id": "Mta3x3eH4hGY",
        "outputId": "224257b0-b27d-4373-88f0-45635be7f86d"
      },
      "execution_count": null,
      "outputs": [
        {
          "output_type": "stream",
          "name": "stdout",
          "text": [
            "{'이름': '신관철', '키': 185, '몸무게': 90, '나이': 20, '학교': '이화여자대학교'}\n"
          ]
        }
      ]
    },
    {
      "cell_type": "code",
      "source": [
        "me[\"주소\"] = \"서울\" # 딕셔너리 값 추가\n",
        "print(me)"
      ],
      "metadata": {
        "colab": {
          "base_uri": "https://localhost:8080/"
        },
        "id": "-ALbBqaS3SZt",
        "outputId": "cceca219-b26e-43dc-a943-7b2fe483f855"
      },
      "execution_count": null,
      "outputs": [
        {
          "output_type": "stream",
          "name": "stdout",
          "text": [
            "{'이름': '신관철', '키': 185, '몸무게': 90, '나이': 20, '학교': '이화여자대학교', '주소': '서울'}\n"
          ]
        }
      ]
    },
    {
      "cell_type": "code",
      "source": [
        "del me[\"주소\"] #디셔러니 값 삭제\n",
        "print(me)"
      ],
      "metadata": {
        "colab": {
          "base_uri": "https://localhost:8080/"
        },
        "id": "TW6VU7AD54PU",
        "outputId": "adc05878-2f5a-4c6e-aaf8-f614b5976274"
      },
      "execution_count": null,
      "outputs": [
        {
          "output_type": "stream",
          "name": "stdout",
          "text": [
            "{'이름': '신관철', '키': 185, '몸무게': 90, '나이': 20, '학교': '이화여자대학교'}\n"
          ]
        }
      ]
    },
    {
      "cell_type": "code",
      "source": [
        "for key,value in me.items(): #반복문으로 출력하기\n",
        "  print(key,value)"
      ],
      "metadata": {
        "colab": {
          "base_uri": "https://localhost:8080/"
        },
        "id": "CxKkNsss57ac",
        "outputId": "e5a36ab8-4b8b-492d-beec-ec9e2112ea9b"
      },
      "execution_count": null,
      "outputs": [
        {
          "output_type": "stream",
          "name": "stdout",
          "text": [
            "이름 신관철\n",
            "키 185\n",
            "몸무게 90\n",
            "나이 20\n",
            "학교 이화여자대학교\n"
          ]
        }
      ]
    },
    {
      "cell_type": "markdown",
      "source": [
        "##3.3 bool\n",
        "bool 자료형은 True와 False라는 두 값 중 하나를 취한다.\n",
        "bool에는 and, or, not 연산자를 사용할 수 있다."
      ],
      "metadata": {
        "id": "B_KAF2o56JRF"
      }
    },
    {
      "cell_type": "code",
      "source": [
        "hungry = True\n",
        "sleepy = False"
      ],
      "metadata": {
        "id": "saMIobzL6WC0"
      },
      "execution_count": null,
      "outputs": []
    },
    {
      "cell_type": "code",
      "source": [
        "type(hungry)"
      ],
      "metadata": {
        "colab": {
          "base_uri": "https://localhost:8080/"
        },
        "id": "dmnn1RNv5_ac",
        "outputId": "c4893b91-b7f6-491d-edf0-5e0dc47234c1"
      },
      "execution_count": null,
      "outputs": [
        {
          "output_type": "execute_result",
          "data": {
            "text/plain": [
              "bool"
            ]
          },
          "metadata": {},
          "execution_count": 109
        }
      ]
    },
    {
      "cell_type": "code",
      "source": [
        "print(hungry)"
      ],
      "metadata": {
        "colab": {
          "base_uri": "https://localhost:8080/"
        },
        "id": "VYeb_U5K6cal",
        "outputId": "2f6da5d3-4e09-45e2-b0fc-4f26e428bb7b"
      },
      "execution_count": null,
      "outputs": [
        {
          "output_type": "stream",
          "name": "stdout",
          "text": [
            "True\n"
          ]
        }
      ]
    },
    {
      "cell_type": "code",
      "source": [
        "print(int(hungry))"
      ],
      "metadata": {
        "colab": {
          "base_uri": "https://localhost:8080/"
        },
        "id": "vcH4RG3f6egb",
        "outputId": "f00a7a7d-3011-441a-b45f-295829738a60"
      },
      "execution_count": null,
      "outputs": [
        {
          "output_type": "stream",
          "name": "stdout",
          "text": [
            "1\n"
          ]
        }
      ]
    },
    {
      "cell_type": "code",
      "source": [
        "print(int(sleepy))"
      ],
      "metadata": {
        "colab": {
          "base_uri": "https://localhost:8080/"
        },
        "id": "fzwRdhUq6h7s",
        "outputId": "cb98a5a7-7dd8-40fc-f717-90d5bc151321"
      },
      "execution_count": null,
      "outputs": [
        {
          "output_type": "stream",
          "name": "stdout",
          "text": [
            "0\n"
          ]
        }
      ]
    },
    {
      "cell_type": "markdown",
      "source": [
        "#4. 논리연산자(and,or,not)"
      ],
      "metadata": {
        "id": "J7hPUZ6t7Lsx"
      }
    },
    {
      "cell_type": "code",
      "source": [
        "print(hungry and hungry)\n",
        "print(hungry and sleepy)\n",
        "print(sleepy and hungry)\n",
        "print(sleepy and sleepy)"
      ],
      "metadata": {
        "colab": {
          "base_uri": "https://localhost:8080/"
        },
        "id": "eIhu-7_U6jq1",
        "outputId": "52fc4377-f8ff-4bca-d907-3f8a946a82aa"
      },
      "execution_count": null,
      "outputs": [
        {
          "output_type": "stream",
          "name": "stdout",
          "text": [
            "True\n",
            "False\n",
            "False\n",
            "False\n"
          ]
        }
      ]
    },
    {
      "cell_type": "code",
      "source": [
        "print(hungry or hungry)\n",
        "print(hungry or sleepy)\n",
        "print(sleepy or hungry)\n",
        "print(sleepy or sleepy)"
      ],
      "metadata": {
        "colab": {
          "base_uri": "https://localhost:8080/"
        },
        "id": "73uB3EiT6_Au",
        "outputId": "b8a74ecc-63e7-40d1-c80c-0b9756ab1ba4"
      },
      "execution_count": null,
      "outputs": [
        {
          "output_type": "stream",
          "name": "stdout",
          "text": [
            "True\n",
            "True\n",
            "True\n",
            "False\n"
          ]
        }
      ]
    },
    {
      "cell_type": "code",
      "source": [
        "print(not hungry)\n",
        "print(not False)"
      ],
      "metadata": {
        "colab": {
          "base_uri": "https://localhost:8080/"
        },
        "id": "efHlwMZx7D7D",
        "outputId": "7c715194-5587-4f8e-b7b7-720a2ac85195"
      },
      "execution_count": null,
      "outputs": [
        {
          "output_type": "stream",
          "name": "stdout",
          "text": [
            "False\n",
            "True\n"
          ]
        }
      ]
    },
    {
      "cell_type": "markdown",
      "source": [
        "##5. 조건문\n",
        "조건에 따라 달리 처리하려면 if/else 문을 사용한다."
      ],
      "metadata": {
        "id": "n7i66LUK7Vid"
      }
    },
    {
      "cell_type": "code",
      "source": [
        "hungry = True\n",
        "\n",
        "if hungry:\n",
        "  print(\"I'm hungry\")"
      ],
      "metadata": {
        "colab": {
          "base_uri": "https://localhost:8080/"
        },
        "id": "Z1vy-tsF7cas",
        "outputId": "11da36aa-5805-4ac3-e2c5-a29dded230b6"
      },
      "execution_count": null,
      "outputs": [
        {
          "output_type": "stream",
          "name": "stdout",
          "text": [
            "I'm hungry\n"
          ]
        }
      ]
    },
    {
      "cell_type": "code",
      "source": [
        "hungry = False\n",
        "if hungry:\n",
        "  print(\"I'm hungry.\")\n",
        "else:\n",
        "  print(\"I'm not hungry.\")\n",
        "  print(\"I'm sleepy.\")\n"
      ],
      "metadata": {
        "colab": {
          "base_uri": "https://localhost:8080/"
        },
        "id": "9E7_MZV57ncT",
        "outputId": "a90c3feb-3524-4f9e-bbcd-af9d83555b39"
      },
      "execution_count": null,
      "outputs": [
        {
          "output_type": "stream",
          "name": "stdout",
          "text": [
            "I'm not hungry.\n",
            "I'm sleepy.\n"
          ]
        }
      ]
    }
  ]
}