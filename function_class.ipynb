{
  "nbformat": 4,
  "nbformat_minor": 0,
  "metadata": {
    "colab": {
      "provenance": [],
      "authorship_tag": "ABX9TyPTfQGjzgOhGFi3uYiMkJqe",
      "include_colab_link": true
    },
    "kernelspec": {
      "name": "python3",
      "display_name": "Python 3"
    },
    "language_info": {
      "name": "python"
    }
  },
  "cells": [
    {
      "cell_type": "markdown",
      "metadata": {
        "id": "view-in-github",
        "colab_type": "text"
      },
      "source": [
        "<a href=\"https://colab.research.google.com/github/KwancheolShin/Understanding-information-and-AI-with-mathematics/blob/main/function_class.ipynb\" target=\"_parent\"><img src=\"https://colab.research.google.com/assets/colab-badge.svg\" alt=\"Open In Colab\"/></a>"
      ]
    },
    {
      "cell_type": "code",
      "execution_count": 20,
      "metadata": {
        "id": "YZTmkB6M_zV-"
      },
      "outputs": [],
      "source": [
        "import numpy as np\n",
        "import matplotlib.pyplot as plt\n",
        "\n",
        "class f1():\n",
        "    def __init__(self,lr=0.01, h = 0.00001):\n",
        "        self.lr = lr # 아직 필요없음\n",
        "        self.h  = h  # delta x\n",
        "\n",
        "    def forward(self,x):\n",
        "        return 10*x**2 - 4.2*x + 5\n",
        "\n",
        "    def derivative(self,x):\n",
        "        return 20*x - 4.2\n",
        "\n",
        "    def hderivative(self,x):\n",
        "        df = self.forward(x+self.h)-self.forward(x)\n",
        "        return df/self.h"
      ]
    },
    {
      "cell_type": "code",
      "source": [
        "f = f1() # 함수 객체를 하나 만든다. lr과 h를 지정하지 않으면 class에서 지정한 default 값으로 자동 설정된다.\n",
        "x = 0.25\n",
        "\n",
        "print(f\"f({x}) = \",f.forward(x))     # 함숫값 출력\n",
        "print(f\"f'({x})= \",f.derivative(x))  # 정확한 미분계수 출력\n",
        "print(f\"fh({x})= \",f.hderivative(x)) # 수치계산 미분계수(평균변화율) 출력\n"
      ],
      "metadata": {
        "colab": {
          "base_uri": "https://localhost:8080/"
        },
        "id": "EKSAvCBU_4L0",
        "outputId": "93cc6786-48ba-4a96-b84a-6826a00055b5"
      },
      "execution_count": 23,
      "outputs": [
        {
          "output_type": "stream",
          "name": "stdout",
          "text": [
            "f(0.25) =  4.575\n",
            "f'(0.25)=  0.7999999999999998\n",
            "fh(0.25)=  0.8000999999424606\n"
          ]
        }
      ]
    },
    {
      "cell_type": "markdown",
      "source": [
        "# 수식 입력 방법\n",
        "\n",
        "수학 기호는 달러($) 기호 안에 수식을 쳐 넣으면 됩니다. 이런 기호법을 Latex 문법이라고 합니다. 수식을 쳐 넣을 일이 있을 때 구글에 Latex 수식입력과 같이 필요한 기호를 검색하세요.\n",
        "\n",
        "예:\n",
        "\n",
        "$\\sum_{i=1}^n a_n$\n",
        "\n",
        "$\\int_{1}^2 f(x)dx$\n",
        "\n",
        "$f(x) = ax + b$\n"
      ],
      "metadata": {
        "id": "lVZPQ6hR4XKe"
      }
    }
  ]
}