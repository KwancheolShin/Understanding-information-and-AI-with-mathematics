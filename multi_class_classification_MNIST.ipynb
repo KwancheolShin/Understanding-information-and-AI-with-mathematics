{
  "nbformat": 4,
  "nbformat_minor": 0,
  "metadata": {
    "colab": {
      "provenance": [],
      "gpuType": "T4",
      "authorship_tag": "ABX9TyMz8lPb+q5nCIK67Guos/eN",
      "include_colab_link": true
    },
    "kernelspec": {
      "name": "python3",
      "display_name": "Python 3"
    },
    "language_info": {
      "name": "python"
    },
    "accelerator": "GPU"
  },
  "cells": [
    {
      "cell_type": "markdown",
      "metadata": {
        "id": "view-in-github",
        "colab_type": "text"
      },
      "source": [
        "<a href=\"https://colab.research.google.com/github/KwancheolShin/Understanding-information-and-AI-with-mathematics/blob/main/multi_class_classification_MNIST.ipynb\" target=\"_parent\"><img src=\"https://colab.research.google.com/assets/colab-badge.svg\" alt=\"Open In Colab\"/></a>"
      ]
    },
    {
      "cell_type": "code",
      "execution_count": 2,
      "metadata": {
        "colab": {
          "base_uri": "https://localhost:8080/",
          "height": 576
        },
        "id": "vBOxk7oB6TCF",
        "outputId": "b12ae66e-6bd8-4020-8e1d-2afa861ad2ec"
      },
      "outputs": [
        {
          "output_type": "stream",
          "name": "stdout",
          "text": [
            "Downloading data from https://storage.googleapis.com/tensorflow/tf-keras-datasets/mnist.npz\n",
            "\u001b[1m11490434/11490434\u001b[0m \u001b[32m━━━━━━━━━━━━━━━━━━━━\u001b[0m\u001b[37m\u001b[0m \u001b[1m0s\u001b[0m 0us/step\n",
            "x_train shape (60000, 28, 28)\n",
            "x_test  shape (10000, 28, 28)\n",
            "t_train shape (60000,)\n",
            "t_test  shape (10000,)\n",
            "0\n",
            "(28, 28)\n"
          ]
        },
        {
          "output_type": "display_data",
          "data": {
            "text/plain": [
              "<Figure size 640x480 with 1 Axes>"
            ],
            "image/png": "[encoded data removed]"
          },
          "metadata": {}
        }
      ],
      "source": [
        "from tensorflow.keras.datasets import mnist\n",
        "import numpy as np\n",
        "import matplotlib.pyplot as plt  # ✅ 추가\n",
        "\n",
        "(x_train, t_train), (x_test, t_test) = mnist.load_data()\n",
        "\n",
        "print(\"x_train shape\", x_train.shape)\n",
        "print(\"x_test  shape\", x_test.shape)\n",
        "print(\"t_train shape\", t_train.shape)\n",
        "print(\"t_test  shape\", t_test.shape)\n",
        "\n",
        "img = x_train[1]\n",
        "label = t_train[1]\n",
        "\n",
        "print(label)  # 예: 5\n",
        "print(img.shape)  # (28, 28)\n",
        "\n",
        "# ✅ Colab에서는 plt.imshow 사용\n",
        "plt.imshow(img, cmap='gray')\n",
        "plt.title(f\"Label: {label}\")\n",
        "plt.axis('off')\n",
        "plt.show()"
      ]
    },
    {
      "cell_type": "code",
      "source": [
        "from tensorflow.keras.utils import to_categorical\n",
        "\n",
        "x_train = x_train.reshape(x_train.shape[0],-1)# (60000, 784)\n",
        "x_test  = x_test.reshape(x_test.shape[0],-1) # (10000, 784)\n",
        "\n",
        "t_train = to_categorical(t_train, num_classes = 10)\n",
        "t_test  = to_categorical(t_test, num_classes = 10)\n",
        "\n",
        "print(\"x_train shape\", x_train.shape)\n",
        "print(\"x_test  shape\", x_test.shape)\n",
        "print(\"t_train shape\", t_train.shape)\n",
        "print(\"t_test  shape\", t_test.shape)\n",
        "\n",
        "print(\"x_train[0] \\n\", x_train[0])\n",
        "print(\"t_train[0] \\n\", t_train[0])"
      ],
      "metadata": {
        "colab": {
          "base_uri": "https://localhost:8080/"
        },
        "id": "O82M1Jw-7hoe",
        "outputId": "a59b99f8-326c-47b1-a47c-b95ed15cbe93"
      },
      "execution_count": 3,
      "outputs": [
        {
          "output_type": "stream",
          "name": "stdout",
          "text": [
            "x_train shape (60000, 784)\n",
            "x_test  shape (10000, 784)\n",
            "t_train shape (60000, 10)\n",
            "t_test  shape (10000, 10)\n",
            "x_train[0] \n",
            " [  0   0   0   0   0   0   0   0   0   0   0   0   0   0   0   0   0   0\n",
            "   0   0   0   0   0   0   0   0   0   0   0   0   0   0   0   0   0   0\n",
            "   0   0   0   0   0   0   0   0   0   0   0   0   0   0   0   0   0   0\n",
            "   0   0   0   0   0   0   0   0   0   0   0   0   0   0   0   0   0   0\n",
            "   0   0   0   0   0   0   0   0   0   0   0   0   0   0   0   0   0   0\n",
            "   0   0   0   0   0   0   0   0   0   0   0   0   0   0   0   0   0   0\n",
            "   0   0   0   0   0   0   0   0   0   0   0   0   0   0   0   0   0   0\n",
            "   0   0   0   0   0   0   0   0   0   0   0   0   0   0   0   0   0   0\n",
            "   0   0   0   0   0   0   0   0   3  18  18  18 126 136 175  26 166 255\n",
            " 247 127   0   0   0   0   0   0   0   0   0   0   0   0  30  36  94 154\n",
            " 170 253 253 253 253 253 225 172 253 242 195  64   0   0   0   0   0   0\n",
            "   0   0   0   0   0  49 238 253 253 253 253 253 253 253 253 251  93  82\n",
            "  82  56  39   0   0   0   0   0   0   0   0   0   0   0   0  18 219 253\n",
            " 253 253 253 253 198 182 247 241   0   0   0   0   0   0   0   0   0   0\n",
            "   0   0   0   0   0   0   0   0  80 156 107 253 253 205  11   0  43 154\n",
            "   0   0   0   0   0   0   0   0   0   0   0   0   0   0   0   0   0   0\n",
            "   0  14   1 154 253  90   0   0   0   0   0   0   0   0   0   0   0   0\n",
            "   0   0   0   0   0   0   0   0   0   0   0   0   0 139 253 190   2   0\n",
            "   0   0   0   0   0   0   0   0   0   0   0   0   0   0   0   0   0   0\n",
            "   0   0   0   0   0  11 190 253  70   0   0   0   0   0   0   0   0   0\n",
            "   0   0   0   0   0   0   0   0   0   0   0   0   0   0   0   0  35 241\n",
            " 225 160 108   1   0   0   0   0   0   0   0   0   0   0   0   0   0   0\n",
            "   0   0   0   0   0   0   0   0   0  81 240 253 253 119  25   0   0   0\n",
            "   0   0   0   0   0   0   0   0   0   0   0   0   0   0   0   0   0   0\n",
            "   0   0  45 186 253 253 150  27   0   0   0   0   0   0   0   0   0   0\n",
            "   0   0   0   0   0   0   0   0   0   0   0   0   0  16  93 252 253 187\n",
            "   0   0   0   0   0   0   0   0   0   0   0   0   0   0   0   0   0   0\n",
            "   0   0   0   0   0   0   0 249 253 249  64   0   0   0   0   0   0   0\n",
            "   0   0   0   0   0   0   0   0   0   0   0   0   0   0  46 130 183 253\n",
            " 253 207   2   0   0   0   0   0   0   0   0   0   0   0   0   0   0   0\n",
            "   0   0   0   0  39 148 229 253 253 253 250 182   0   0   0   0   0   0\n",
            "   0   0   0   0   0   0   0   0   0   0   0   0  24 114 221 253 253 253\n",
            " 253 201  78   0   0   0   0   0   0   0   0   0   0   0   0   0   0   0\n",
            "   0   0  23  66 213 253 253 253 253 198  81   2   0   0   0   0   0   0\n",
            "   0   0   0   0   0   0   0   0   0   0  18 171 219 253 253 253 253 195\n",
            "  80   9   0   0   0   0   0   0   0   0   0   0   0   0   0   0   0   0\n",
            "  55 172 226 253 253 253 253 244 133  11   0   0   0   0   0   0   0   0\n",
            "   0   0   0   0   0   0   0   0   0   0 136 253 253 253 212 135 132  16\n",
            "   0   0   0   0   0   0   0   0   0   0   0   0   0   0   0   0   0   0\n",
            "   0   0   0   0   0   0   0   0   0   0   0   0   0   0   0   0   0   0\n",
            "   0   0   0   0   0   0   0   0   0   0   0   0   0   0   0   0   0   0\n",
            "   0   0   0   0   0   0   0   0   0   0   0   0   0   0   0   0   0   0\n",
            "   0   0   0   0   0   0   0   0   0   0   0   0   0   0   0   0   0   0\n",
            "   0   0   0   0   0   0   0   0   0   0]\n",
            "t_train[0] \n",
            " [0. 0. 0. 0. 0. 1. 0. 0. 0. 0.]\n"
          ]
        }
      ]
    },
    {
      "cell_type": "code",
      "source": [
        "\n",
        "\n",
        "class Relu:\n",
        "    def __init__(self):\n",
        "        self.mask = None\n",
        "\n",
        "    def forward(self,x):\n",
        "        self.mask = (x<=0)\n",
        "        out = x.copy()\n",
        "        out[self.mask]=0\n",
        "\n",
        "        return out\n",
        "\n",
        "    def backward(self,dout):\n",
        "        dout[self.mask] =0\n",
        "        dx =dout\n",
        "\n",
        "        return dx\n",
        "\n",
        "class Sigmoid:\n",
        "    def __init__(self):\n",
        "        self.out = None\n",
        "\n",
        "    def forward(self,x):\n",
        "        out = 1/(1+np.exp(-x))\n",
        "        self.out = out\n",
        "\n",
        "        return out\n",
        "\n",
        "    def backward(self,dout):\n",
        "        dx = dout*(1.0-self.out)*self.out\n",
        "\n",
        "        return dx\n",
        "\n",
        "class Affine:\n",
        "    def __init__(self,W,b):\n",
        "        self.W = W\n",
        "        self.b = b\n",
        "        self.dW = None\n",
        "        self.db = None\n",
        "        self.x = None\n",
        "\n",
        "    def forward(self,x):\n",
        "        self.x = x\n",
        "        out  = np.matmul(self.x,self.W) + self.b\n",
        "\n",
        "        return out\n",
        "\n",
        "    def backward(self,dout):\n",
        "        dx = np.matmul(dout,self.W.T)\n",
        "        self.dW = np.matmul(self.x.T,dout)\n",
        "        self.db = np.sum(dout,axis=0)\n",
        "\n",
        "        return dx\n",
        "\n",
        "def cross_entropy_error(y,t):\n",
        "    #y: output of the Neural network\n",
        "    #t: label\n",
        "    if y.ndim ==1: #데이터가 하나인 경우라도\n",
        "        t = t.reshape(1,t.size) #2차원 배열로 바꿈\n",
        "        y = y.reshape(1,y.size)\n",
        "\n",
        "    batch_size = y.shape[0]\n",
        "    return -np.sum(t*np.log(y + 1e-7))/batch_size\n",
        "\n",
        "def softmax(x):\n",
        "    if x.ndim ==2:\n",
        "       x = x-np.max(x,axis=1,keepdims=True)\n",
        "       exp_x = np.exp(x)\n",
        "       return exp_x/np.sum(exp_x,axis=1,keepdims=True)\n",
        "    else:\n",
        "        x = x-np.max(x)\n",
        "        exp_x = np.exp(x)\n",
        "        return exp_x / np.sum(exp_x)\n",
        "\n",
        "class SoftmaxWithLoss:\n",
        "    def __init__(self):\n",
        "        self.loss = None # 손실\n",
        "        self.y = None    # softmax의 출력\n",
        "        self.t = None\n",
        "\n",
        "    def forward(self,x,t):\n",
        "        self.t = t\n",
        "        self.y = softmax(x)\n",
        "        self.loss = cross_entropy_error(self.y,self.t)\n",
        "        return self.loss\n",
        "\n",
        "    def backward(self,dout=1):\n",
        "        batch_size = self.t.shape[0]\n",
        "        dx = (self.y - self.t) / batch_size\n",
        "\n",
        "        return dx\n",
        "\n",
        "\n",
        "class TwoLayerNet:\n",
        "    def __init__(self,input_size,hidden_size,output_size,weight_init_std=0.01):\n",
        "        self.params ={}\n",
        "        self.params['W1'] =weight_init_std*np.random.randn(input_size,hidden_size)\n",
        "        self.params['b1'] =np.zeros(hidden_size)\n",
        "        self.params['W2'] =weight_init_std*np.random.randn(hidden_size,output_size)\n",
        "        self.params['b2'] =np.zeros(output_size)\n",
        "\n",
        "\n",
        "        self.Affine1  = Affine(self.params['W1'],self.params['b1'])\n",
        "        self.Sigmoid = Relu()\n",
        "        self.Affine2  = Affine(self.params['W2'],self.params['b2'])\n",
        "        self.lastLayer = SoftmaxWithLoss()\n",
        "\n",
        "    def predict(self,x):\n",
        "        a1 = self.Affine1.forward(x)\n",
        "        z1 = self.Sigmoid.forward(a1)\n",
        "        a2 = self.Affine2.forward(z1)\n",
        "\n",
        "        return a2\n",
        "\n",
        "    def loss(self,x,t):\n",
        "        y = self.predict(x)\n",
        "        return self.lastLayer.forward(y,t)\n",
        "\n",
        "    def accuracy(self,x,t):\n",
        "        y = self.predict(x)\n",
        "        y = np.argmax(y,axis=1)\n",
        "        if t.ndim !=1 : t= np.argmax(t,axis = 1)\n",
        "\n",
        "        accuracy= np.sum(y==t)/float(x.shape[0])\n",
        "        return accuracy\n",
        "\n",
        "    def gradient(self,x,t):\n",
        "        self.loss(x,t)\n",
        "\n",
        "        #역전파\n",
        "        dout = 1\n",
        "        douta2 = self.lastLayer.backward(dout)\n",
        "        doutz1 = self.Affine2.backward(douta2)\n",
        "        douta1 = self.Sigmoid.backward(doutz1)\n",
        "        doutx  = self.Affine1.backward(douta1)\n",
        "\n",
        "        grads = {}\n",
        "        grads['W1'] = self.Affine1.dW\n",
        "        grads['b1'] = self.Affine1.db\n",
        "        grads['W2'] = self.Affine2.dW\n",
        "        grads['b2'] = self.Affine2.db\n",
        "\n",
        "        return grads\n",
        "\n",
        "\n",
        "network = TwoLayerNet(input_size = 784, hidden_size=50, output_size=10)\n",
        "\n",
        "iters_num = 10_000\n",
        "train_size = x_train.shape[0]\n",
        "batch_size = 100\n",
        "learning_rate = 0.001\n",
        "\n",
        "train_loss_list = []\n",
        "train_acc_list  = []\n",
        "test_acc_list   = []\n",
        "\n",
        "iter_per_epoch = max(train_size/batch_size,1)\n",
        "\n",
        "for i in range(iters_num):\n",
        "    batch_mask = np.random.choice(train_size,batch_size)\n",
        "    x_batch = x_train[batch_mask]\n",
        "    t_batch = t_train[batch_mask]\n",
        "\n",
        "    grad = network.gradient(x_batch,t_batch)\n",
        "\n",
        "    for key in ('W1','b1','W2','b2'):\n",
        "        network.params[key] -=learning_rate*grad[key]\n",
        "\n",
        "    loss = network.loss(x_batch,t_batch)\n",
        "    train_loss_list.append(loss)\n",
        "\n",
        "    if i%iter_per_epoch ==0:\n",
        "        train_acc = network.accuracy(x_train,t_train)\n",
        "        test_acc = network.accuracy(x_test,t_test)\n",
        "        train_acc_list.append(train_acc)\n",
        "        test_acc_list.append(test_acc)\n",
        "        print(f\"epoch:{i:6d}, Train Acc: {train_acc:.5f}, Test Acc: {test_acc:.5f}, Loss: {loss:.5f}\")\n",
        "\n",
        "\n",
        "# 손실 그래프\n",
        "plt.figure(figsize=(12, 5))\n",
        "\n",
        "plt.subplot(1, 2, 1)\n",
        "plt.plot(train_loss_list, label='Train Loss')\n",
        "plt.xlabel(\"Iteration\")\n",
        "plt.ylabel(\"Loss\")\n",
        "plt.title(\"Training Loss\")\n",
        "plt.grid(True)\n",
        "plt.legend()\n",
        "\n",
        "# 정확도 그래프 (Train vs Test)\n",
        "plt.subplot(1, 2, 2)\n",
        "plt.plot(train_acc_list, label='Train Accuracy')\n",
        "plt.plot(test_acc_list, label='Test Accuracy')\n",
        "plt.xlabel(\"Epoch\")\n",
        "plt.ylabel(\"Accuracy\")\n",
        "plt.title(\"Train/Test Accuracy\")\n",
        "plt.grid(True)\n",
        "plt.legend()"
      ],
      "metadata": {
        "colab": {
          "base_uri": "https://localhost:8080/",
          "height": 821
        },
        "id": "7r-72XGu9Ev8",
        "outputId": "594d3140-3c13-47b0-f2d1-5289f810e2d2"
      },
      "execution_count": 4,
      "outputs": [
        {
          "output_type": "stream",
          "name": "stdout",
          "text": [
            "epoch:     0, Train Acc: 0.15770, Test Acc: 0.16030, Loss: 2.37226\n",
            "epoch:   600, Train Acc: 0.92547, Test Acc: 0.92200, Loss: 0.19715\n",
            "epoch:  1200, Train Acc: 0.95195, Test Acc: 0.94800, Loss: 0.19939\n",
            "epoch:  1800, Train Acc: 0.96252, Test Acc: 0.95590, Loss: 0.06868\n",
            "epoch:  2400, Train Acc: 0.96498, Test Acc: 0.95790, Loss: 0.05123\n",
            "epoch:  3000, Train Acc: 0.96778, Test Acc: 0.96060, Loss: 0.01780\n",
            "epoch:  3600, Train Acc: 0.97572, Test Acc: 0.96590, Loss: 0.01880\n",
            "epoch:  4200, Train Acc: 0.97450, Test Acc: 0.96300, Loss: 0.02453\n",
            "epoch:  4800, Train Acc: 0.97843, Test Acc: 0.96820, Loss: 0.02069\n",
            "epoch:  5400, Train Acc: 0.97973, Test Acc: 0.96870, Loss: 0.01697\n",
            "epoch:  6000, Train Acc: 0.98117, Test Acc: 0.96690, Loss: 0.02732\n",
            "epoch:  6600, Train Acc: 0.98343, Test Acc: 0.97040, Loss: 0.01130\n",
            "epoch:  7200, Train Acc: 0.98338, Test Acc: 0.97040, Loss: 0.02635\n",
            "epoch:  7800, Train Acc: 0.98607, Test Acc: 0.97110, Loss: 0.01872\n",
            "epoch:  8400, Train Acc: 0.98662, Test Acc: 0.97230, Loss: 0.01565\n",
            "epoch:  9000, Train Acc: 0.98797, Test Acc: 0.97260, Loss: 0.00894\n",
            "epoch:  9600, Train Acc: 0.98938, Test Acc: 0.97220, Loss: 0.00826\n"
          ]
        },
        {
          "output_type": "execute_result",
          "data": {
            "text/plain": [
              "<matplotlib.legend.Legend at 0x7e0453267390>"
            ]
          },
          "metadata": {},
          "execution_count": 4
        },
        {
          "output_type": "display_data",
          "data": {
            "text/plain": [
              "<Figure size 1200x500 with 2 Axes>"
            ],
            "image/png": "[encoded data removed]"
          },
          "metadata": {}
        }
      ]
    },
    {
      "cell_type": "code",
      "source": [
        "print(np.argmax(network.predict(x_test[2])))\n"
      ],
      "metadata": {
        "colab": {
          "base_uri": "https://localhost:8080/"
        },
        "id": "psdTLk5o9iBb",
        "outputId": "1403a878-7a5a-45fb-92a1-120f7f7b8494"
      },
      "execution_count": 9,
      "outputs": [
        {
          "output_type": "stream",
          "name": "stdout",
          "text": [
            "1\n"
          ]
        }
      ]
    }
  ]
}