{
  "nbformat": 4,
  "nbformat_minor": 0,
  "metadata": {
    "colab": {
      "provenance": [],
      "mount_file_id": "1BWGsCpIwXHuL7QVNDruxJ8ipAfvuZtvh",
      "authorship_tag": "ABX9TyMRa5jBgcWUG5Mi5mx9TEkz",
      "include_colab_link": true
    },
    "kernelspec": {
      "name": "python3",
      "display_name": "Python 3"
    },
    "language_info": {
      "name": "python"
    }
  },
  "cells": [
    {
      "cell_type": "markdown",
      "metadata": {
        "id": "view-in-github",
        "colab_type": "text"
      },
      "source": [
        "<a href=\"https://colab.research.google.com/github/KwancheolShin/Understanding-information-and-AI-with-mathematics/blob/main/importing_examples.ipynb\" target=\"_parent\"><img src=\"https://colab.research.google.com/assets/colab-badge.svg\" alt=\"Open In Colab\"/></a>"
      ]
    },
    {
      "cell_type": "code",
      "execution_count": 10,
      "metadata": {
        "colab": {
          "base_uri": "https://localhost:8080/"
        },
        "id": "Tyisg1xKpptU",
        "outputId": "ec5e2489-d5cb-4708-bd3a-d62da399877c"
      },
      "outputs": [
        {
          "output_type": "stream",
          "name": "stdout",
          "text": [
            "Drive already mounted at /content/drive; to attempt to forcibly remount, call drive.mount(\"/content/drive\", force_remount=True).\n"
          ]
        }
      ],
      "source": [
        "from google.colab import drive\n",
        "drive.mount('/content/drive') #구글 드라이브 연결"
      ]
    },
    {
      "cell_type": "code",
      "source": [
        "import sys\n",
        "sys.path.append('/content/drive/MyDrive/Colab Notebooks')\n",
        "# system 경로에 class_examples.py 파일이 들어있는 경로를 추가하여\n",
        "# 코랩이 해당 경로에 파일들을 탐색할수 있게 한다"
      ],
      "metadata": {
        "id": "BQCSQTwtpvpQ"
      },
      "execution_count": 36,
      "outputs": []
    },
    {
      "cell_type": "code",
      "source": [
        "#모듈화 한 class_examples.py 파일을 import하여 파일 안의 모든 클래스와 함수를 로드한다.\n",
        "#class_examples.py 파일이 Colab Notebooks 폴더에 저장이 되어 있어야 한다.\n",
        "import class_examples\n",
        "\n",
        "# 만약 class_examples 내에서 필요로 하는 특정 클래스나 함수만을 가져오고 싶다면\n",
        "# from class_examples import Student, StudentManager, Calculator\n",
        "# 와 같은 문법을 사용한다."
      ],
      "metadata": {
        "id": "MOd5SpKjqz2a"
      },
      "execution_count": 37,
      "outputs": []
    },
    {
      "cell_type": "code",
      "source": [
        "student1 = class_examples.Student(\"개똥이\",20,\"2025001\",\"Computer Science\")\n",
        "student2 = class_examples.Student(\"소똥이\",20,\"2025002\",\"Mathetics\")\n",
        "#클래스로 생성된 각각을 '객체' 또는 '인스턴스'라고 한다.\n",
        "\n",
        "student1.introduce_name()\n",
        "student1.introduce_age()\n",
        "student1.introduce(\"안녕하시렵니까요?\")"
      ],
      "metadata": {
        "colab": {
          "base_uri": "https://localhost:8080/"
        },
        "id": "j6Eb2Qagu3JL",
        "outputId": "6d4d0fb2-62ca-406d-e529-d429deccd95d"
      },
      "execution_count": 38,
      "outputs": [
        {
          "output_type": "stream",
          "name": "stdout",
          "text": [
            "제 이름은 개똥이입니다.\n",
            "제 나이는 20 입니다.\n",
            "안녕하시렵니까요? 저는 개똥이입니다. 20살이고 Computer Science 전공을 공부하고 있습니다.\n"
          ]
        }
      ]
    },
    {
      "cell_type": "code",
      "source": [
        "manager = class_examples.StudentManager()\n",
        "manager.add_student(student1)\n",
        "manager.add_student(student2)\n",
        "\n",
        "manager.count_students()\n",
        "manager.show_students()\n"
      ],
      "metadata": {
        "colab": {
          "base_uri": "https://localhost:8080/"
        },
        "id": "uqG-uZOyq4A_",
        "outputId": "a77bc3cb-9840-4dc9-fe36-334872976abc"
      },
      "execution_count": 39,
      "outputs": [
        {
          "output_type": "stream",
          "name": "stdout",
          "text": [
            "총 학생수는 2명 입니다.\n",
            "학생 목록:\n",
            "이름: 개똥이, 나이: 20, 학번: 2025001, 전공: Computer Science\n",
            "이름: 소똥이, 나이: 20, 학번: 2025002, 전공: Mathetics\n"
          ]
        }
      ]
    },
    {
      "cell_type": "code",
      "source": [
        "Calc1 = class_examples.Calculator(2025,\"10만원\",\"신관철\")\n",
        "Calc1.info()\n",
        "\n",
        "A = Calc1.add(3,2)\n",
        "B = Calc1.subtract(3,2)\n",
        "C = Calc1.average(1,2,3,4,5)\n",
        "print(\"A = \",A)\n",
        "print(\"B = \",B)\n",
        "print(\"C = \",C)"
      ],
      "metadata": {
        "colab": {
          "base_uri": "https://localhost:8080/"
        },
        "id": "IhmsfzJRwA_l",
        "outputId": "c345ded6-b98e-4fc4-c12e-2923dbd8d58b"
      },
      "execution_count": 40,
      "outputs": [
        {
          "output_type": "stream",
          "name": "stdout",
          "text": [
            "신관철 소유의 계산기 입니다. 2025년산 이며 가격은 10만원입니다.\n",
            "A =  5\n",
            "B =  1\n",
            "C =  3.0\n"
          ]
        }
      ]
    }
  ]
}